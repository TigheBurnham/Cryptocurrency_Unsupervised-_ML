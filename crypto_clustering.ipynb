{
 "cells": [
  {
   "cell_type": "markdown",
   "metadata": {},
   "source": [
    "# Clustering Crypto"
   ]
  },
  {
   "cell_type": "code",
   "execution_count": 38,
   "metadata": {},
   "outputs": [],
   "source": [
    "# Initial imports\n",
    "import pandas as pd\n",
    "import hvplot.pandas\n",
    "from path import Path\n",
    "import plotly.express as px\n",
    "from sklearn.preprocessing import StandardScaler, MinMaxScaler\n",
    "from sklearn.decomposition import PCA\n",
    "from sklearn.cluster import KMeans\n"
   ]
  },
  {
   "cell_type": "markdown",
   "metadata": {},
   "source": [
    "### Deliverable 1: Preprocessing the Data for PCA"
   ]
  },
  {
   "cell_type": "code",
   "execution_count": 39,
   "metadata": {},
   "outputs": [
    {
     "data": {
      "text/html": [
       "<div>\n",
       "<style scoped>\n",
       "    .dataframe tbody tr th:only-of-type {\n",
       "        vertical-align: middle;\n",
       "    }\n",
       "\n",
       "    .dataframe tbody tr th {\n",
       "        vertical-align: top;\n",
       "    }\n",
       "\n",
       "    .dataframe thead th {\n",
       "        text-align: right;\n",
       "    }\n",
       "</style>\n",
       "<table border=\"1\" class=\"dataframe\">\n",
       "  <thead>\n",
       "    <tr style=\"text-align: right;\">\n",
       "      <th></th>\n",
       "      <th>Unnamed: 0</th>\n",
       "      <th>CoinName</th>\n",
       "      <th>Algorithm</th>\n",
       "      <th>IsTrading</th>\n",
       "      <th>ProofType</th>\n",
       "      <th>TotalCoinsMined</th>\n",
       "      <th>TotalCoinSupply</th>\n",
       "    </tr>\n",
       "  </thead>\n",
       "  <tbody>\n",
       "    <tr>\n",
       "      <th>0</th>\n",
       "      <td>42</td>\n",
       "      <td>42 Coin</td>\n",
       "      <td>Scrypt</td>\n",
       "      <td>True</td>\n",
       "      <td>PoW/PoS</td>\n",
       "      <td>4.199995e+01</td>\n",
       "      <td>42</td>\n",
       "    </tr>\n",
       "    <tr>\n",
       "      <th>1</th>\n",
       "      <td>365</td>\n",
       "      <td>365Coin</td>\n",
       "      <td>X11</td>\n",
       "      <td>True</td>\n",
       "      <td>PoW/PoS</td>\n",
       "      <td>NaN</td>\n",
       "      <td>2300000000</td>\n",
       "    </tr>\n",
       "    <tr>\n",
       "      <th>2</th>\n",
       "      <td>404</td>\n",
       "      <td>404Coin</td>\n",
       "      <td>Scrypt</td>\n",
       "      <td>True</td>\n",
       "      <td>PoW/PoS</td>\n",
       "      <td>1.055185e+09</td>\n",
       "      <td>532000000</td>\n",
       "    </tr>\n",
       "    <tr>\n",
       "      <th>3</th>\n",
       "      <td>611</td>\n",
       "      <td>SixEleven</td>\n",
       "      <td>SHA-256</td>\n",
       "      <td>True</td>\n",
       "      <td>PoW</td>\n",
       "      <td>NaN</td>\n",
       "      <td>611000</td>\n",
       "    </tr>\n",
       "    <tr>\n",
       "      <th>4</th>\n",
       "      <td>808</td>\n",
       "      <td>808</td>\n",
       "      <td>SHA-256</td>\n",
       "      <td>True</td>\n",
       "      <td>PoW/PoS</td>\n",
       "      <td>0.000000e+00</td>\n",
       "      <td>0</td>\n",
       "    </tr>\n",
       "  </tbody>\n",
       "</table>\n",
       "</div>"
      ],
      "text/plain": [
       "  Unnamed: 0   CoinName Algorithm  IsTrading ProofType  TotalCoinsMined  \\\n",
       "0         42    42 Coin    Scrypt       True   PoW/PoS     4.199995e+01   \n",
       "1        365    365Coin       X11       True   PoW/PoS              NaN   \n",
       "2        404    404Coin    Scrypt       True   PoW/PoS     1.055185e+09   \n",
       "3        611  SixEleven   SHA-256       True       PoW              NaN   \n",
       "4        808        808   SHA-256       True   PoW/PoS     0.000000e+00   \n",
       "\n",
       "  TotalCoinSupply  \n",
       "0              42  \n",
       "1      2300000000  \n",
       "2       532000000  \n",
       "3          611000  \n",
       "4               0  "
      ]
     },
     "execution_count": 39,
     "metadata": {},
     "output_type": "execute_result"
    }
   ],
   "source": [
    "# Load the crypto_data.csv dataset.\n",
    "crypto_df = pd.read_csv('crypto_data.csv')\n",
    "crypto_df.head(5)"
   ]
  },
  {
   "cell_type": "code",
   "execution_count": 40,
   "metadata": {},
   "outputs": [],
   "source": [
    "# Keep all the cryptocurrencies that are being traded.\n",
    "crypto_df = crypto_df[crypto_df['IsTrading'] == True]"
   ]
  },
  {
   "cell_type": "code",
   "execution_count": 41,
   "metadata": {},
   "outputs": [],
   "source": [
    "# Remove the \"IsTrading\" column. \n",
    "crypto_df = crypto_df.drop(columns ='IsTrading')"
   ]
  },
  {
   "cell_type": "code",
   "execution_count": 42,
   "metadata": {},
   "outputs": [
    {
     "data": {
      "text/plain": [
       "Unnamed: 0         0\n",
       "CoinName           0\n",
       "Algorithm          0\n",
       "ProofType          0\n",
       "TotalCoinsMined    0\n",
       "TotalCoinSupply    0\n",
       "dtype: int64"
      ]
     },
     "execution_count": 42,
     "metadata": {},
     "output_type": "execute_result"
    }
   ],
   "source": [
    "# Remove rows that have at least 1 null value.\n",
    "crypto_df = crypto_df.dropna()\n",
    "crypto_df.isnull().sum()"
   ]
  },
  {
   "cell_type": "code",
   "execution_count": 43,
   "metadata": {},
   "outputs": [
    {
     "data": {
      "text/html": [
       "<div>\n",
       "<style scoped>\n",
       "    .dataframe tbody tr th:only-of-type {\n",
       "        vertical-align: middle;\n",
       "    }\n",
       "\n",
       "    .dataframe tbody tr th {\n",
       "        vertical-align: top;\n",
       "    }\n",
       "\n",
       "    .dataframe thead th {\n",
       "        text-align: right;\n",
       "    }\n",
       "</style>\n",
       "<table border=\"1\" class=\"dataframe\">\n",
       "  <thead>\n",
       "    <tr style=\"text-align: right;\">\n",
       "      <th></th>\n",
       "      <th>Unnamed: 0</th>\n",
       "      <th>CoinName</th>\n",
       "      <th>Algorithm</th>\n",
       "      <th>ProofType</th>\n",
       "      <th>TotalCoinsMined</th>\n",
       "      <th>TotalCoinSupply</th>\n",
       "    </tr>\n",
       "  </thead>\n",
       "  <tbody>\n",
       "    <tr>\n",
       "      <th>0</th>\n",
       "      <td>42</td>\n",
       "      <td>42 Coin</td>\n",
       "      <td>Scrypt</td>\n",
       "      <td>PoW/PoS</td>\n",
       "      <td>4.199995e+01</td>\n",
       "      <td>42</td>\n",
       "    </tr>\n",
       "    <tr>\n",
       "      <th>2</th>\n",
       "      <td>404</td>\n",
       "      <td>404Coin</td>\n",
       "      <td>Scrypt</td>\n",
       "      <td>PoW/PoS</td>\n",
       "      <td>1.055185e+09</td>\n",
       "      <td>532000000</td>\n",
       "    </tr>\n",
       "    <tr>\n",
       "      <th>5</th>\n",
       "      <td>1337</td>\n",
       "      <td>EliteCoin</td>\n",
       "      <td>X13</td>\n",
       "      <td>PoW/PoS</td>\n",
       "      <td>2.927942e+10</td>\n",
       "      <td>314159265359</td>\n",
       "    </tr>\n",
       "    <tr>\n",
       "      <th>7</th>\n",
       "      <td>BTC</td>\n",
       "      <td>Bitcoin</td>\n",
       "      <td>SHA-256</td>\n",
       "      <td>PoW</td>\n",
       "      <td>1.792718e+07</td>\n",
       "      <td>21000000</td>\n",
       "    </tr>\n",
       "    <tr>\n",
       "      <th>8</th>\n",
       "      <td>ETH</td>\n",
       "      <td>Ethereum</td>\n",
       "      <td>Ethash</td>\n",
       "      <td>PoW</td>\n",
       "      <td>1.076842e+08</td>\n",
       "      <td>0</td>\n",
       "    </tr>\n",
       "  </tbody>\n",
       "</table>\n",
       "</div>"
      ],
      "text/plain": [
       "  Unnamed: 0   CoinName Algorithm ProofType  TotalCoinsMined TotalCoinSupply\n",
       "0         42    42 Coin    Scrypt   PoW/PoS     4.199995e+01              42\n",
       "2        404    404Coin    Scrypt   PoW/PoS     1.055185e+09       532000000\n",
       "5       1337  EliteCoin       X13   PoW/PoS     2.927942e+10    314159265359\n",
       "7        BTC    Bitcoin   SHA-256       PoW     1.792718e+07        21000000\n",
       "8        ETH   Ethereum    Ethash       PoW     1.076842e+08               0"
      ]
     },
     "execution_count": 43,
     "metadata": {},
     "output_type": "execute_result"
    }
   ],
   "source": [
    "# Keep the rows where coins are mined.\n",
    "crypto_df = crypto_df[crypto_df[\"TotalCoinsMined\"]> 0]\n",
    "crypto_df.head(5)"
   ]
  },
  {
   "cell_type": "code",
   "execution_count": 44,
   "metadata": {},
   "outputs": [
    {
     "data": {
      "text/html": [
       "<div>\n",
       "<style scoped>\n",
       "    .dataframe tbody tr th:only-of-type {\n",
       "        vertical-align: middle;\n",
       "    }\n",
       "\n",
       "    .dataframe tbody tr th {\n",
       "        vertical-align: top;\n",
       "    }\n",
       "\n",
       "    .dataframe thead th {\n",
       "        text-align: right;\n",
       "    }\n",
       "</style>\n",
       "<table border=\"1\" class=\"dataframe\">\n",
       "  <thead>\n",
       "    <tr style=\"text-align: right;\">\n",
       "      <th></th>\n",
       "      <th>CoinName</th>\n",
       "    </tr>\n",
       "  </thead>\n",
       "  <tbody>\n",
       "    <tr>\n",
       "      <th>0</th>\n",
       "      <td>42 Coin</td>\n",
       "    </tr>\n",
       "    <tr>\n",
       "      <th>1</th>\n",
       "      <td>404Coin</td>\n",
       "    </tr>\n",
       "    <tr>\n",
       "      <th>2</th>\n",
       "      <td>EliteCoin</td>\n",
       "    </tr>\n",
       "    <tr>\n",
       "      <th>3</th>\n",
       "      <td>Bitcoin</td>\n",
       "    </tr>\n",
       "    <tr>\n",
       "      <th>4</th>\n",
       "      <td>Ethereum</td>\n",
       "    </tr>\n",
       "    <tr>\n",
       "      <th>...</th>\n",
       "      <td>...</td>\n",
       "    </tr>\n",
       "    <tr>\n",
       "      <th>527</th>\n",
       "      <td>ZEPHYR</td>\n",
       "    </tr>\n",
       "    <tr>\n",
       "      <th>528</th>\n",
       "      <td>Gapcoin</td>\n",
       "    </tr>\n",
       "    <tr>\n",
       "      <th>529</th>\n",
       "      <td>Beldex</td>\n",
       "    </tr>\n",
       "    <tr>\n",
       "      <th>530</th>\n",
       "      <td>Horizen</td>\n",
       "    </tr>\n",
       "    <tr>\n",
       "      <th>531</th>\n",
       "      <td>BitcoinPlus</td>\n",
       "    </tr>\n",
       "  </tbody>\n",
       "</table>\n",
       "<p>532 rows × 1 columns</p>\n",
       "</div>"
      ],
      "text/plain": [
       "        CoinName\n",
       "0        42 Coin\n",
       "1        404Coin\n",
       "2      EliteCoin\n",
       "3        Bitcoin\n",
       "4       Ethereum\n",
       "..           ...\n",
       "527       ZEPHYR\n",
       "528      Gapcoin\n",
       "529       Beldex\n",
       "530      Horizen\n",
       "531  BitcoinPlus\n",
       "\n",
       "[532 rows x 1 columns]"
      ]
     },
     "execution_count": 44,
     "metadata": {},
     "output_type": "execute_result"
    }
   ],
   "source": [
    "# Create a new DataFrame that holds only the cryptocurrencies names.\n",
    "CoinName_df= pd.DataFrame(crypto_df['CoinName']).reset_index(drop=True)\n",
    "CoinName_df"
   ]
  },
  {
   "cell_type": "code",
   "execution_count": 45,
   "metadata": {},
   "outputs": [
    {
     "data": {
      "text/html": [
       "<div>\n",
       "<style scoped>\n",
       "    .dataframe tbody tr th:only-of-type {\n",
       "        vertical-align: middle;\n",
       "    }\n",
       "\n",
       "    .dataframe tbody tr th {\n",
       "        vertical-align: top;\n",
       "    }\n",
       "\n",
       "    .dataframe thead th {\n",
       "        text-align: right;\n",
       "    }\n",
       "</style>\n",
       "<table border=\"1\" class=\"dataframe\">\n",
       "  <thead>\n",
       "    <tr style=\"text-align: right;\">\n",
       "      <th></th>\n",
       "      <th>Algorithm</th>\n",
       "      <th>ProofType</th>\n",
       "      <th>TotalCoinsMined</th>\n",
       "      <th>TotalCoinSupply</th>\n",
       "    </tr>\n",
       "  </thead>\n",
       "  <tbody>\n",
       "    <tr>\n",
       "      <th>0</th>\n",
       "      <td>Scrypt</td>\n",
       "      <td>PoW/PoS</td>\n",
       "      <td>4.199995e+01</td>\n",
       "      <td>42</td>\n",
       "    </tr>\n",
       "    <tr>\n",
       "      <th>2</th>\n",
       "      <td>Scrypt</td>\n",
       "      <td>PoW/PoS</td>\n",
       "      <td>1.055185e+09</td>\n",
       "      <td>532000000</td>\n",
       "    </tr>\n",
       "    <tr>\n",
       "      <th>5</th>\n",
       "      <td>X13</td>\n",
       "      <td>PoW/PoS</td>\n",
       "      <td>2.927942e+10</td>\n",
       "      <td>314159265359</td>\n",
       "    </tr>\n",
       "    <tr>\n",
       "      <th>7</th>\n",
       "      <td>SHA-256</td>\n",
       "      <td>PoW</td>\n",
       "      <td>1.792718e+07</td>\n",
       "      <td>21000000</td>\n",
       "    </tr>\n",
       "    <tr>\n",
       "      <th>8</th>\n",
       "      <td>Ethash</td>\n",
       "      <td>PoW</td>\n",
       "      <td>1.076842e+08</td>\n",
       "      <td>0</td>\n",
       "    </tr>\n",
       "    <tr>\n",
       "      <th>...</th>\n",
       "      <td>...</td>\n",
       "      <td>...</td>\n",
       "      <td>...</td>\n",
       "      <td>...</td>\n",
       "    </tr>\n",
       "    <tr>\n",
       "      <th>1238</th>\n",
       "      <td>SHA-256</td>\n",
       "      <td>DPoS</td>\n",
       "      <td>2.000000e+09</td>\n",
       "      <td>2000000000</td>\n",
       "    </tr>\n",
       "    <tr>\n",
       "      <th>1242</th>\n",
       "      <td>Scrypt</td>\n",
       "      <td>PoW/PoS</td>\n",
       "      <td>1.493105e+07</td>\n",
       "      <td>250000000</td>\n",
       "    </tr>\n",
       "    <tr>\n",
       "      <th>1245</th>\n",
       "      <td>CryptoNight</td>\n",
       "      <td>PoW</td>\n",
       "      <td>9.802226e+08</td>\n",
       "      <td>1400222610</td>\n",
       "    </tr>\n",
       "    <tr>\n",
       "      <th>1246</th>\n",
       "      <td>Equihash</td>\n",
       "      <td>PoW</td>\n",
       "      <td>7.296538e+06</td>\n",
       "      <td>21000000</td>\n",
       "    </tr>\n",
       "    <tr>\n",
       "      <th>1247</th>\n",
       "      <td>Scrypt</td>\n",
       "      <td>PoS</td>\n",
       "      <td>1.283270e+05</td>\n",
       "      <td>1000000</td>\n",
       "    </tr>\n",
       "  </tbody>\n",
       "</table>\n",
       "<p>532 rows × 4 columns</p>\n",
       "</div>"
      ],
      "text/plain": [
       "        Algorithm ProofType  TotalCoinsMined TotalCoinSupply\n",
       "0          Scrypt   PoW/PoS     4.199995e+01              42\n",
       "2          Scrypt   PoW/PoS     1.055185e+09       532000000\n",
       "5             X13   PoW/PoS     2.927942e+10    314159265359\n",
       "7         SHA-256       PoW     1.792718e+07        21000000\n",
       "8          Ethash       PoW     1.076842e+08               0\n",
       "...           ...       ...              ...             ...\n",
       "1238      SHA-256      DPoS     2.000000e+09      2000000000\n",
       "1242       Scrypt   PoW/PoS     1.493105e+07       250000000\n",
       "1245  CryptoNight       PoW     9.802226e+08      1400222610\n",
       "1246     Equihash       PoW     7.296538e+06        21000000\n",
       "1247       Scrypt       PoS     1.283270e+05         1000000\n",
       "\n",
       "[532 rows x 4 columns]"
      ]
     },
     "execution_count": 45,
     "metadata": {},
     "output_type": "execute_result"
    }
   ],
   "source": [
    "# Drop the 'CoinName' column since it's not going to be used on the clustering algorithm.\n",
    "crypto_df = crypto_df.drop(columns=['CoinName','Unnamed: 0'])\n",
    "crypto_df"
   ]
  },
  {
   "cell_type": "code",
   "execution_count": 46,
   "metadata": {},
   "outputs": [
    {
     "data": {
      "text/html": [
       "<div>\n",
       "<style scoped>\n",
       "    .dataframe tbody tr th:only-of-type {\n",
       "        vertical-align: middle;\n",
       "    }\n",
       "\n",
       "    .dataframe tbody tr th {\n",
       "        vertical-align: top;\n",
       "    }\n",
       "\n",
       "    .dataframe thead th {\n",
       "        text-align: right;\n",
       "    }\n",
       "</style>\n",
       "<table border=\"1\" class=\"dataframe\">\n",
       "  <thead>\n",
       "    <tr style=\"text-align: right;\">\n",
       "      <th></th>\n",
       "      <th>TotalCoinsMined</th>\n",
       "      <th>TotalCoinSupply</th>\n",
       "      <th>Algorithm_1GB AES Pattern Search</th>\n",
       "      <th>Algorithm_536</th>\n",
       "      <th>Algorithm_Argon2d</th>\n",
       "      <th>Algorithm_BLAKE256</th>\n",
       "      <th>Algorithm_Blake</th>\n",
       "      <th>Algorithm_Blake2S</th>\n",
       "      <th>Algorithm_Blake2b</th>\n",
       "      <th>Algorithm_C11</th>\n",
       "      <th>...</th>\n",
       "      <th>ProofType_PoW/PoS</th>\n",
       "      <th>ProofType_PoW/PoS</th>\n",
       "      <th>ProofType_PoW/PoW</th>\n",
       "      <th>ProofType_PoW/nPoS</th>\n",
       "      <th>ProofType_Pos</th>\n",
       "      <th>ProofType_Proof of Authority</th>\n",
       "      <th>ProofType_Proof of Trust</th>\n",
       "      <th>ProofType_TPoS</th>\n",
       "      <th>ProofType_Zero-Knowledge Proof</th>\n",
       "      <th>ProofType_dPoW/PoW</th>\n",
       "    </tr>\n",
       "  </thead>\n",
       "  <tbody>\n",
       "    <tr>\n",
       "      <th>0</th>\n",
       "      <td>4.199995e+01</td>\n",
       "      <td>42</td>\n",
       "      <td>0</td>\n",
       "      <td>0</td>\n",
       "      <td>0</td>\n",
       "      <td>0</td>\n",
       "      <td>0</td>\n",
       "      <td>0</td>\n",
       "      <td>0</td>\n",
       "      <td>0</td>\n",
       "      <td>...</td>\n",
       "      <td>1</td>\n",
       "      <td>0</td>\n",
       "      <td>0</td>\n",
       "      <td>0</td>\n",
       "      <td>0</td>\n",
       "      <td>0</td>\n",
       "      <td>0</td>\n",
       "      <td>0</td>\n",
       "      <td>0</td>\n",
       "      <td>0</td>\n",
       "    </tr>\n",
       "    <tr>\n",
       "      <th>2</th>\n",
       "      <td>1.055185e+09</td>\n",
       "      <td>532000000</td>\n",
       "      <td>0</td>\n",
       "      <td>0</td>\n",
       "      <td>0</td>\n",
       "      <td>0</td>\n",
       "      <td>0</td>\n",
       "      <td>0</td>\n",
       "      <td>0</td>\n",
       "      <td>0</td>\n",
       "      <td>...</td>\n",
       "      <td>1</td>\n",
       "      <td>0</td>\n",
       "      <td>0</td>\n",
       "      <td>0</td>\n",
       "      <td>0</td>\n",
       "      <td>0</td>\n",
       "      <td>0</td>\n",
       "      <td>0</td>\n",
       "      <td>0</td>\n",
       "      <td>0</td>\n",
       "    </tr>\n",
       "    <tr>\n",
       "      <th>5</th>\n",
       "      <td>2.927942e+10</td>\n",
       "      <td>314159265359</td>\n",
       "      <td>0</td>\n",
       "      <td>0</td>\n",
       "      <td>0</td>\n",
       "      <td>0</td>\n",
       "      <td>0</td>\n",
       "      <td>0</td>\n",
       "      <td>0</td>\n",
       "      <td>0</td>\n",
       "      <td>...</td>\n",
       "      <td>1</td>\n",
       "      <td>0</td>\n",
       "      <td>0</td>\n",
       "      <td>0</td>\n",
       "      <td>0</td>\n",
       "      <td>0</td>\n",
       "      <td>0</td>\n",
       "      <td>0</td>\n",
       "      <td>0</td>\n",
       "      <td>0</td>\n",
       "    </tr>\n",
       "    <tr>\n",
       "      <th>7</th>\n",
       "      <td>1.792718e+07</td>\n",
       "      <td>21000000</td>\n",
       "      <td>0</td>\n",
       "      <td>0</td>\n",
       "      <td>0</td>\n",
       "      <td>0</td>\n",
       "      <td>0</td>\n",
       "      <td>0</td>\n",
       "      <td>0</td>\n",
       "      <td>0</td>\n",
       "      <td>...</td>\n",
       "      <td>0</td>\n",
       "      <td>0</td>\n",
       "      <td>0</td>\n",
       "      <td>0</td>\n",
       "      <td>0</td>\n",
       "      <td>0</td>\n",
       "      <td>0</td>\n",
       "      <td>0</td>\n",
       "      <td>0</td>\n",
       "      <td>0</td>\n",
       "    </tr>\n",
       "    <tr>\n",
       "      <th>8</th>\n",
       "      <td>1.076842e+08</td>\n",
       "      <td>0</td>\n",
       "      <td>0</td>\n",
       "      <td>0</td>\n",
       "      <td>0</td>\n",
       "      <td>0</td>\n",
       "      <td>0</td>\n",
       "      <td>0</td>\n",
       "      <td>0</td>\n",
       "      <td>0</td>\n",
       "      <td>...</td>\n",
       "      <td>0</td>\n",
       "      <td>0</td>\n",
       "      <td>0</td>\n",
       "      <td>0</td>\n",
       "      <td>0</td>\n",
       "      <td>0</td>\n",
       "      <td>0</td>\n",
       "      <td>0</td>\n",
       "      <td>0</td>\n",
       "      <td>0</td>\n",
       "    </tr>\n",
       "    <tr>\n",
       "      <th>...</th>\n",
       "      <td>...</td>\n",
       "      <td>...</td>\n",
       "      <td>...</td>\n",
       "      <td>...</td>\n",
       "      <td>...</td>\n",
       "      <td>...</td>\n",
       "      <td>...</td>\n",
       "      <td>...</td>\n",
       "      <td>...</td>\n",
       "      <td>...</td>\n",
       "      <td>...</td>\n",
       "      <td>...</td>\n",
       "      <td>...</td>\n",
       "      <td>...</td>\n",
       "      <td>...</td>\n",
       "      <td>...</td>\n",
       "      <td>...</td>\n",
       "      <td>...</td>\n",
       "      <td>...</td>\n",
       "      <td>...</td>\n",
       "      <td>...</td>\n",
       "    </tr>\n",
       "    <tr>\n",
       "      <th>1238</th>\n",
       "      <td>2.000000e+09</td>\n",
       "      <td>2000000000</td>\n",
       "      <td>0</td>\n",
       "      <td>0</td>\n",
       "      <td>0</td>\n",
       "      <td>0</td>\n",
       "      <td>0</td>\n",
       "      <td>0</td>\n",
       "      <td>0</td>\n",
       "      <td>0</td>\n",
       "      <td>...</td>\n",
       "      <td>0</td>\n",
       "      <td>0</td>\n",
       "      <td>0</td>\n",
       "      <td>0</td>\n",
       "      <td>0</td>\n",
       "      <td>0</td>\n",
       "      <td>0</td>\n",
       "      <td>0</td>\n",
       "      <td>0</td>\n",
       "      <td>0</td>\n",
       "    </tr>\n",
       "    <tr>\n",
       "      <th>1242</th>\n",
       "      <td>1.493105e+07</td>\n",
       "      <td>250000000</td>\n",
       "      <td>0</td>\n",
       "      <td>0</td>\n",
       "      <td>0</td>\n",
       "      <td>0</td>\n",
       "      <td>0</td>\n",
       "      <td>0</td>\n",
       "      <td>0</td>\n",
       "      <td>0</td>\n",
       "      <td>...</td>\n",
       "      <td>1</td>\n",
       "      <td>0</td>\n",
       "      <td>0</td>\n",
       "      <td>0</td>\n",
       "      <td>0</td>\n",
       "      <td>0</td>\n",
       "      <td>0</td>\n",
       "      <td>0</td>\n",
       "      <td>0</td>\n",
       "      <td>0</td>\n",
       "    </tr>\n",
       "    <tr>\n",
       "      <th>1245</th>\n",
       "      <td>9.802226e+08</td>\n",
       "      <td>1400222610</td>\n",
       "      <td>0</td>\n",
       "      <td>0</td>\n",
       "      <td>0</td>\n",
       "      <td>0</td>\n",
       "      <td>0</td>\n",
       "      <td>0</td>\n",
       "      <td>0</td>\n",
       "      <td>0</td>\n",
       "      <td>...</td>\n",
       "      <td>0</td>\n",
       "      <td>0</td>\n",
       "      <td>0</td>\n",
       "      <td>0</td>\n",
       "      <td>0</td>\n",
       "      <td>0</td>\n",
       "      <td>0</td>\n",
       "      <td>0</td>\n",
       "      <td>0</td>\n",
       "      <td>0</td>\n",
       "    </tr>\n",
       "    <tr>\n",
       "      <th>1246</th>\n",
       "      <td>7.296538e+06</td>\n",
       "      <td>21000000</td>\n",
       "      <td>0</td>\n",
       "      <td>0</td>\n",
       "      <td>0</td>\n",
       "      <td>0</td>\n",
       "      <td>0</td>\n",
       "      <td>0</td>\n",
       "      <td>0</td>\n",
       "      <td>0</td>\n",
       "      <td>...</td>\n",
       "      <td>0</td>\n",
       "      <td>0</td>\n",
       "      <td>0</td>\n",
       "      <td>0</td>\n",
       "      <td>0</td>\n",
       "      <td>0</td>\n",
       "      <td>0</td>\n",
       "      <td>0</td>\n",
       "      <td>0</td>\n",
       "      <td>0</td>\n",
       "    </tr>\n",
       "    <tr>\n",
       "      <th>1247</th>\n",
       "      <td>1.283270e+05</td>\n",
       "      <td>1000000</td>\n",
       "      <td>0</td>\n",
       "      <td>0</td>\n",
       "      <td>0</td>\n",
       "      <td>0</td>\n",
       "      <td>0</td>\n",
       "      <td>0</td>\n",
       "      <td>0</td>\n",
       "      <td>0</td>\n",
       "      <td>...</td>\n",
       "      <td>0</td>\n",
       "      <td>0</td>\n",
       "      <td>0</td>\n",
       "      <td>0</td>\n",
       "      <td>0</td>\n",
       "      <td>0</td>\n",
       "      <td>0</td>\n",
       "      <td>0</td>\n",
       "      <td>0</td>\n",
       "      <td>0</td>\n",
       "    </tr>\n",
       "  </tbody>\n",
       "</table>\n",
       "<p>532 rows × 98 columns</p>\n",
       "</div>"
      ],
      "text/plain": [
       "      TotalCoinsMined TotalCoinSupply  Algorithm_1GB AES Pattern Search  \\\n",
       "0        4.199995e+01              42                                 0   \n",
       "2        1.055185e+09       532000000                                 0   \n",
       "5        2.927942e+10    314159265359                                 0   \n",
       "7        1.792718e+07        21000000                                 0   \n",
       "8        1.076842e+08               0                                 0   \n",
       "...               ...             ...                               ...   \n",
       "1238     2.000000e+09      2000000000                                 0   \n",
       "1242     1.493105e+07       250000000                                 0   \n",
       "1245     9.802226e+08      1400222610                                 0   \n",
       "1246     7.296538e+06        21000000                                 0   \n",
       "1247     1.283270e+05         1000000                                 0   \n",
       "\n",
       "      Algorithm_536  Algorithm_Argon2d  Algorithm_BLAKE256  Algorithm_Blake  \\\n",
       "0                 0                  0                   0                0   \n",
       "2                 0                  0                   0                0   \n",
       "5                 0                  0                   0                0   \n",
       "7                 0                  0                   0                0   \n",
       "8                 0                  0                   0                0   \n",
       "...             ...                ...                 ...              ...   \n",
       "1238              0                  0                   0                0   \n",
       "1242              0                  0                   0                0   \n",
       "1245              0                  0                   0                0   \n",
       "1246              0                  0                   0                0   \n",
       "1247              0                  0                   0                0   \n",
       "\n",
       "      Algorithm_Blake2S  Algorithm_Blake2b  Algorithm_C11  ...  \\\n",
       "0                     0                  0              0  ...   \n",
       "2                     0                  0              0  ...   \n",
       "5                     0                  0              0  ...   \n",
       "7                     0                  0              0  ...   \n",
       "8                     0                  0              0  ...   \n",
       "...                 ...                ...            ...  ...   \n",
       "1238                  0                  0              0  ...   \n",
       "1242                  0                  0              0  ...   \n",
       "1245                  0                  0              0  ...   \n",
       "1246                  0                  0              0  ...   \n",
       "1247                  0                  0              0  ...   \n",
       "\n",
       "      ProofType_PoW/PoS  ProofType_PoW/PoS   ProofType_PoW/PoW  \\\n",
       "0                     1                   0                  0   \n",
       "2                     1                   0                  0   \n",
       "5                     1                   0                  0   \n",
       "7                     0                   0                  0   \n",
       "8                     0                   0                  0   \n",
       "...                 ...                 ...                ...   \n",
       "1238                  0                   0                  0   \n",
       "1242                  1                   0                  0   \n",
       "1245                  0                   0                  0   \n",
       "1246                  0                   0                  0   \n",
       "1247                  0                   0                  0   \n",
       "\n",
       "      ProofType_PoW/nPoS  ProofType_Pos  ProofType_Proof of Authority  \\\n",
       "0                      0              0                             0   \n",
       "2                      0              0                             0   \n",
       "5                      0              0                             0   \n",
       "7                      0              0                             0   \n",
       "8                      0              0                             0   \n",
       "...                  ...            ...                           ...   \n",
       "1238                   0              0                             0   \n",
       "1242                   0              0                             0   \n",
       "1245                   0              0                             0   \n",
       "1246                   0              0                             0   \n",
       "1247                   0              0                             0   \n",
       "\n",
       "      ProofType_Proof of Trust  ProofType_TPoS  \\\n",
       "0                            0               0   \n",
       "2                            0               0   \n",
       "5                            0               0   \n",
       "7                            0               0   \n",
       "8                            0               0   \n",
       "...                        ...             ...   \n",
       "1238                         0               0   \n",
       "1242                         0               0   \n",
       "1245                         0               0   \n",
       "1246                         0               0   \n",
       "1247                         0               0   \n",
       "\n",
       "      ProofType_Zero-Knowledge Proof  ProofType_dPoW/PoW  \n",
       "0                                  0                   0  \n",
       "2                                  0                   0  \n",
       "5                                  0                   0  \n",
       "7                                  0                   0  \n",
       "8                                  0                   0  \n",
       "...                              ...                 ...  \n",
       "1238                               0                   0  \n",
       "1242                               0                   0  \n",
       "1245                               0                   0  \n",
       "1246                               0                   0  \n",
       "1247                               0                   0  \n",
       "\n",
       "[532 rows x 98 columns]"
      ]
     },
     "execution_count": 46,
     "metadata": {},
     "output_type": "execute_result"
    }
   ],
   "source": [
    "# Use get_dummies() to create variables for text features.\n",
    "X = pd.get_dummies(crypto_df, columns=[\"Algorithm\", \"ProofType\"])\n",
    "X"
   ]
  },
  {
   "cell_type": "code",
   "execution_count": 47,
   "metadata": {},
   "outputs": [],
   "source": [
    "# Standardize the data with StandardScaler().\n",
    "scaler = StandardScaler()\n",
    "crypto_scaled_df = scaler.fit_transform(X)"
   ]
  },
  {
   "cell_type": "markdown",
   "metadata": {},
   "source": [
    "### Deliverable 2: Reducing Data Dimensions Using PCA"
   ]
  },
  {
   "cell_type": "code",
   "execution_count": 48,
   "metadata": {},
   "outputs": [],
   "source": [
    "# Using PCA to reduce dimension to three principal components.\n",
    "pca = PCA(n_components=3)"
   ]
  },
  {
   "cell_type": "code",
   "execution_count": 49,
   "metadata": {},
   "outputs": [
    {
     "data": {
      "text/html": [
       "<div>\n",
       "<style scoped>\n",
       "    .dataframe tbody tr th:only-of-type {\n",
       "        vertical-align: middle;\n",
       "    }\n",
       "\n",
       "    .dataframe tbody tr th {\n",
       "        vertical-align: top;\n",
       "    }\n",
       "\n",
       "    .dataframe thead th {\n",
       "        text-align: right;\n",
       "    }\n",
       "</style>\n",
       "<table border=\"1\" class=\"dataframe\">\n",
       "  <thead>\n",
       "    <tr style=\"text-align: right;\">\n",
       "      <th></th>\n",
       "      <th>PC 1</th>\n",
       "      <th>PC 2</th>\n",
       "      <th>PC 3</th>\n",
       "    </tr>\n",
       "  </thead>\n",
       "  <tbody>\n",
       "    <tr>\n",
       "      <th>0</th>\n",
       "      <td>-0.340160</td>\n",
       "      <td>1.009353</td>\n",
       "      <td>-0.564642</td>\n",
       "    </tr>\n",
       "    <tr>\n",
       "      <th>1</th>\n",
       "      <td>-0.323478</td>\n",
       "      <td>1.009457</td>\n",
       "      <td>-0.565056</td>\n",
       "    </tr>\n",
       "    <tr>\n",
       "      <th>2</th>\n",
       "      <td>2.310773</td>\n",
       "      <td>1.670443</td>\n",
       "      <td>-0.636884</td>\n",
       "    </tr>\n",
       "    <tr>\n",
       "      <th>3</th>\n",
       "      <td>-0.145998</td>\n",
       "      <td>-1.283214</td>\n",
       "      <td>0.192660</td>\n",
       "    </tr>\n",
       "    <tr>\n",
       "      <th>4</th>\n",
       "      <td>-0.154052</td>\n",
       "      <td>-2.017638</td>\n",
       "      <td>0.376377</td>\n",
       "    </tr>\n",
       "    <tr>\n",
       "      <th>...</th>\n",
       "      <td>...</td>\n",
       "      <td>...</td>\n",
       "      <td>...</td>\n",
       "    </tr>\n",
       "    <tr>\n",
       "      <th>527</th>\n",
       "      <td>2.458660</td>\n",
       "      <td>0.874525</td>\n",
       "      <td>0.033171</td>\n",
       "    </tr>\n",
       "    <tr>\n",
       "      <th>528</th>\n",
       "      <td>-0.338202</td>\n",
       "      <td>1.009229</td>\n",
       "      <td>-0.564671</td>\n",
       "    </tr>\n",
       "    <tr>\n",
       "      <th>529</th>\n",
       "      <td>0.323647</td>\n",
       "      <td>-2.297084</td>\n",
       "      <td>0.425038</td>\n",
       "    </tr>\n",
       "    <tr>\n",
       "      <th>530</th>\n",
       "      <td>-0.146656</td>\n",
       "      <td>-2.085408</td>\n",
       "      <td>0.462847</td>\n",
       "    </tr>\n",
       "    <tr>\n",
       "      <th>531</th>\n",
       "      <td>-0.293133</td>\n",
       "      <td>0.787850</td>\n",
       "      <td>-0.264617</td>\n",
       "    </tr>\n",
       "  </tbody>\n",
       "</table>\n",
       "<p>532 rows × 3 columns</p>\n",
       "</div>"
      ],
      "text/plain": [
       "         PC 1      PC 2      PC 3\n",
       "0   -0.340160  1.009353 -0.564642\n",
       "1   -0.323478  1.009457 -0.565056\n",
       "2    2.310773  1.670443 -0.636884\n",
       "3   -0.145998 -1.283214  0.192660\n",
       "4   -0.154052 -2.017638  0.376377\n",
       "..        ...       ...       ...\n",
       "527  2.458660  0.874525  0.033171\n",
       "528 -0.338202  1.009229 -0.564671\n",
       "529  0.323647 -2.297084  0.425038\n",
       "530 -0.146656 -2.085408  0.462847\n",
       "531 -0.293133  0.787850 -0.264617\n",
       "\n",
       "[532 rows x 3 columns]"
      ]
     },
     "execution_count": 49,
     "metadata": {},
     "output_type": "execute_result"
    }
   ],
   "source": [
    "# Create a DataFrame with the three principal components.\n",
    "crypto_pca = pca.fit_transform(crypto_scaled_df)\n",
    "pcs_df = pd.DataFrame(data=crypto_pca, columns=[\"PC 1\", \"PC 2\", \"PC 3\"])\n",
    "pcs_df"
   ]
  },
  {
   "cell_type": "markdown",
   "metadata": {},
   "source": [
    "### Deliverable 3: Clustering Crytocurrencies Using K-Means\n",
    "\n",
    "#### Finding the Best Value for `k` Using the Elbow Curve"
   ]
  },
  {
   "cell_type": "code",
   "execution_count": 50,
   "metadata": {},
   "outputs": [
    {
     "name": "stderr",
     "output_type": "stream",
     "text": [
      "c:\\Users\\TBurnham-Laptop\\anaconda3\\lib\\site-packages\\sklearn\\cluster\\_kmeans.py:1036: UserWarning: KMeans is known to have a memory leak on Windows with MKL, when there are less chunks than available threads. You can avoid it by setting the environment variable OMP_NUM_THREADS=3.\n",
      "  warnings.warn(\n"
     ]
    },
    {
     "data": {},
     "metadata": {},
     "output_type": "display_data"
    },
    {
     "data": {
      "application/vnd.holoviews_exec.v0+json": "",
      "text/html": [
       "<div id='1120'>\n",
       "\n",
       "\n",
       "\n",
       "\n",
       "\n",
       "  <div class=\"bk-root\" id=\"678f2554-fcd3-4050-81ba-4fd1ee9938b9\" data-root-id=\"1120\"></div>\n",
       "</div>\n",
       "<script type=\"application/javascript\">(function(root) {\n",
       "  function embed_document(root) {\n",
       "    var docs_json = {\"c0f44fad-3f28-45ce-a3a8-1df2465df43f\":{\"defs\":[{\"extends\":null,\"module\":null,\"name\":\"ReactiveHTML1\",\"overrides\":[],\"properties\":[]},{\"extends\":null,\"module\":null,\"name\":\"FlexBox1\",\"overrides\":[],\"properties\":[{\"default\":\"flex-start\",\"kind\":null,\"name\":\"align_content\"},{\"default\":\"flex-start\",\"kind\":null,\"name\":\"align_items\"},{\"default\":\"row\",\"kind\":null,\"name\":\"flex_direction\"},{\"default\":\"wrap\",\"kind\":null,\"name\":\"flex_wrap\"},{\"default\":\"flex-start\",\"kind\":null,\"name\":\"justify_content\"}]},{\"extends\":null,\"module\":null,\"name\":\"GridStack1\",\"overrides\":[],\"properties\":[{\"default\":\"warn\",\"kind\":null,\"name\":\"mode\"},{\"default\":null,\"kind\":null,\"name\":\"ncols\"},{\"default\":null,\"kind\":null,\"name\":\"nrows\"},{\"default\":true,\"kind\":null,\"name\":\"allow_resize\"},{\"default\":true,\"kind\":null,\"name\":\"allow_drag\"},{\"default\":[],\"kind\":null,\"name\":\"state\"}]},{\"extends\":null,\"module\":null,\"name\":\"click1\",\"overrides\":[],\"properties\":[{\"default\":\"\",\"kind\":null,\"name\":\"terminal_output\"},{\"default\":\"\",\"kind\":null,\"name\":\"debug_name\"},{\"default\":0,\"kind\":null,\"name\":\"clears\"}]},{\"extends\":null,\"module\":null,\"name\":\"TemplateActions1\",\"overrides\":[],\"properties\":[{\"default\":0,\"kind\":null,\"name\":\"open_modal\"},{\"default\":0,\"kind\":null,\"name\":\"close_modal\"}]},{\"extends\":null,\"module\":null,\"name\":\"MaterialTemplateActions1\",\"overrides\":[],\"properties\":[{\"default\":0,\"kind\":null,\"name\":\"open_modal\"},{\"default\":0,\"kind\":null,\"name\":\"close_modal\"}]}],\"roots\":{\"references\":[{\"attributes\":{},\"id\":\"1166\",\"type\":\"BasicTickFormatter\"},{\"attributes\":{},\"id\":\"1132\",\"type\":\"LinearScale\"},{\"attributes\":{},\"id\":\"1179\",\"type\":\"UnionRenderers\"},{\"attributes\":{\"line_color\":\"#30a2da\",\"line_width\":2,\"x\":{\"field\":\"k\"},\"y\":{\"field\":\"inertia\"}},\"id\":\"1158\",\"type\":\"Line\"},{\"attributes\":{},\"id\":\"1171\",\"type\":\"BasicTickFormatter\"},{\"attributes\":{\"axis_label\":\"k\",\"coordinates\":null,\"formatter\":{\"id\":\"1166\"},\"group\":null,\"major_label_policy\":{\"id\":\"1167\"},\"ticker\":{\"id\":\"1164\"}},\"id\":\"1134\",\"type\":\"LinearAxis\"},{\"attributes\":{\"line_alpha\":0.1,\"line_color\":\"#30a2da\",\"line_width\":2,\"x\":{\"field\":\"k\"},\"y\":{\"field\":\"inertia\"}},\"id\":\"1159\",\"type\":\"Line\"},{\"attributes\":{\"margin\":[5,5,5,5],\"name\":\"HSpacer02052\",\"sizing_mode\":\"stretch_width\"},\"id\":\"1191\",\"type\":\"Spacer\"},{\"attributes\":{\"axis\":{\"id\":\"1138\"},\"coordinates\":null,\"dimension\":1,\"grid_line_color\":null,\"group\":null,\"ticker\":null},\"id\":\"1141\",\"type\":\"Grid\"},{\"attributes\":{},\"id\":\"1143\",\"type\":\"PanTool\"},{\"attributes\":{\"axis_label\":\"inertia\",\"coordinates\":null,\"formatter\":{\"id\":\"1171\"},\"group\":null,\"major_label_policy\":{\"id\":\"1172\"},\"ticker\":{\"id\":\"1139\"}},\"id\":\"1138\",\"type\":\"LinearAxis\"},{\"attributes\":{\"line_color\":\"#30a2da\",\"line_width\":2,\"x\":{\"field\":\"k\"},\"y\":{\"field\":\"inertia\"}},\"id\":\"1163\",\"type\":\"Line\"},{\"attributes\":{},\"id\":\"1139\",\"type\":\"BasicTicker\"},{\"attributes\":{},\"id\":\"1156\",\"type\":\"Selection\"},{\"attributes\":{},\"id\":\"1144\",\"type\":\"WheelZoomTool\"},{\"attributes\":{},\"id\":\"1142\",\"type\":\"SaveTool\"},{\"attributes\":{\"end\":10.0,\"reset_end\":10.0,\"reset_start\":1.0,\"start\":1.0,\"tags\":[[[\"k\",\"k\",null]]]},\"id\":\"1122\",\"type\":\"Range1d\"},{\"attributes\":{\"line_alpha\":0.2,\"line_color\":\"#30a2da\",\"line_width\":2,\"x\":{\"field\":\"k\"},\"y\":{\"field\":\"inertia\"}},\"id\":\"1160\",\"type\":\"Line\"},{\"attributes\":{\"children\":[{\"id\":\"1121\"},{\"id\":\"1125\"},{\"id\":\"1191\"}],\"margin\":[0,0,0,0],\"name\":\"Row02047\",\"tags\":[\"embedded\"]},\"id\":\"1120\",\"type\":\"Row\"},{\"attributes\":{\"overlay\":{\"id\":\"1147\"}},\"id\":\"1145\",\"type\":\"BoxZoomTool\"},{\"attributes\":{\"coordinates\":null,\"data_source\":{\"id\":\"1155\"},\"glyph\":{\"id\":\"1158\"},\"group\":null,\"hover_glyph\":null,\"muted_glyph\":{\"id\":\"1160\"},\"nonselection_glyph\":{\"id\":\"1159\"},\"selection_glyph\":{\"id\":\"1163\"},\"view\":{\"id\":\"1162\"}},\"id\":\"1161\",\"type\":\"GlyphRenderer\"},{\"attributes\":{},\"id\":\"1146\",\"type\":\"ResetTool\"},{\"attributes\":{\"source\":{\"id\":\"1155\"}},\"id\":\"1162\",\"type\":\"CDSView\"},{\"attributes\":{\"bottom_units\":\"screen\",\"coordinates\":null,\"fill_alpha\":0.5,\"fill_color\":\"lightgrey\",\"group\":null,\"left_units\":\"screen\",\"level\":\"overlay\",\"line_alpha\":1.0,\"line_color\":\"black\",\"line_dash\":[4,4],\"line_width\":2,\"right_units\":\"screen\",\"syncable\":false,\"top_units\":\"screen\"},\"id\":\"1147\",\"type\":\"BoxAnnotation\"},{\"attributes\":{\"tools\":[{\"id\":\"1124\"},{\"id\":\"1142\"},{\"id\":\"1143\"},{\"id\":\"1144\"},{\"id\":\"1145\"},{\"id\":\"1146\"}]},\"id\":\"1148\",\"type\":\"Toolbar\"},{\"attributes\":{},\"id\":\"1130\",\"type\":\"LinearScale\"},{\"attributes\":{\"ticks\":[1,2,3,4,5,6,7,8,9,10]},\"id\":\"1164\",\"type\":\"FixedTicker\"},{\"attributes\":{\"margin\":[5,5,5,5],\"name\":\"HSpacer02051\",\"sizing_mode\":\"stretch_width\"},\"id\":\"1121\",\"type\":\"Spacer\"},{\"attributes\":{},\"id\":\"1167\",\"type\":\"AllLabels\"},{\"attributes\":{\"callback\":null,\"renderers\":[{\"id\":\"1161\"}],\"tags\":[\"hv_created\"],\"tooltips\":[[\"k\",\"@{k}\"],[\"inertia\",\"@{inertia}\"]]},\"id\":\"1124\",\"type\":\"HoverTool\"},{\"attributes\":{},\"id\":\"1172\",\"type\":\"AllLabels\"},{\"attributes\":{\"end\":3996.833836677166,\"reset_end\":3996.833836677166,\"reset_start\":-266.1502905423983,\"start\":-266.1502905423983,\"tags\":[[[\"inertia\",\"inertia\",null]]]},\"id\":\"1123\",\"type\":\"Range1d\"},{\"attributes\":{\"data\":{\"inertia\":{\"__ndarray__\":\"FJgDmitzrEBSZVv+y1SjQCU61mt7spZABbMhaWDufEDQdZ/Oh/xwQNRN8UCULWpA2sD3suzHY0BOyzOmovNfQOtC/rL5j1lAH4bW90tGVkA=\",\"dtype\":\"float64\",\"order\":\"little\",\"shape\":[10]},\"k\":[1,2,3,4,5,6,7,8,9,10]},\"selected\":{\"id\":\"1156\"},\"selection_policy\":{\"id\":\"1179\"}},\"id\":\"1155\",\"type\":\"ColumnDataSource\"},{\"attributes\":{\"coordinates\":null,\"group\":null,\"text\":\"Elbow Curve\",\"text_color\":\"black\",\"text_font_size\":\"12pt\"},\"id\":\"1126\",\"type\":\"Title\"},{\"attributes\":{\"axis\":{\"id\":\"1134\"},\"coordinates\":null,\"grid_line_color\":null,\"group\":null,\"ticker\":null},\"id\":\"1137\",\"type\":\"Grid\"},{\"attributes\":{\"below\":[{\"id\":\"1134\"}],\"center\":[{\"id\":\"1137\"},{\"id\":\"1141\"}],\"height\":300,\"left\":[{\"id\":\"1138\"}],\"margin\":[5,5,5,5],\"min_border_bottom\":10,\"min_border_left\":10,\"min_border_right\":10,\"min_border_top\":10,\"renderers\":[{\"id\":\"1161\"}],\"sizing_mode\":\"fixed\",\"title\":{\"id\":\"1126\"},\"toolbar\":{\"id\":\"1148\"},\"width\":700,\"x_range\":{\"id\":\"1122\"},\"x_scale\":{\"id\":\"1130\"},\"y_range\":{\"id\":\"1123\"},\"y_scale\":{\"id\":\"1132\"}},\"id\":\"1125\",\"subtype\":\"Figure\",\"type\":\"Plot\"}],\"root_ids\":[\"1120\"]},\"title\":\"Bokeh Application\",\"version\":\"2.4.2\"}};\n",
       "    var render_items = [{\"docid\":\"c0f44fad-3f28-45ce-a3a8-1df2465df43f\",\"root_ids\":[\"1120\"],\"roots\":{\"1120\":\"678f2554-fcd3-4050-81ba-4fd1ee9938b9\"}}];\n",
       "    root.Bokeh.embed.embed_items_notebook(docs_json, render_items);\n",
       "  }\n",
       "  if (root.Bokeh !== undefined && root.Bokeh.Panel !== undefined) {\n",
       "    embed_document(root);\n",
       "  } else {\n",
       "    var attempts = 0;\n",
       "    var timer = setInterval(function(root) {\n",
       "      if (root.Bokeh !== undefined && root.Bokeh.Panel !== undefined) {\n",
       "        clearInterval(timer);\n",
       "        embed_document(root);\n",
       "      } else if (document.readyState == \"complete\") {\n",
       "        attempts++;\n",
       "        if (attempts > 200) {\n",
       "          clearInterval(timer);\n",
       "          console.log(\"Bokeh: ERROR: Unable to run BokehJS code because BokehJS library is missing\");\n",
       "        }\n",
       "      }\n",
       "    }, 25, root)\n",
       "  }\n",
       "})(window);</script>"
      ],
      "text/plain": [
       ":Curve   [k]   (inertia)"
      ]
     },
     "execution_count": 50,
     "metadata": {
      "application/vnd.holoviews_exec.v0+json": {
       "id": "1120"
      }
     },
     "output_type": "execute_result"
    }
   ],
   "source": [
    "# Create an elbow curve to find the best value for K.\n",
    "# Initialize the K-Means model.\n",
    "inertia = []\n",
    "k = list(range(1,11))\n",
    "\n",
    "# Fit the model\n",
    "for i in k:\n",
    "    model = KMeans(n_clusters=i, random_state=0)\n",
    "    model.fit(pcs_df)\n",
    "    inertia.append(model.inertia_)\n",
    "\n",
    "# Define a DataFrame to plot the Elbow Curve using hvPlot\n",
    "elbow_data = {\"k\": k, \"inertia\": inertia}\n",
    "df_elbow = pd.DataFrame(elbow_data)\n",
    "df_elbow.hvplot.line(\n",
    "    x=\"k\",\n",
    "    y=\"inertia\",\n",
    "    title=\"Elbow Curve\",\n",
    "    xticks=k\n",
    ")"
   ]
  },
  {
   "cell_type": "markdown",
   "metadata": {},
   "source": [
    "Running K-Means with `k=4`"
   ]
  },
  {
   "cell_type": "code",
   "execution_count": 66,
   "metadata": {},
   "outputs": [
    {
     "data": {
      "text/html": [
       "<div>\n",
       "<style scoped>\n",
       "    .dataframe tbody tr th:only-of-type {\n",
       "        vertical-align: middle;\n",
       "    }\n",
       "\n",
       "    .dataframe tbody tr th {\n",
       "        vertical-align: top;\n",
       "    }\n",
       "\n",
       "    .dataframe thead th {\n",
       "        text-align: right;\n",
       "    }\n",
       "</style>\n",
       "<table border=\"1\" class=\"dataframe\">\n",
       "  <thead>\n",
       "    <tr style=\"text-align: right;\">\n",
       "      <th></th>\n",
       "      <th>Predictions</th>\n",
       "    </tr>\n",
       "  </thead>\n",
       "  <tbody>\n",
       "    <tr>\n",
       "      <th>0</th>\n",
       "      <td>9</td>\n",
       "    </tr>\n",
       "    <tr>\n",
       "      <th>1</th>\n",
       "      <td>9</td>\n",
       "    </tr>\n",
       "    <tr>\n",
       "      <th>2</th>\n",
       "      <td>6</td>\n",
       "    </tr>\n",
       "    <tr>\n",
       "      <th>3</th>\n",
       "      <td>8</td>\n",
       "    </tr>\n",
       "    <tr>\n",
       "      <th>4</th>\n",
       "      <td>1</td>\n",
       "    </tr>\n",
       "    <tr>\n",
       "      <th>...</th>\n",
       "      <td>...</td>\n",
       "    </tr>\n",
       "    <tr>\n",
       "      <th>527</th>\n",
       "      <td>6</td>\n",
       "    </tr>\n",
       "    <tr>\n",
       "      <th>528</th>\n",
       "      <td>9</td>\n",
       "    </tr>\n",
       "    <tr>\n",
       "      <th>529</th>\n",
       "      <td>1</td>\n",
       "    </tr>\n",
       "    <tr>\n",
       "      <th>530</th>\n",
       "      <td>1</td>\n",
       "    </tr>\n",
       "    <tr>\n",
       "      <th>531</th>\n",
       "      <td>9</td>\n",
       "    </tr>\n",
       "  </tbody>\n",
       "</table>\n",
       "<p>532 rows × 1 columns</p>\n",
       "</div>"
      ],
      "text/plain": [
       "     Predictions\n",
       "0              9\n",
       "1              9\n",
       "2              6\n",
       "3              8\n",
       "4              1\n",
       "..           ...\n",
       "527            6\n",
       "528            9\n",
       "529            1\n",
       "530            1\n",
       "531            9\n",
       "\n",
       "[532 rows x 1 columns]"
      ]
     },
     "execution_count": 66,
     "metadata": {},
     "output_type": "execute_result"
    }
   ],
   "source": [
    "# Predict clusters\n",
    "predictions = model.predict(pcs_df)\n",
    "predictions_df= pd.DataFrame(data=predictions, columns=['Predictions'])\n",
    "predictions_df"
   ]
  },
  {
   "cell_type": "code",
   "execution_count": 75,
   "metadata": {},
   "outputs": [
    {
     "name": "stdout",
     "output_type": "stream",
     "text": [
      "(205, 9)\n"
     ]
    },
    {
     "data": {
      "text/html": [
       "<div>\n",
       "<style scoped>\n",
       "    .dataframe tbody tr th:only-of-type {\n",
       "        vertical-align: middle;\n",
       "    }\n",
       "\n",
       "    .dataframe tbody tr th {\n",
       "        vertical-align: top;\n",
       "    }\n",
       "\n",
       "    .dataframe thead th {\n",
       "        text-align: right;\n",
       "    }\n",
       "</style>\n",
       "<table border=\"1\" class=\"dataframe\">\n",
       "  <thead>\n",
       "    <tr style=\"text-align: right;\">\n",
       "      <th></th>\n",
       "      <th>Algorithm</th>\n",
       "      <th>ProofType</th>\n",
       "      <th>TotalCoinsMined</th>\n",
       "      <th>TotalCoinSupply</th>\n",
       "      <th>PC 1</th>\n",
       "      <th>PC 2</th>\n",
       "      <th>PC 3</th>\n",
       "      <th>CoinName</th>\n",
       "      <th>Class</th>\n",
       "    </tr>\n",
       "  </thead>\n",
       "  <tbody>\n",
       "    <tr>\n",
       "      <th>0</th>\n",
       "      <td>Scrypt</td>\n",
       "      <td>PoW/PoS</td>\n",
       "      <td>4.199995e+01</td>\n",
       "      <td>42</td>\n",
       "      <td>-0.340160</td>\n",
       "      <td>1.009353</td>\n",
       "      <td>-0.564642</td>\n",
       "      <td>42 Coin</td>\n",
       "      <td>9</td>\n",
       "    </tr>\n",
       "    <tr>\n",
       "      <th>2</th>\n",
       "      <td>Scrypt</td>\n",
       "      <td>PoW/PoS</td>\n",
       "      <td>1.055185e+09</td>\n",
       "      <td>532000000</td>\n",
       "      <td>2.310773</td>\n",
       "      <td>1.670443</td>\n",
       "      <td>-0.636884</td>\n",
       "      <td>EliteCoin</td>\n",
       "      <td>6</td>\n",
       "    </tr>\n",
       "    <tr>\n",
       "      <th>5</th>\n",
       "      <td>X13</td>\n",
       "      <td>PoW/PoS</td>\n",
       "      <td>2.927942e+10</td>\n",
       "      <td>314159265359</td>\n",
       "      <td>-0.170756</td>\n",
       "      <td>-1.150382</td>\n",
       "      <td>-0.004224</td>\n",
       "      <td>Litecoin</td>\n",
       "      <td>8</td>\n",
       "    </tr>\n",
       "    <tr>\n",
       "      <th>7</th>\n",
       "      <td>SHA-256</td>\n",
       "      <td>PoW</td>\n",
       "      <td>1.792718e+07</td>\n",
       "      <td>21000000</td>\n",
       "      <td>-0.147040</td>\n",
       "      <td>-2.188571</td>\n",
       "      <td>0.394534</td>\n",
       "      <td>Monero</td>\n",
       "      <td>1</td>\n",
       "    </tr>\n",
       "    <tr>\n",
       "      <th>8</th>\n",
       "      <td>Ethash</td>\n",
       "      <td>PoW</td>\n",
       "      <td>1.076842e+08</td>\n",
       "      <td>0</td>\n",
       "      <td>-0.152492</td>\n",
       "      <td>-2.017745</td>\n",
       "      <td>0.376355</td>\n",
       "      <td>Ethereum Classic</td>\n",
       "      <td>1</td>\n",
       "    </tr>\n",
       "    <tr>\n",
       "      <th>9</th>\n",
       "      <td>Scrypt</td>\n",
       "      <td>PoW</td>\n",
       "      <td>6.303924e+07</td>\n",
       "      <td>84000000</td>\n",
       "      <td>-0.146655</td>\n",
       "      <td>-2.085408</td>\n",
       "      <td>0.462847</td>\n",
       "      <td>ZCash</td>\n",
       "      <td>1</td>\n",
       "    </tr>\n",
       "    <tr>\n",
       "      <th>10</th>\n",
       "      <td>X11</td>\n",
       "      <td>PoW/PoS</td>\n",
       "      <td>9.031294e+06</td>\n",
       "      <td>22000000</td>\n",
       "      <td>-0.287001</td>\n",
       "      <td>1.633827</td>\n",
       "      <td>-0.024259</td>\n",
       "      <td>Bitshares</td>\n",
       "      <td>0</td>\n",
       "    </tr>\n",
       "    <tr>\n",
       "      <th>11</th>\n",
       "      <td>CryptoNight-V7</td>\n",
       "      <td>PoW</td>\n",
       "      <td>1.720114e+07</td>\n",
       "      <td>0</td>\n",
       "      <td>0.161310</td>\n",
       "      <td>-1.820476</td>\n",
       "      <td>0.375453</td>\n",
       "      <td>DigiByte</td>\n",
       "      <td>1</td>\n",
       "    </tr>\n",
       "    <tr>\n",
       "      <th>12</th>\n",
       "      <td>Ethash</td>\n",
       "      <td>PoW</td>\n",
       "      <td>1.133597e+08</td>\n",
       "      <td>210000000</td>\n",
       "      <td>-0.314230</td>\n",
       "      <td>0.876495</td>\n",
       "      <td>-0.367783</td>\n",
       "      <td>BitcoinDark</td>\n",
       "      <td>9</td>\n",
       "    </tr>\n",
       "    <tr>\n",
       "      <th>13</th>\n",
       "      <td>Equihash</td>\n",
       "      <td>PoW</td>\n",
       "      <td>7.383056e+06</td>\n",
       "      <td>21000000</td>\n",
       "      <td>-0.267149</td>\n",
       "      <td>0.655001</td>\n",
       "      <td>-0.067760</td>\n",
       "      <td>PayCoin</td>\n",
       "      <td>9</td>\n",
       "    </tr>\n",
       "  </tbody>\n",
       "</table>\n",
       "</div>"
      ],
      "text/plain": [
       "         Algorithm ProofType  TotalCoinsMined TotalCoinSupply      PC 1  \\\n",
       "0           Scrypt   PoW/PoS     4.199995e+01              42 -0.340160   \n",
       "2           Scrypt   PoW/PoS     1.055185e+09       532000000  2.310773   \n",
       "5              X13   PoW/PoS     2.927942e+10    314159265359 -0.170756   \n",
       "7          SHA-256       PoW     1.792718e+07        21000000 -0.147040   \n",
       "8           Ethash       PoW     1.076842e+08               0 -0.152492   \n",
       "9           Scrypt       PoW     6.303924e+07        84000000 -0.146655   \n",
       "10             X11   PoW/PoS     9.031294e+06        22000000 -0.287001   \n",
       "11  CryptoNight-V7       PoW     1.720114e+07               0  0.161310   \n",
       "12          Ethash       PoW     1.133597e+08       210000000 -0.314230   \n",
       "13        Equihash       PoW     7.383056e+06        21000000 -0.267149   \n",
       "\n",
       "        PC 2      PC 3          CoinName  Class  \n",
       "0   1.009353 -0.564642           42 Coin      9  \n",
       "2   1.670443 -0.636884         EliteCoin      6  \n",
       "5  -1.150382 -0.004224          Litecoin      8  \n",
       "7  -2.188571  0.394534            Monero      1  \n",
       "8  -2.017745  0.376355  Ethereum Classic      1  \n",
       "9  -2.085408  0.462847             ZCash      1  \n",
       "10  1.633827 -0.024259         Bitshares      0  \n",
       "11 -1.820476  0.375453          DigiByte      1  \n",
       "12  0.876495 -0.367783       BitcoinDark      9  \n",
       "13  0.655001 -0.067760           PayCoin      9  "
      ]
     },
     "execution_count": 75,
     "metadata": {},
     "output_type": "execute_result"
    }
   ],
   "source": [
    "# Create a new DataFrame including predicted clusters and cryptocurrencies features.\n",
    "# Concatentate the crypto_df and pcs_df DataFrames on the same columns.\n",
    "clustered_df = pd.concat([crypto_df, pcs_df], axis=1, join='inner')\n",
    "\n",
    "#  Add a new column, \"CoinName\" to the clustered_df DataFrame that holds the names of the cryptocurrencies. \n",
    "clustered_df[\"CoinName\"] = CoinName_df.CoinName\n",
    "\n",
    "#  Add a new column, \"Class\" to the clustered_df DataFrame that holds the predictions.\n",
    "clustered_df[\"Class\"] = predictions_df\n",
    "\n",
    "# Print the shape of the clustered_df\n",
    "print(clustered_df.shape)\n",
    "clustered_df.head(10)"
   ]
  },
  {
   "cell_type": "markdown",
   "metadata": {},
   "source": [
    "### Deliverable 4: Visualizing Cryptocurrencies Results\n",
    "\n",
    "#### 3D-Scatter with Clusters"
   ]
  },
  {
   "cell_type": "code",
   "execution_count": 70,
   "metadata": {},
   "outputs": [
    {
     "data": {
      "application/vnd.plotly.v1+json": {
       "config": {
        "plotlyServerURL": "https://plot.ly"
       },
       "data": [
        {
         "customdata": [
          [
           "Scrypt"
          ],
          [
           "Ethash"
          ],
          [
           "Equihash"
          ],
          [
           "SHA-256"
          ],
          [
           "Scrypt"
          ],
          [
           "Quark"
          ],
          [
           "Scrypt"
          ],
          [
           "Scrypt"
          ],
          [
           "Groestl"
          ],
          [
           "Scrypt"
          ],
          [
           "Scrypt"
          ],
          [
           "X11"
          ],
          [
           "Scrypt"
          ],
          [
           "Scrypt"
          ],
          [
           "Scrypt"
          ],
          [
           "X13"
          ],
          [
           "Scrypt"
          ],
          [
           "Scrypt"
          ],
          [
           "Scrypt"
          ],
          [
           "Scrypt"
          ],
          [
           "Scrypt"
          ],
          [
           "X11"
          ],
          [
           "X11"
          ],
          [
           "PHI1612"
          ],
          [
           "SHA-256"
          ],
          [
           "SHA-256"
          ],
          [
           "X11"
          ],
          [
           "Scrypt"
          ],
          [
           "Lyra2REv2"
          ],
          [
           "Shabal256"
          ],
          [
           "Scrypt"
          ],
          [
           "SHA-256"
          ],
          [
           "Scrypt"
          ],
          [
           "Scrypt"
          ],
          [
           "Scrypt"
          ],
          [
           "X13"
          ],
          [
           "Scrypt"
          ],
          [
           "X13"
          ],
          [
           "Scrypt"
          ],
          [
           "Multiple"
          ],
          [
           "M7 POW"
          ],
          [
           "Scrypt"
          ],
          [
           "SHA-256"
          ],
          [
           "Scrypt"
          ],
          [
           "X13"
          ],
          [
           "SHA-256"
          ],
          [
           "BLAKE256"
          ],
          [
           "SHA-256"
          ],
          [
           "Scrypt"
          ],
          [
           "X11GOST"
          ],
          [
           "X11"
          ],
          [
           "Scrypt"
          ],
          [
           "Scrypt"
          ],
          [
           "SHA-256"
          ],
          [
           "X11"
          ],
          [
           "X13"
          ],
          [
           "Scrypt"
          ],
          [
           "CryptoNight"
          ],
          [
           "Scrypt"
          ],
          [
           "X14"
          ]
         ],
         "hovertemplate": "<b>%{hovertext}</b><br><br>Class=%{marker.color}<br>PC 1=%{x}<br>PC 2=%{y}<br>PC 3=%{z}<br>Algorithm=%{customdata[0]}<extra></extra>",
         "hovertext": [
          "42 Coin",
          "BitcoinDark",
          "PayCoin",
          "BlueCoin",
          "HoboNickels",
          "HyperStake",
          "MazaCoin",
          "Nautilus Coin",
          "SuperCoin",
          "Crypti",
          "BurstCoin",
          "Dnotes",
          "8BIT Coin",
          "Vtorrent",
          "Squall Coin",
          "Emercoin",
          "Decred",
          "EDRCoin",
          "BillaryCoin",
          "SafeExchangeCoin",
          "Clockcoin",
          "iBankCoin",
          "Frankywillcoin",
          "CarterCoin",
          "BitTokens",
          "ZoneCoin",
          "RootCoin",
          "BitCurrency",
          "PesoBit",
          "AquariusCoin",
          "Eurocoin",
          "Stakenet",
          "Russiacoin",
          "PandaCoin",
          "GameUnits",
          "GAKHcoin",
          "Klingon Empire Darsek",
          "Internet of People",
          "Impeach",
          "OpenChat",
          "LomoCoin",
          "GrowthCoin",
          "Draftcoin",
          "Rupee",
          "Theresa May Coin",
          "BlackholeCoin",
          "Infinity Economics",
          "Cash & Back Coin",
          "LiteCoin Ultra",
          "Litecoin Plus",
          "Monkey Project",
          "My Big Coin",
          "Unified Society USDEX",
          "MedicCoin",
          "HollyWoodCoin",
          "Absolute Coin",
          "MMOCoin",
          "ThunderStake",
          "Dash Platinum",
          "TigerCash"
         ],
         "legendgroup": "9",
         "marker": {
          "color": [
           9,
           9,
           9,
           9,
           9,
           9,
           9,
           9,
           9,
           9,
           9,
           9,
           9,
           9,
           9,
           9,
           9,
           9,
           9,
           9,
           9,
           9,
           9,
           9,
           9,
           9,
           9,
           9,
           9,
           9,
           9,
           9,
           9,
           9,
           9,
           9,
           9,
           9,
           9,
           9,
           9,
           9,
           9,
           9,
           9,
           9,
           9,
           9,
           9,
           9,
           9,
           9,
           9,
           9,
           9,
           9,
           9,
           9,
           9,
           9
          ],
          "coloraxis": "coloraxis",
          "symbol": "circle"
         },
         "mode": "markers",
         "name": "9",
         "scene": "scene",
         "showlegend": true,
         "type": "scatter3d",
         "x": [
          -0.34015957691585585,
          -0.31423006387026714,
          -0.26714882685865604,
          -0.33238852794974805,
          -0.3382159923005589,
          -0.3232775917225018,
          -0.27749142153449224,
          -0.29282909944434415,
          -0.34318526503323765,
          -0.24705858503640868,
          0.03226195512517005,
          -0.2874564798104211,
          -0.3401416264584727,
          -0.3398756758891103,
          -0.3131478610897258,
          -0.3067764219782622,
          -0.0736657090006113,
          -0.31420094701262663,
          -0.3397513688483967,
          -0.06194471159051252,
          -0.3104712614507048,
          -0.33978950096920735,
          -0.3382267094746246,
          -0.33899276863478,
          -0.3142456433274109,
          -0.33997892255305884,
          -0.34013585344850955,
          -0.29106769570330504,
          -0.3397496016981941,
          -0.33983146324465147,
          -0.3141081733742841,
          -0.3498640694551326,
          -0.33903486667354354,
          0.351205606984394,
          -0.3400248175061501,
          -0.34009548789474153,
          -0.3363170017284694,
          -0.3142220320449649,
          -0.34000010465101854,
          -0.3208308951973052,
          -0.3330544899551086,
          -0.27533447064220695,
          -0.29279002687047645,
          -0.31585880580621467,
          -0.31256635183706555,
          -0.3398544869831248,
          -0.09342612083157507,
          -0.33731157720895044,
          -0.33899176494450095,
          -0.3401005526966957,
          -0.3436024271681442,
          -0.29416533886066076,
          -0.3356405143766217,
          -0.28632337810738545,
          -0.2924838911920177,
          -0.36280468426293716,
          -0.2899781837577069,
          -0.19941513460183294,
          -0.34365680293792505,
          -0.248055580952119
         ],
         "y": [
          1.009353132406899,
          0.8764947743755896,
          0.6550006769971117,
          1.009581304547713,
          1.009323256785856,
          1.0512321258716526,
          0.875836659791045,
          0.7878477474467496,
          1.0506476004296144,
          0.12451417482355369,
          0.9690367754210245,
          0.7876549583344407,
          1.0093536594953634,
          1.009346977816154,
          0.7442074463331889,
          0.8760050428103298,
          1.0001469024830258,
          0.8764956292994079,
          1.0093346881786172,
          0.46170599171959875,
          0.8762407042974669,
          1.0093318779956018,
          1.0093374325810724,
          1.0093221849283722,
          0.8764950414579801,
          1.0093432217830518,
          1.0093538290014203,
          0.7879111882503766,
          1.0093651700542678,
          1.0093323364616869,
          0.8764998023490037,
          0.7844090820528364,
          1.0092818245820439,
          0.783211675954648,
          1.0093476704122448,
          1.0093526118401828,
          1.009103695650449,
          0.8764957347281124,
          1.0093419236164534,
          1.0091961340892306,
          1.0088372271482948,
          0.7869240972197146,
          0.7878480065014399,
          0.6462194256479081,
          0.8764871111457443,
          1.0093513759776707,
          0.6535898357725749,
          1.0092846049363267,
          1.009278742985811,
          1.0093519674014197,
          1.0506201367972838,
          0.1786794592330696,
          1.009317730857842,
          0.7876882282582285,
          0.787850768566742,
          0.8677037314520128,
          0.787754802177892,
          1.0004442210455884,
          1.0506194821065422,
          0.6548458223703183
         ],
         "z": [
          -0.5646421224615912,
          -0.36778260953352415,
          -0.06776041619730823,
          -0.5648610822889318,
          -0.5646841353198148,
          -0.25785210552552634,
          -0.36856306254507337,
          -0.2646242232586286,
          -0.257291179884598,
          0.1208947329764984,
          -0.3638595122499876,
          -0.26472419711123546,
          -0.5646426282444876,
          -0.5646479967161733,
          -0.37917380086475827,
          -0.3678887112538282,
          -0.35490747231906816,
          -0.36778342994039837,
          -0.5646491616851638,
          -0.36507365737728137,
          -0.36783507398307824,
          -0.5646478393390995,
          -0.5646859583945052,
          -0.5646654361635807,
          -0.3677822768135109,
          -0.5646449813493915,
          -0.5646427909068572,
          -0.2646755723549952,
          -0.5646536740727214,
          -0.56464690491714,
          -0.367786256467787,
          -0.5727416825093655,
          -0.5646585123713039,
          -0.2793177079721987,
          -0.5646445382151986,
          -0.5646435759508334,
          -0.5646972660835666,
          -0.36778294209335227,
          -0.5646442853463525,
          -0.5650804819564215,
          -0.564736065629262,
          -0.26490637270874523,
          -0.2646251939275498,
          -0.03877711023129746,
          -0.3678211991941797,
          -0.5646491474998314,
          -0.07170034622096563,
          -0.5647000557340731,
          -0.5646590893071862,
          -0.5646433605442052,
          -0.25727719447895614,
          -0.34846384992406154,
          -0.564744802641055,
          -0.2647561237853923,
          -0.264632906571006,
          -0.338801098684711,
          -0.26467864523625473,
          -0.56669524661044,
          -0.2572758004960062,
          -0.06819347011848924
         ]
        },
        {
         "customdata": [
          [
           "Scrypt"
          ],
          [
           "Scrypt"
          ]
         ],
         "hovertemplate": "<b>%{hovertext}</b><br><br>Class=%{marker.color}<br>PC 1=%{x}<br>PC 2=%{y}<br>PC 3=%{z}<br>Algorithm=%{customdata[0]}<extra></extra>",
         "hovertext": [
          "EliteCoin",
          "Lamden Tau"
         ],
         "legendgroup": "6",
         "marker": {
          "color": [
           6,
           6
          ],
          "coloraxis": "coloraxis",
          "symbol": "diamond"
         },
         "mode": "markers",
         "name": "6",
         "scene": "scene",
         "showlegend": true,
         "type": "scatter3d",
         "x": [
          2.3107725379362107,
          3.6994930271611244
         ],
         "y": [
          1.6704434797390622,
          1.9252600063551017
         ],
         "z": [
          -0.6368842196847275,
          0.10691701292715289
         ]
        },
        {
         "customdata": [
          [
           "X13"
          ],
          [
           "SHA-512"
          ],
          [
           "SHA-256"
          ],
          [
           "X15"
          ],
          [
           "X11"
          ],
          [
           "Scrypt"
          ],
          [
           "Scrypt"
          ],
          [
           "Multiple"
          ],
          [
           "SHA-256"
          ],
          [
           "Scrypt"
          ],
          [
           "Scrypt"
          ],
          [
           "Scrypt"
          ],
          [
           "Scrypt"
          ],
          [
           "X11"
          ],
          [
           "Scrypt"
          ],
          [
           "SHA-256"
          ],
          [
           "Scrypt"
          ],
          [
           "Scrypt"
          ],
          [
           "PoS"
          ],
          [
           "Scrypt"
          ],
          [
           "Scrypt"
          ],
          [
           "SHA-256"
          ],
          [
           "Scrypt"
          ],
          [
           "Scrypt"
          ],
          [
           "Scrypt"
          ],
          [
           "NeoScrypt"
          ],
          [
           "Scrypt"
          ],
          [
           "Scrypt"
          ],
          [
           "Scrypt"
          ],
          [
           "Scrypt"
          ],
          [
           "Scrypt"
          ],
          [
           "Scrypt"
          ],
          [
           "Counterparty"
          ],
          [
           "Scrypt"
          ],
          [
           "QuBit"
          ],
          [
           "SHA-256"
          ],
          [
           "X11"
          ],
          [
           "X11"
          ],
          [
           "X11"
          ],
          [
           "X15"
          ],
          [
           "X11"
          ],
          [
           "X11"
          ],
          [
           "SHA-256"
          ],
          [
           "Scrypt"
          ],
          [
           "X11"
          ],
          [
           "SHA-256"
          ],
          [
           "Multiple"
          ],
          [
           "SHA-256"
          ],
          [
           "PoS"
          ],
          [
           "Scrypt"
          ],
          [
           "Lyra2Z"
          ],
          [
           "PoS"
          ]
         ],
         "hovertemplate": "<b>%{hovertext}</b><br><br>Class=%{marker.color}<br>PC 1=%{x}<br>PC 2=%{y}<br>PC 3=%{z}<br>Algorithm=%{customdata[0]}<extra></extra>",
         "hovertext": [
          "Litecoin",
          "ProsperCoin",
          "Spreadcoin",
          "Quatloo",
          "Riecoin",
          "DevCoin",
          "E-Gulden",
          "Franko",
          "GrandCoin",
          "GlobalCoin",
          "GoldCoin",
          "KrugerCoin",
          "MinCoin",
          "RonPaulCoin",
          "StableCoin",
          "TigerCoin",
          "UnbreakableCoin",
          "Unobtanium",
          "UroCoin",
          "JouleCoin",
          "PesetaCoin",
          "ArtByte",
          "SoonCoin",
          "Anarchists Prime",
          "BitZeny",
          "Gamecredits",
          "CarpeDiemCoin",
          "Adzcoin",
          "YoCoin",
          "DopeCoin",
          "Shilling",
          "KiloCoin",
          "Kurrent",
          "OsmiumCoin",
          "Canada eCoin",
          "EquiTrader",
          "DAS",
          "Sojourn Coin",
          "Kronecoin",
          "eBoost",
          "Photon",
          "Poseidon",
          "FuturoCoin",
          "Axe",
          "HexCoin",
          "Xchange",
          "Bitcoin SV",
          "SLICE",
          "Bitcoin Rhodium",
          "GlobalToken",
          "Groestlcoin",
          "Pakcoin"
         ],
         "legendgroup": "8",
         "marker": {
          "color": [
           8,
           8,
           8,
           8,
           8,
           8,
           8,
           8,
           8,
           8,
           8,
           8,
           8,
           8,
           8,
           8,
           8,
           8,
           8,
           8,
           8,
           8,
           8,
           8,
           8,
           8,
           8,
           8,
           8,
           8,
           8,
           8,
           8,
           8,
           8,
           8,
           8,
           8,
           8,
           8,
           8,
           8,
           8,
           8,
           8,
           8,
           8,
           8,
           8,
           8,
           8,
           8
          ],
          "coloraxis": "coloraxis",
          "symbol": "square"
         },
         "mode": "markers",
         "name": "8",
         "scene": "scene",
         "showlegend": true,
         "type": "scatter3d",
         "x": [
          -0.17075644011127442,
          -0.17190408228859388,
          -0.22250893549259945,
          -0.171323824490646,
          -0.19829372519446153,
          0.2323111253752574,
          -0.17171889796118825,
          -0.1720299674615773,
          -0.1512262344801717,
          -0.17082361907105093,
          -0.1711013620405049,
          -0.16838732962654948,
          -0.17198173200663297,
          -0.17196112352021534,
          -0.17005281760597235,
          -0.14549995232180643,
          -0.14577035248453693,
          -0.14636189959481297,
          -0.22277250790929076,
          -0.14556732513916212,
          -0.16926073478813997,
          -0.1553322321337004,
          -0.14606463877602566,
          -0.14580413667325107,
          -0.169424218869183,
          -0.17067331652755421,
          0.27303178827862523,
          -0.22163927307186176,
          -0.17092080040446866,
          -0.1692749276845138,
          -0.17177475170146514,
          -0.09873330911579538,
          -0.2204182332913352,
          -0.17209350315495092,
          -0.17019275229391137,
          -0.17144535763595928,
          -0.22262102523773078,
          -0.09757855581347742,
          -0.17131393746416598,
          -0.17019095950191798,
          1.1009898310597797,
          -0.17192484953220172,
          -0.22168845303265752,
          -0.22257713121321485,
          -0.1719494554348293,
          -0.1942179181267476,
          -0.14599700977030533,
          -0.1936170537640438,
          -0.10944934703146851,
          -0.14413871033830664,
          -0.19785419582251418,
          -0.16997947175056413
         ],
         "y": [
          -1.1503824098541338,
          -1.1503704617292825,
          -0.8875889089338516,
          -1.1504106616666443,
          -1.19750333911683,
          -1.2873055047487652,
          -1.1503650243811228,
          -1.150367083563193,
          -1.1507773726851707,
          -1.1503742390207536,
          -1.1503840211212626,
          -1.150444292109085,
          -1.1503647719070207,
          -1.1503721365634332,
          -1.1504820211281048,
          -1.2832177909415674,
          -1.2832496309873136,
          -1.2832092191320046,
          -0.8875821574277604,
          -1.2832183114116498,
          -1.150398183826365,
          -1.150593190664227,
          -1.2832155248780894,
          -1.2832316114546143,
          -1.1504635643276169,
          -1.1503799691947547,
          -1.286563626740621,
          -0.8876097435727277,
          -1.150448350273772,
          -1.1504229546900366,
          -1.1503731850602812,
          -1.155452055406674,
          -0.8876782230178374,
          -1.15036277503958,
          -1.1503774513328473,
          -1.1503939434412278,
          -0.8875914031164309,
          -1.1557804115253658,
          -1.1503987789888632,
          -1.1503773986932186,
          -1.195203647768477,
          -1.1503710714932696,
          -0.8876227799624188,
          -0.887591635807602,
          -1.1503725947563241,
          -1.2545020414837746,
          -1.283213539167663,
          -1.5309205198462663,
          -0.33765303284860865,
          -1.2832654810827364,
          -1.1975056487307114,
          -1.1504305999594944
         ],
         "z": [
          -0.004223695220462282,
          -0.004198052742320578,
          0.0031436106514611756,
          -0.004206008361144255,
          0.1512922766931956,
          0.18422947773407874,
          -0.004203270561395685,
          -0.0041955432243030374,
          -0.0046319673812815895,
          -0.004223289894241538,
          -0.004215225499404678,
          -0.004271171741582175,
          -0.004197033631481366,
          -0.004196445528413289,
          -0.0042258828586339845,
          0.19264851349679435,
          0.19265963744094322,
          0.19266783146221247,
          0.0031489121154759008,
          0.19265019804092898,
          -0.004257085042162715,
          -0.004560966069813775,
          0.19266166047107997,
          0.1926578012963926,
          -0.004243594478863261,
          -0.004226037339938691,
          0.18314866161776877,
          0.003125906881494613,
          -0.004210101628890241,
          -0.00425311357399853,
          -0.0042007405361552405,
          -0.005199446824526863,
          0.0031068027611224317,
          -0.004194658451808008,
          -0.004237877851213921,
          -0.004205559064083265,
          0.0031466520542391438,
          -0.005178857422411002,
          -0.004207986977957859,
          -0.0042379283655547195,
          0.1867381564379728,
          -0.004197467597123144,
          0.003128992629916494,
          0.0031456384104724096,
          -0.004196656855799536,
          0.2312624854415855,
          0.19265975493230666,
          0.3031867332541421,
          -0.03688844225086727,
          0.192623013915548,
          0.15128212365608432,
          -0.004235174632341901
         ]
        },
        {
         "customdata": [
          [
           "SHA-256"
          ],
          [
           "Ethash"
          ],
          [
           "Scrypt"
          ],
          [
           "CryptoNight-V7"
          ],
          [
           "Scrypt"
          ],
          [
           "Scrypt"
          ],
          [
           "Scrypt"
          ],
          [
           "Scrypt"
          ],
          [
           "SHA3"
          ],
          [
           "SHA-256"
          ],
          [
           "Scrypt"
          ],
          [
           "SHA-256"
          ],
          [
           "Multiple"
          ],
          [
           "X11"
          ],
          [
           "SHA-256"
          ],
          [
           "X13"
          ],
          [
           "Groestl"
          ],
          [
           "Scrypt"
          ],
          [
           "X11"
          ],
          [
           "Scrypt"
          ],
          [
           "Scrypt"
          ],
          [
           "Ethash"
          ],
          [
           "SHA-256"
          ],
          [
           "Scrypt"
          ],
          [
           "1GB AES Pattern Search"
          ],
          [
           "SHA-256"
          ],
          [
           "NIST5"
          ],
          [
           "Scrypt"
          ],
          [
           "SHA-256"
          ],
          [
           "PoS"
          ],
          [
           "Scrypt"
          ],
          [
           "Scrypt"
          ],
          [
           "POS 3.0"
          ],
          [
           "Equihash"
          ],
          [
           "X11"
          ],
          [
           "X11"
          ],
          [
           "Scrypt"
          ],
          [
           "Scrypt"
          ],
          [
           "Scrypt"
          ],
          [
           "X11"
          ],
          [
           "X13"
          ]
         ],
         "hovertemplate": "<b>%{hovertext}</b><br><br>Class=%{marker.color}<br>PC 1=%{x}<br>PC 2=%{y}<br>PC 3=%{z}<br>Algorithm=%{customdata[0]}<extra></extra>",
         "hovertext": [
          "Monero",
          "Ethereum Classic",
          "ZCash",
          "DigiByte",
          "MyriadCoin",
          "FeatherCoin",
          "DigitalNote ",
          "Cryptonite",
          "Crypto",
          "Expanse",
          "Siacoin",
          "HOdlcoin",
          "Komodo",
          "Karbo",
          "Circuits of Value",
          "ZClassic",
          "Cannabis Industry Coin",
          "Bikercoins",
          "Zero",
          "DubaiCoin",
          "VIVO Coin",
          "Bitcoin Gold",
          "Pirl",
          "Innova",
          "Ellaism",
          "GoByte",
          "BitCoal",
          "GunCoin",
          "MUNcoin",
          "Niobio Cash",
          "Travelflex",
          "MassGrid",
          "PluraCoin",
          "Webchain",
          "Ryo",
          "CrypticCoin",
          "Actinium",
          "FREDEnergy",
          "Bithereum",
          "BlakeCoin",
          "JoinCoin"
         ],
         "legendgroup": "1",
         "marker": {
          "color": [
           1,
           1,
           1,
           1,
           1,
           1,
           1,
           1,
           1,
           1,
           1,
           1,
           1,
           1,
           1,
           1,
           1,
           1,
           1,
           1,
           1,
           1,
           1,
           1,
           1,
           1,
           1,
           1,
           1,
           1,
           1,
           1,
           1,
           1,
           1,
           1,
           1,
           1,
           1,
           1,
           1
          ],
          "coloraxis": "coloraxis",
          "symbol": "x"
         },
         "mode": "markers",
         "name": "1",
         "scene": "scene",
         "showlegend": true,
         "type": "scatter3d",
         "x": [
          -0.14703957855501562,
          -0.15249203368705583,
          -0.14665543090844854,
          0.16130975519876678,
          -0.09241861888086142,
          -0.17034705504836772,
          0.45717451499719136,
          -0.12589118213429185,
          -0.1546428860424034,
          -0.15512080199256023,
          0.3823361961831199,
          -0.14722207375485158,
          -0.24523414725945392,
          0.30188588074056727,
          -0.10651494683220207,
          -0.146677071456043,
          0.3018802657912886,
          0.30201113372270993,
          -0.1466894696168762,
          -0.1466342447275684,
          -0.17504165151886444,
          -0.146535343661669,
          -0.14676481892089943,
          -0.17488685101327847,
          -0.15322545516815284,
          -0.17498719760310436,
          0.3018629957854351,
          -0.16806834399482384,
          -0.1438600631576332,
          0.305742435019647,
          -0.1462676329498884,
          -0.1381753961884759,
          0.3156678864044625,
          -0.13463619962137505,
          -0.15044579516832027,
          -0.041148423927904104,
          -0.15101419681116174,
          0.3819124650371591,
          -0.1463679562685206,
          -0.09046253605416078,
          -0.1272027861476
         ],
         "y": [
          -2.1885709171833208,
          -2.017744703968303,
          -2.085407688335278,
          -1.8204756786232423,
          -1.8141596571088257,
          -1.610863769789599,
          -2.2993941659821053,
          -2.2571139780103535,
          -2.1914329462971294,
          -2.0176819885179045,
          -2.1940038886579276,
          -2.1916103050158626,
          -1.6301769952748324,
          -2.2967157320785354,
          -1.8139939320609215,
          -2.0854083237410537,
          -2.296723866702643,
          -2.296722922276695,
          -2.08540578967939,
          -2.1672042789361363,
          -1.6107777338921034,
          -2.0854041623556245,
          -2.20412305689673,
          -1.6107862300919509,
          -2.017816955203113,
          -1.6107796127392635,
          -2.296718215331243,
          -1.6109156845562425,
          -2.155294827228473,
          -2.296838691316983,
          -2.2040676630600804,
          -2.17698425531588,
          -2.2970283456732767,
          -2.1894746476571108,
          -2.2440070197013586,
          -2.0878009749541335,
          -2.234643800624273,
          -2.300212911242352,
          -2.085406410197546,
          -2.173310339733783,
          -1.8137339650050037
         ],
         "z": [
          0.3945341889970732,
          0.3763551520102926,
          0.4628474202943544,
          0.375452584523594,
          0.3805829315925084,
          0.2739999970468859,
          0.42218991387292126,
          0.31633466501082824,
          0.41878497041599405,
          0.3764087044800525,
          0.33810045045051296,
          0.33740977716815373,
          0.7695457737365007,
          0.42550392106412005,
          0.3808951128891528,
          0.4628480300460754,
          0.42550524804798245,
          0.42550198567599773,
          0.46284795437192267,
          0.43272391448231334,
          0.2740994417025221,
          0.46284403667363766,
          0.3648802325586315,
          0.27409699252976977,
          0.37638325481273854,
          0.27409841740067914,
          0.4255048315094031,
          0.2739532166523946,
          0.47867238641903676,
          0.42542989567027206,
          0.3648602409522873,
          0.2701976946223102,
          0.42522078415633285,
          0.3943706484952923,
          0.364810823010154,
          0.4606799035878707,
          0.37623805014029194,
          0.42410651962385076,
          0.46284037071730194,
          0.44848900809485637,
          0.38135081553508066
         ]
        },
        {
         "customdata": [
          [
           "X11"
          ],
          [
           "Multiple"
          ],
          [
           "Scrypt"
          ],
          [
           "Scrypt"
          ],
          [
           "Multiple"
          ],
          [
           "Scrypt"
          ],
          [
           "Scrypt"
          ],
          [
           "Scrypt"
          ],
          [
           "X11"
          ],
          [
           "HybridScryptHash256"
          ],
          [
           "X13"
          ],
          [
           "SHA-256"
          ],
          [
           "SHA-256"
          ],
          [
           "Scrypt"
          ],
          [
           "Scrypt"
          ],
          [
           "X11"
          ],
          [
           "Multiple"
          ],
          [
           "SHA-256"
          ],
          [
           "CryptoNight"
          ],
          [
           "CryptoNight"
          ],
          [
           "Scrypt"
          ],
          [
           "Stanford Folding"
          ],
          [
           "Scrypt"
          ],
          [
           "Scrypt"
          ],
          [
           "Scrypt"
          ],
          [
           "X11"
          ],
          [
           "SHA3"
          ],
          [
           "Scrypt"
          ],
          [
           "Blake2b"
          ],
          [
           "X11"
          ],
          [
           "X11"
          ],
          [
           "SHA-256"
          ],
          [
           "Scrypt"
          ],
          [
           "Dagger"
          ],
          [
           "X11"
          ],
          [
           "NIST5"
          ],
          [
           "Scrypt"
          ],
          [
           "Scrypt"
          ],
          [
           "X11"
          ],
          [
           "Scrypt"
          ],
          [
           "Scrypt"
          ],
          [
           "SHA-256D"
          ],
          [
           "Ethash"
          ]
         ],
         "hovertemplate": "<b>%{hovertext}</b><br><br>Class=%{marker.color}<br>PC 1=%{x}<br>PC 2=%{y}<br>PC 3=%{z}<br>Algorithm=%{customdata[0]}<extra></extra>",
         "hovertext": [
          "Bitshares",
          "KoboCoin",
          "Exclusive Coin",
          "IOCoin",
          "SyncCoin",
          "TittieCoin",
          "TorCoin",
          "StorjCoin",
          "Sativa Coin",
          "Droidz",
          "Hitcoin",
          "MudraCoin",
          "GoldBlocks",
          "Opair",
          "Halloween Coin",
          "RoyalCoin",
          "TeamUP",
          "LanaCoin",
          "EmberCoin",
          "FreeCoin",
          "Allsafe",
          "FindCoin",
          "Impact",
          "Atmos",
          "Espers",
          "Denarius",
          "BritCoin",
          "Regalcoin",
          "NamoCoin",
          "KekCoin",
          "Magnet",
          "Bitcoin Diamond",
          "Bulwark",
          "Digiwage",
          "Pushi",
          "Carebit",
          "Poseidon Quark",
          "Muse",
          "Vitae",
          "HerbCoin",
          "Beetle Coin",
          "Titan Coin",
          "Nxt"
         ],
         "legendgroup": "0",
         "marker": {
          "color": [
           0,
           0,
           0,
           0,
           0,
           0,
           0,
           0,
           0,
           0,
           0,
           0,
           0,
           0,
           0,
           0,
           0,
           0,
           0,
           0,
           0,
           0,
           0,
           0,
           0,
           0,
           0,
           0,
           0,
           0,
           0,
           0,
           0,
           0,
           0,
           0,
           0,
           0,
           0,
           0,
           0,
           0,
           0
          ],
          "coloraxis": "coloraxis",
          "symbol": "cross"
         },
         "mode": "markers",
         "name": "0",
         "scene": "scene",
         "showlegend": true,
         "type": "scatter3d",
         "x": [
          -0.2870010147675373,
          -0.25009710723907186,
          -0.3475962427777887,
          -0.3904511022550476,
          -0.3908231237182003,
          -0.3082274704336774,
          -0.3907346443604252,
          -0.33184122612555117,
          -0.27735665751540406,
          -0.4210644979883325,
          -0.06786363708674925,
          -0.2290157561319837,
          -0.3902778549184165,
          -0.34623496796609193,
          -0.3769377451493403,
          -0.23044837516051325,
          -0.3453109957638202,
          -0.27993771774131615,
          0.8560111377856281,
          -0.34669926979410604,
          -0.35063214448165875,
          -0.230215953020486,
          -0.3886892806728478,
          -0.34552359897184953,
          0.5929965472756734,
          -0.35691057921476244,
          -0.2770413676868638,
          -0.3905426558746907,
          -0.34165829083307925,
          -0.33277772284805174,
          -0.38933373538895416,
          -0.27377908732240797,
          -0.3096560783912464,
          -0.34968151447274964,
          -0.3906191589926745,
          -0.3947562293115622,
          -0.34621970685365544,
          1.005384729980195,
          -0.3493495413478737,
          -0.3970697962667809,
          -0.2618714102047288,
          -0.3000000418667579,
          -0.3478165793748755
         ],
         "y": [
          1.6338267234431703,
          1.8814963223853844,
          1.556375892090488,
          1.2721272210663548,
          1.2721322366340588,
          1.6171426720214146,
          1.2721275900377558,
          1.4981307497379064,
          1.822059845906318,
          1.8672199853870035,
          1.2623788142683048,
          1.6004581921141006,
          1.2721120212635124,
          1.5563622468487563,
          1.2714531519718535,
          1.6005592211280906,
          1.5562249095057776,
          1.9887998488438443,
          1.8547289828680882,
          1.5563660026689747,
          1.4841350440875103,
          1.6005573332660257,
          1.2721151932755863,
          1.5563568409531168,
          1.893817967850891,
          1.5333617677000633,
          1.8220546129173611,
          1.2721209102680868,
          1.5329474195669437,
          1.4846515282218096,
          1.2720716371142022,
          1.8220199851551835,
          1.3118530389412795,
          1.4840868813386996,
          1.272120113044699,
          1.7055888149421863,
          1.4838045288181447,
          1.705575738306153,
          1.4841111191434402,
          1.705626664852437,
          1.2803590209137485,
          1.9900264385780797,
          1.6976406237992774
         ],
         "z": [
          -0.02425889546778118,
          -0.6505535439937593,
          -0.1013720779701654,
          -0.5573068437065467,
          -0.5572986989421655,
          -0.23349350797130122,
          -0.5573001295512936,
          -0.2578441515872312,
          -0.5973392518432561,
          -0.7888243722357808,
          -0.5635775217142907,
          -0.29733135392607873,
          -0.5573087501209439,
          -0.10140257106186566,
          -0.5575305599655431,
          -0.2973119727577571,
          -0.10140448596199596,
          -0.6663448252642787,
          -0.6291841715956663,
          -0.1013920387841115,
          -0.23745649211923833,
          -0.29731724391144343,
          -0.5573471352137507,
          -0.10141875894774544,
          -0.7356701923406778,
          -0.5656077985265708,
          -0.5973460105153504,
          -0.5573037327980002,
          -0.5659111121842308,
          -0.12094232671331663,
          -0.5573253642523648,
          -0.597418804269995,
          -0.2655875953578954,
          -0.237472120917162,
          -0.5573017897236604,
          -0.5375433599458082,
          -0.2375133483246987,
          0.005252847058630744,
          -0.23748359975486336,
          -0.5374936848980912,
          -0.5506398773463042,
          -0.666045810337938,
          -0.002536711150713465
         ]
        },
        {
         "customdata": [
          [
           "Groestl"
          ],
          [
           "NeoScrypt"
          ],
          [
           "Lyra2RE"
          ]
         ],
         "hovertemplate": "<b>%{hovertext}</b><br><br>Class=%{marker.color}<br>PC 1=%{x}<br>PC 2=%{y}<br>PC 3=%{z}<br>Algorithm=%{customdata[0]}<extra></extra>",
         "hovertext": [
          "Infinite Coin",
          "ByteCoin",
          "gCn Coin"
         ],
         "legendgroup": "4",
         "marker": {
          "color": [
           4,
           4,
           4
          ],
          "coloraxis": "coloraxis",
          "symbol": "circle"
         },
         "mode": "markers",
         "name": "4",
         "scene": "scene",
         "showlegend": true,
         "type": "scatter3d",
         "x": [
          1.5790029924251832,
          3.862332456623441,
          3.2417873713537166
         ],
         "y": [
          -1.164587268482845,
          -2.3258183135641395,
          -1.1950277752712881
         ],
         "z": [
          -0.04390800429771435,
          0.34478254307467826,
          -0.07913520548482628
         ]
        },
        {
         "customdata": [
          [
           "QUAIT"
          ]
         ],
         "hovertemplate": "<b>%{hovertext}</b><br><br>Class=%{marker.color}<br>PC 1=%{x}<br>PC 2=%{y}<br>PC 3=%{z}<br>Algorithm=%{customdata[0]}<extra></extra>",
         "hovertext": [
          "Vechain"
         ],
         "legendgroup": "5",
         "marker": {
          "color": [
           5
          ],
          "coloraxis": "coloraxis",
          "symbol": "diamond"
         },
         "mode": "markers",
         "name": "5",
         "scene": "scene",
         "showlegend": true,
         "type": "scatter3d",
         "x": [
          4.37954184085414
         ],
         "y": [
          2.9304164294840285
         ],
         "z": [
          3.5207836004987847
         ]
        },
        {
         "customdata": [
          [
           "SHA-256"
          ],
          [
           "PoS"
          ]
         ],
         "hovertemplate": "<b>%{hovertext}</b><br><br>Class=%{marker.color}<br>PC 1=%{x}<br>PC 2=%{y}<br>PC 3=%{z}<br>Algorithm=%{customdata[0]}<extra></extra>",
         "hovertext": [
          "Acute Angle Cloud",
          "Waves"
         ],
         "legendgroup": "3",
         "marker": {
          "color": [
           3,
           3
          ],
          "coloraxis": "coloraxis",
          "symbol": "square"
         },
         "mode": "markers",
         "name": "3",
         "scene": "scene",
         "showlegend": true,
         "type": "scatter3d",
         "x": [
          -0.3073040832370378,
          -0.4125040500765385
         ],
         "y": [
          2.6759544790464043,
          3.549873965696987
         ],
         "z": [
          12.607387347892153,
          15.555505197911708
         ]
        },
        {
         "customdata": [
          [
           "SHA-256D"
          ]
         ],
         "hovertemplate": "<b>%{hovertext}</b><br><br>Class=%{marker.color}<br>PC 1=%{x}<br>PC 2=%{y}<br>PC 3=%{z}<br>Algorithm=%{customdata[0]}<extra></extra>",
         "hovertext": [
          "BitTorrent"
         ],
         "legendgroup": "2",
         "marker": {
          "color": [
           2
          ],
          "coloraxis": "coloraxis",
          "symbol": "x"
         },
         "mode": "markers",
         "name": "2",
         "scene": "scene",
         "showlegend": true,
         "type": "scatter3d",
         "x": [
          34.0833234325259
         ],
         "y": [
          1.633575303479687
         ],
         "z": [
          -0.8070129728779621
         ]
        }
       ],
       "layout": {
        "coloraxis": {
         "colorbar": {
          "title": {
           "text": "Class"
          }
         },
         "colorscale": [
          [
           0,
           "#0d0887"
          ],
          [
           0.1111111111111111,
           "#46039f"
          ],
          [
           0.2222222222222222,
           "#7201a8"
          ],
          [
           0.3333333333333333,
           "#9c179e"
          ],
          [
           0.4444444444444444,
           "#bd3786"
          ],
          [
           0.5555555555555556,
           "#d8576b"
          ],
          [
           0.6666666666666666,
           "#ed7953"
          ],
          [
           0.7777777777777778,
           "#fb9f3a"
          ],
          [
           0.8888888888888888,
           "#fdca26"
          ],
          [
           1,
           "#f0f921"
          ]
         ]
        },
        "legend": {
         "title": {
          "text": "Class"
         },
         "tracegroupgap": 0,
         "x": 0,
         "y": 1
        },
        "margin": {
         "t": 60
        },
        "scene": {
         "domain": {
          "x": [
           0,
           1
          ],
          "y": [
           0,
           1
          ]
         },
         "xaxis": {
          "title": {
           "text": "PC 1"
          }
         },
         "yaxis": {
          "title": {
           "text": "PC 2"
          }
         },
         "zaxis": {
          "title": {
           "text": "PC 3"
          }
         }
        },
        "template": {
         "data": {
          "bar": [
           {
            "error_x": {
             "color": "#2a3f5f"
            },
            "error_y": {
             "color": "#2a3f5f"
            },
            "marker": {
             "line": {
              "color": "#E5ECF6",
              "width": 0.5
             },
             "pattern": {
              "fillmode": "overlay",
              "size": 10,
              "solidity": 0.2
             }
            },
            "type": "bar"
           }
          ],
          "barpolar": [
           {
            "marker": {
             "line": {
              "color": "#E5ECF6",
              "width": 0.5
             },
             "pattern": {
              "fillmode": "overlay",
              "size": 10,
              "solidity": 0.2
             }
            },
            "type": "barpolar"
           }
          ],
          "carpet": [
           {
            "aaxis": {
             "endlinecolor": "#2a3f5f",
             "gridcolor": "white",
             "linecolor": "white",
             "minorgridcolor": "white",
             "startlinecolor": "#2a3f5f"
            },
            "baxis": {
             "endlinecolor": "#2a3f5f",
             "gridcolor": "white",
             "linecolor": "white",
             "minorgridcolor": "white",
             "startlinecolor": "#2a3f5f"
            },
            "type": "carpet"
           }
          ],
          "choropleth": [
           {
            "colorbar": {
             "outlinewidth": 0,
             "ticks": ""
            },
            "type": "choropleth"
           }
          ],
          "contour": [
           {
            "colorbar": {
             "outlinewidth": 0,
             "ticks": ""
            },
            "colorscale": [
             [
              0,
              "#0d0887"
             ],
             [
              0.1111111111111111,
              "#46039f"
             ],
             [
              0.2222222222222222,
              "#7201a8"
             ],
             [
              0.3333333333333333,
              "#9c179e"
             ],
             [
              0.4444444444444444,
              "#bd3786"
             ],
             [
              0.5555555555555556,
              "#d8576b"
             ],
             [
              0.6666666666666666,
              "#ed7953"
             ],
             [
              0.7777777777777778,
              "#fb9f3a"
             ],
             [
              0.8888888888888888,
              "#fdca26"
             ],
             [
              1,
              "#f0f921"
             ]
            ],
            "type": "contour"
           }
          ],
          "contourcarpet": [
           {
            "colorbar": {
             "outlinewidth": 0,
             "ticks": ""
            },
            "type": "contourcarpet"
           }
          ],
          "heatmap": [
           {
            "colorbar": {
             "outlinewidth": 0,
             "ticks": ""
            },
            "colorscale": [
             [
              0,
              "#0d0887"
             ],
             [
              0.1111111111111111,
              "#46039f"
             ],
             [
              0.2222222222222222,
              "#7201a8"
             ],
             [
              0.3333333333333333,
              "#9c179e"
             ],
             [
              0.4444444444444444,
              "#bd3786"
             ],
             [
              0.5555555555555556,
              "#d8576b"
             ],
             [
              0.6666666666666666,
              "#ed7953"
             ],
             [
              0.7777777777777778,
              "#fb9f3a"
             ],
             [
              0.8888888888888888,
              "#fdca26"
             ],
             [
              1,
              "#f0f921"
             ]
            ],
            "type": "heatmap"
           }
          ],
          "heatmapgl": [
           {
            "colorbar": {
             "outlinewidth": 0,
             "ticks": ""
            },
            "colorscale": [
             [
              0,
              "#0d0887"
             ],
             [
              0.1111111111111111,
              "#46039f"
             ],
             [
              0.2222222222222222,
              "#7201a8"
             ],
             [
              0.3333333333333333,
              "#9c179e"
             ],
             [
              0.4444444444444444,
              "#bd3786"
             ],
             [
              0.5555555555555556,
              "#d8576b"
             ],
             [
              0.6666666666666666,
              "#ed7953"
             ],
             [
              0.7777777777777778,
              "#fb9f3a"
             ],
             [
              0.8888888888888888,
              "#fdca26"
             ],
             [
              1,
              "#f0f921"
             ]
            ],
            "type": "heatmapgl"
           }
          ],
          "histogram": [
           {
            "marker": {
             "pattern": {
              "fillmode": "overlay",
              "size": 10,
              "solidity": 0.2
             }
            },
            "type": "histogram"
           }
          ],
          "histogram2d": [
           {
            "colorbar": {
             "outlinewidth": 0,
             "ticks": ""
            },
            "colorscale": [
             [
              0,
              "#0d0887"
             ],
             [
              0.1111111111111111,
              "#46039f"
             ],
             [
              0.2222222222222222,
              "#7201a8"
             ],
             [
              0.3333333333333333,
              "#9c179e"
             ],
             [
              0.4444444444444444,
              "#bd3786"
             ],
             [
              0.5555555555555556,
              "#d8576b"
             ],
             [
              0.6666666666666666,
              "#ed7953"
             ],
             [
              0.7777777777777778,
              "#fb9f3a"
             ],
             [
              0.8888888888888888,
              "#fdca26"
             ],
             [
              1,
              "#f0f921"
             ]
            ],
            "type": "histogram2d"
           }
          ],
          "histogram2dcontour": [
           {
            "colorbar": {
             "outlinewidth": 0,
             "ticks": ""
            },
            "colorscale": [
             [
              0,
              "#0d0887"
             ],
             [
              0.1111111111111111,
              "#46039f"
             ],
             [
              0.2222222222222222,
              "#7201a8"
             ],
             [
              0.3333333333333333,
              "#9c179e"
             ],
             [
              0.4444444444444444,
              "#bd3786"
             ],
             [
              0.5555555555555556,
              "#d8576b"
             ],
             [
              0.6666666666666666,
              "#ed7953"
             ],
             [
              0.7777777777777778,
              "#fb9f3a"
             ],
             [
              0.8888888888888888,
              "#fdca26"
             ],
             [
              1,
              "#f0f921"
             ]
            ],
            "type": "histogram2dcontour"
           }
          ],
          "mesh3d": [
           {
            "colorbar": {
             "outlinewidth": 0,
             "ticks": ""
            },
            "type": "mesh3d"
           }
          ],
          "parcoords": [
           {
            "line": {
             "colorbar": {
              "outlinewidth": 0,
              "ticks": ""
             }
            },
            "type": "parcoords"
           }
          ],
          "pie": [
           {
            "automargin": true,
            "type": "pie"
           }
          ],
          "scatter": [
           {
            "fillpattern": {
             "fillmode": "overlay",
             "size": 10,
             "solidity": 0.2
            },
            "type": "scatter"
           }
          ],
          "scatter3d": [
           {
            "line": {
             "colorbar": {
              "outlinewidth": 0,
              "ticks": ""
             }
            },
            "marker": {
             "colorbar": {
              "outlinewidth": 0,
              "ticks": ""
             }
            },
            "type": "scatter3d"
           }
          ],
          "scattercarpet": [
           {
            "marker": {
             "colorbar": {
              "outlinewidth": 0,
              "ticks": ""
             }
            },
            "type": "scattercarpet"
           }
          ],
          "scattergeo": [
           {
            "marker": {
             "colorbar": {
              "outlinewidth": 0,
              "ticks": ""
             }
            },
            "type": "scattergeo"
           }
          ],
          "scattergl": [
           {
            "marker": {
             "colorbar": {
              "outlinewidth": 0,
              "ticks": ""
             }
            },
            "type": "scattergl"
           }
          ],
          "scattermapbox": [
           {
            "marker": {
             "colorbar": {
              "outlinewidth": 0,
              "ticks": ""
             }
            },
            "type": "scattermapbox"
           }
          ],
          "scatterpolar": [
           {
            "marker": {
             "colorbar": {
              "outlinewidth": 0,
              "ticks": ""
             }
            },
            "type": "scatterpolar"
           }
          ],
          "scatterpolargl": [
           {
            "marker": {
             "colorbar": {
              "outlinewidth": 0,
              "ticks": ""
             }
            },
            "type": "scatterpolargl"
           }
          ],
          "scatterternary": [
           {
            "marker": {
             "colorbar": {
              "outlinewidth": 0,
              "ticks": ""
             }
            },
            "type": "scatterternary"
           }
          ],
          "surface": [
           {
            "colorbar": {
             "outlinewidth": 0,
             "ticks": ""
            },
            "colorscale": [
             [
              0,
              "#0d0887"
             ],
             [
              0.1111111111111111,
              "#46039f"
             ],
             [
              0.2222222222222222,
              "#7201a8"
             ],
             [
              0.3333333333333333,
              "#9c179e"
             ],
             [
              0.4444444444444444,
              "#bd3786"
             ],
             [
              0.5555555555555556,
              "#d8576b"
             ],
             [
              0.6666666666666666,
              "#ed7953"
             ],
             [
              0.7777777777777778,
              "#fb9f3a"
             ],
             [
              0.8888888888888888,
              "#fdca26"
             ],
             [
              1,
              "#f0f921"
             ]
            ],
            "type": "surface"
           }
          ],
          "table": [
           {
            "cells": {
             "fill": {
              "color": "#EBF0F8"
             },
             "line": {
              "color": "white"
             }
            },
            "header": {
             "fill": {
              "color": "#C8D4E3"
             },
             "line": {
              "color": "white"
             }
            },
            "type": "table"
           }
          ]
         },
         "layout": {
          "annotationdefaults": {
           "arrowcolor": "#2a3f5f",
           "arrowhead": 0,
           "arrowwidth": 1
          },
          "autotypenumbers": "strict",
          "coloraxis": {
           "colorbar": {
            "outlinewidth": 0,
            "ticks": ""
           }
          },
          "colorscale": {
           "diverging": [
            [
             0,
             "#8e0152"
            ],
            [
             0.1,
             "#c51b7d"
            ],
            [
             0.2,
             "#de77ae"
            ],
            [
             0.3,
             "#f1b6da"
            ],
            [
             0.4,
             "#fde0ef"
            ],
            [
             0.5,
             "#f7f7f7"
            ],
            [
             0.6,
             "#e6f5d0"
            ],
            [
             0.7,
             "#b8e186"
            ],
            [
             0.8,
             "#7fbc41"
            ],
            [
             0.9,
             "#4d9221"
            ],
            [
             1,
             "#276419"
            ]
           ],
           "sequential": [
            [
             0,
             "#0d0887"
            ],
            [
             0.1111111111111111,
             "#46039f"
            ],
            [
             0.2222222222222222,
             "#7201a8"
            ],
            [
             0.3333333333333333,
             "#9c179e"
            ],
            [
             0.4444444444444444,
             "#bd3786"
            ],
            [
             0.5555555555555556,
             "#d8576b"
            ],
            [
             0.6666666666666666,
             "#ed7953"
            ],
            [
             0.7777777777777778,
             "#fb9f3a"
            ],
            [
             0.8888888888888888,
             "#fdca26"
            ],
            [
             1,
             "#f0f921"
            ]
           ],
           "sequentialminus": [
            [
             0,
             "#0d0887"
            ],
            [
             0.1111111111111111,
             "#46039f"
            ],
            [
             0.2222222222222222,
             "#7201a8"
            ],
            [
             0.3333333333333333,
             "#9c179e"
            ],
            [
             0.4444444444444444,
             "#bd3786"
            ],
            [
             0.5555555555555556,
             "#d8576b"
            ],
            [
             0.6666666666666666,
             "#ed7953"
            ],
            [
             0.7777777777777778,
             "#fb9f3a"
            ],
            [
             0.8888888888888888,
             "#fdca26"
            ],
            [
             1,
             "#f0f921"
            ]
           ]
          },
          "colorway": [
           "#636efa",
           "#EF553B",
           "#00cc96",
           "#ab63fa",
           "#FFA15A",
           "#19d3f3",
           "#FF6692",
           "#B6E880",
           "#FF97FF",
           "#FECB52"
          ],
          "font": {
           "color": "#2a3f5f"
          },
          "geo": {
           "bgcolor": "white",
           "lakecolor": "white",
           "landcolor": "#E5ECF6",
           "showlakes": true,
           "showland": true,
           "subunitcolor": "white"
          },
          "hoverlabel": {
           "align": "left"
          },
          "hovermode": "closest",
          "mapbox": {
           "style": "light"
          },
          "paper_bgcolor": "white",
          "plot_bgcolor": "#E5ECF6",
          "polar": {
           "angularaxis": {
            "gridcolor": "white",
            "linecolor": "white",
            "ticks": ""
           },
           "bgcolor": "#E5ECF6",
           "radialaxis": {
            "gridcolor": "white",
            "linecolor": "white",
            "ticks": ""
           }
          },
          "scene": {
           "xaxis": {
            "backgroundcolor": "#E5ECF6",
            "gridcolor": "white",
            "gridwidth": 2,
            "linecolor": "white",
            "showbackground": true,
            "ticks": "",
            "zerolinecolor": "white"
           },
           "yaxis": {
            "backgroundcolor": "#E5ECF6",
            "gridcolor": "white",
            "gridwidth": 2,
            "linecolor": "white",
            "showbackground": true,
            "ticks": "",
            "zerolinecolor": "white"
           },
           "zaxis": {
            "backgroundcolor": "#E5ECF6",
            "gridcolor": "white",
            "gridwidth": 2,
            "linecolor": "white",
            "showbackground": true,
            "ticks": "",
            "zerolinecolor": "white"
           }
          },
          "shapedefaults": {
           "line": {
            "color": "#2a3f5f"
           }
          },
          "ternary": {
           "aaxis": {
            "gridcolor": "white",
            "linecolor": "white",
            "ticks": ""
           },
           "baxis": {
            "gridcolor": "white",
            "linecolor": "white",
            "ticks": ""
           },
           "bgcolor": "#E5ECF6",
           "caxis": {
            "gridcolor": "white",
            "linecolor": "white",
            "ticks": ""
           }
          },
          "title": {
           "x": 0.05
          },
          "xaxis": {
           "automargin": true,
           "gridcolor": "white",
           "linecolor": "white",
           "ticks": "",
           "title": {
            "standoff": 15
           },
           "zerolinecolor": "white",
           "zerolinewidth": 2
          },
          "yaxis": {
           "automargin": true,
           "gridcolor": "white",
           "linecolor": "white",
           "ticks": "",
           "title": {
            "standoff": 15
           },
           "zerolinecolor": "white",
           "zerolinewidth": 2
          }
         }
        },
        "width": 800
       }
      }
     },
     "metadata": {},
     "output_type": "display_data"
    }
   ],
   "source": [
    "# Creating a 3D-Scatter with the PCA data and the clusters\n",
    "fig = px.scatter_3d(clustered_df, x=\"PC 1\", y=\"PC 2\", z=\"PC 3\", color=\"Class\", symbol=\"Class\", width=800, \n",
    "                    hover_name=\"CoinName\", hover_data=[\"Algorithm\"])\n",
    "fig.update_layout(legend=dict(x=0, y=1))\n",
    "fig.show()\n"
   ]
  },
  {
   "cell_type": "code",
   "execution_count": 71,
   "metadata": {},
   "outputs": [
    {
     "data": {},
     "metadata": {},
     "output_type": "display_data"
    },
    {
     "data": {
      "application/vnd.holoviews_exec.v0+json": "",
      "text/html": [
       "<div id='1238'>\n",
       "\n",
       "\n",
       "\n",
       "\n",
       "\n",
       "  <div class=\"bk-root\" id=\"ed4b1fcf-6893-443a-b951-5c2c9683e8d8\" data-root-id=\"1238\"></div>\n",
       "</div>\n",
       "<script type=\"application/javascript\">(function(root) {\n",
       "  function embed_document(root) {\n",
       "    var docs_json = {\"85f27945-9ac3-4ac0-add0-31092b6da9e9\":{\"defs\":[{\"extends\":null,\"module\":null,\"name\":\"ReactiveHTML1\",\"overrides\":[],\"properties\":[]},{\"extends\":null,\"module\":null,\"name\":\"FlexBox1\",\"overrides\":[],\"properties\":[{\"default\":\"flex-start\",\"kind\":null,\"name\":\"align_content\"},{\"default\":\"flex-start\",\"kind\":null,\"name\":\"align_items\"},{\"default\":\"row\",\"kind\":null,\"name\":\"flex_direction\"},{\"default\":\"wrap\",\"kind\":null,\"name\":\"flex_wrap\"},{\"default\":\"flex-start\",\"kind\":null,\"name\":\"justify_content\"}]},{\"extends\":null,\"module\":null,\"name\":\"GridStack1\",\"overrides\":[],\"properties\":[{\"default\":\"warn\",\"kind\":null,\"name\":\"mode\"},{\"default\":null,\"kind\":null,\"name\":\"ncols\"},{\"default\":null,\"kind\":null,\"name\":\"nrows\"},{\"default\":true,\"kind\":null,\"name\":\"allow_resize\"},{\"default\":true,\"kind\":null,\"name\":\"allow_drag\"},{\"default\":[],\"kind\":null,\"name\":\"state\"}]},{\"extends\":null,\"module\":null,\"name\":\"click1\",\"overrides\":[],\"properties\":[{\"default\":\"\",\"kind\":null,\"name\":\"terminal_output\"},{\"default\":\"\",\"kind\":null,\"name\":\"debug_name\"},{\"default\":0,\"kind\":null,\"name\":\"clears\"}]},{\"extends\":null,\"module\":null,\"name\":\"TemplateActions1\",\"overrides\":[],\"properties\":[{\"default\":0,\"kind\":null,\"name\":\"open_modal\"},{\"default\":0,\"kind\":null,\"name\":\"close_modal\"}]},{\"extends\":null,\"module\":null,\"name\":\"MaterialTemplateActions1\",\"overrides\":[],\"properties\":[{\"default\":0,\"kind\":null,\"name\":\"open_modal\"},{\"default\":0,\"kind\":null,\"name\":\"close_modal\"}]}],\"roots\":{\"references\":[{\"attributes\":{},\"id\":\"1241\",\"type\":\"Selection\"},{\"attributes\":{},\"id\":\"1263\",\"type\":\"NumberEditor\"},{\"attributes\":{},\"id\":\"1242\",\"type\":\"StringFormatter\"},{\"attributes\":{\"data\":{\"Algorithm\":[\"Scrypt\",\"Scrypt\",\"X13\",\"SHA-256\",\"Ethash\",\"Scrypt\",\"X11\",\"CryptoNight-V7\",\"Ethash\",\"Equihash\",\"SHA-512\",\"Multiple\",\"SHA-256\",\"SHA-256\",\"Scrypt\",\"X15\",\"X11\",\"Scrypt\",\"Scrypt\",\"Scrypt\",\"Multiple\",\"Scrypt\",\"SHA-256\",\"Scrypt\",\"Scrypt\",\"Scrypt\",\"Quark\",\"Groestl\",\"Scrypt\",\"Scrypt\",\"Scrypt\",\"Scrypt\",\"Scrypt\",\"X11\",\"Scrypt\",\"Groestl\",\"Multiple\",\"SHA-256\",\"Scrypt\",\"Scrypt\",\"Scrypt\",\"Scrypt\",\"PoS\",\"Scrypt\",\"Scrypt\",\"NeoScrypt\",\"Scrypt\",\"Scrypt\",\"Scrypt\",\"Scrypt\",\"X11\",\"Scrypt\",\"X11\",\"SHA-256\",\"Scrypt\",\"Scrypt\",\"Scrypt\",\"SHA3\",\"Scrypt\",\"HybridScryptHash256\",\"Scrypt\",\"Scrypt\",\"SHA-256\",\"Scrypt\",\"X13\",\"Scrypt\",\"SHA-256\",\"Scrypt\",\"X13\",\"NeoScrypt\",\"Scrypt\",\"Scrypt\",\"Scrypt\",\"Scrypt\",\"Scrypt\",\"Scrypt\",\"X11\",\"X11\",\"SHA-256\",\"Multiple\",\"SHA-256\",\"PHI1612\",\"X11\",\"SHA-256\",\"SHA-256\",\"SHA-256\",\"X11\",\"Scrypt\",\"Scrypt\",\"Scrypt\",\"Scrypt\",\"Lyra2REv2\",\"Scrypt\",\"X11\",\"Multiple\",\"SHA-256\",\"X13\",\"Scrypt\",\"CryptoNight\",\"CryptoNight\",\"Shabal256\",\"Counterparty\",\"Scrypt\",\"SHA-256\",\"Groestl\",\"Scrypt\",\"Scrypt\",\"Scrypt\",\"X13\",\"Scrypt\",\"Scrypt\",\"Scrypt\",\"Scrypt\",\"X13\",\"Scrypt\",\"Stanford Folding\",\"X11\",\"Multiple\",\"QuBit\",\"Scrypt\",\"Scrypt\",\"Scrypt\",\"M7 POW\",\"Scrypt\",\"SHA-256\",\"Scrypt\",\"X11\",\"SHA3\",\"X11\",\"Lyra2RE\",\"SHA-256\",\"QUAIT\",\"X11\",\"X11\",\"Scrypt\",\"Scrypt\",\"Scrypt\",\"Ethash\",\"X13\",\"Blake2b\",\"SHA-256\",\"X15\",\"X11\",\"SHA-256\",\"BLAKE256\",\"Scrypt\",\"1GB AES Pattern Search\",\"SHA-256\",\"X11\",\"Scrypt\",\"SHA-256\",\"SHA-256\",\"NIST5\",\"Scrypt\",\"Scrypt\",\"X11\",\"Dagger\",\"Scrypt\",\"X11GOST\",\"X11\",\"Scrypt\",\"SHA-256\",\"Scrypt\",\"PoS\",\"Scrypt\",\"X11\",\"X11\",\"SHA-256\",\"SHA-256\",\"NIST5\",\"X11\",\"Scrypt\",\"POS 3.0\",\"Scrypt\",\"Scrypt\",\"Scrypt\",\"X13\",\"X11\",\"X11\",\"Equihash\",\"X11\",\"Scrypt\",\"CryptoNight\",\"SHA-256\",\"SHA-256\",\"X11\",\"Scrypt\",\"Multiple\",\"Scrypt\",\"Scrypt\",\"Scrypt\",\"SHA-256\",\"Scrypt\",\"Scrypt\",\"SHA-256D\",\"PoS\",\"Scrypt\",\"X11\",\"Lyra2Z\",\"PoS\",\"X13\",\"X14\",\"PoS\",\"SHA-256D\",\"Ethash\"],\"Class\":{\"__ndarray__\":\"CQAAAAYAAAAIAAAAAQAAAAEAAAABAAAAAAAAAAEAAAAJAAAACQAAAAgAAAAAAAAACAAAAAkAAAABAAAACAAAAAgAAAAIAAAACAAAAAAAAAAIAAAAAQAAAAgAAAAIAAAACAAAAAkAAAAJAAAABAAAAAAAAAAIAAAACAAAAAkAAAAJAAAACAAAAAgAAAAJAAAAAAAAAAgAAAAAAAAAAAAAAAgAAAAIAAAACAAAAAkAAAAIAAAABAAAAAEAAAAJAAAAAAAAAAgAAAAJAAAACQAAAAAAAAAIAAAACQAAAAEAAAAIAAAAAQAAAAgAAAAAAAAACQAAAAgAAAABAAAAAQAAAAkAAAAJAAAAAQAAAAkAAAAAAAAACAAAAAgAAAAJAAAACAAAAAgAAAAJAAAACQAAAAkAAAAJAAAAAAAAAAEAAAAAAAAACQAAAAEAAAAJAAAACQAAAAEAAAAJAAAACAAAAAkAAAAIAAAAAAAAAAkAAAAAAAAAAAAAAAAAAAAAAAAAAQAAAAgAAAAAAAAAAAAAAAkAAAAIAAAACQAAAAkAAAABAAAACQAAAAkAAAAJAAAACQAAAAAAAAAIAAAAAQAAAAkAAAAJAAAACQAAAAAAAAABAAAACQAAAAgAAAABAAAAAAAAAAAAAAAJAAAACQAAAAgAAAAAAAAAAAAAAAAAAAAIAAAABAAAAAkAAAAFAAAACAAAAAgAAAAAAAAAAQAAAAkAAAABAAAACQAAAAAAAAABAAAACAAAAAAAAAAJAAAACQAAAAEAAAABAAAAAQAAAAAAAAAGAAAAAAAAAAkAAAABAAAAAAAAAAkAAAAIAAAAAAAAAAEAAAAJAAAACQAAAAkAAAABAAAACQAAAAEAAAABAAAAAAAAAAgAAAAJAAAACAAAAAAAAAAJAAAAAQAAAAEAAAAAAAAAAAAAAAgAAAAJAAAAAAAAAAgAAAABAAAAAQAAAAkAAAAJAAAACAAAAAMAAAABAAAAAQAAAAgAAAABAAAAAAAAAAEAAAAIAAAACQAAAAAAAAAAAAAACAAAAAgAAAABAAAACAAAAAgAAAABAAAACQAAAAMAAAACAAAAAAAAAA==\",\"dtype\":\"int32\",\"order\":\"little\",\"shape\":[205]},\"CoinName\":[\"42 Coin\",\"EliteCoin\",\"Litecoin\",\"Monero\",\"Ethereum Classic\",\"ZCash\",\"Bitshares\",\"DigiByte\",\"BitcoinDark\",\"PayCoin\",\"ProsperCoin\",\"KoboCoin\",\"Spreadcoin\",\"BlueCoin\",\"MyriadCoin\",\"Quatloo\",\"Riecoin\",\"DevCoin\",\"E-Gulden\",\"Exclusive Coin\",\"Franko\",\"FeatherCoin\",\"GrandCoin\",\"GlobalCoin\",\"GoldCoin\",\"HoboNickels\",\"HyperStake\",\"Infinite Coin\",\"IOCoin\",\"KrugerCoin\",\"MinCoin\",\"MazaCoin\",\"Nautilus Coin\",\"RonPaulCoin\",\"StableCoin\",\"SuperCoin\",\"SyncCoin\",\"TigerCoin\",\"TittieCoin\",\"TorCoin\",\"UnbreakableCoin\",\"Unobtanium\",\"UroCoin\",\"Crypti\",\"JouleCoin\",\"ByteCoin\",\"DigitalNote \",\"BurstCoin\",\"StorjCoin\",\"PesetaCoin\",\"Dnotes\",\"8BIT Coin\",\"Sativa Coin\",\"ArtByte\",\"Vtorrent\",\"Cryptonite\",\"SoonCoin\",\"Crypto\",\"Anarchists Prime\",\"Droidz\",\"Squall Coin\",\"BitZeny\",\"Expanse\",\"Siacoin\",\"Emercoin\",\"Decred\",\"HOdlcoin\",\"EDRCoin\",\"Hitcoin\",\"Gamecredits\",\"CarpeDiemCoin\",\"BillaryCoin\",\"Adzcoin\",\"YoCoin\",\"SafeExchangeCoin\",\"Clockcoin\",\"iBankCoin\",\"Frankywillcoin\",\"MudraCoin\",\"Komodo\",\"GoldBlocks\",\"CarterCoin\",\"Karbo\",\"BitTokens\",\"ZoneCoin\",\"Circuits of Value\",\"RootCoin\",\"DopeCoin\",\"BitCurrency\",\"Shilling\",\"Opair\",\"PesoBit\",\"Halloween Coin\",\"RoyalCoin\",\"TeamUP\",\"LanaCoin\",\"ZClassic\",\"KiloCoin\",\"EmberCoin\",\"FreeCoin\",\"AquariusCoin\",\"Kurrent\",\"Eurocoin\",\"Stakenet\",\"Cannabis Industry Coin\",\"Russiacoin\",\"PandaCoin\",\"GameUnits\",\"GAKHcoin\",\"Allsafe\",\"OsmiumCoin\",\"Bikercoins\",\"Klingon Empire Darsek\",\"Internet of People\",\"Impeach\",\"FindCoin\",\"Zero\",\"OpenChat\",\"Canada eCoin\",\"DubaiCoin\",\"Impact\",\"Atmos\",\"LomoCoin\",\"GrowthCoin\",\"EquiTrader\",\"Espers\",\"Denarius\",\"BritCoin\",\"DAS\",\"gCn Coin\",\"Draftcoin\",\"Vechain\",\"Sojourn Coin\",\"Kronecoin\",\"Regalcoin\",\"VIVO Coin\",\"Rupee\",\"Bitcoin Gold\",\"Theresa May Coin\",\"NamoCoin\",\"Pirl\",\"eBoost\",\"KekCoin\",\"BlackholeCoin\",\"Infinity Economics\",\"Innova\",\"Ellaism\",\"GoByte\",\"Magnet\",\"Lamden Tau\",\"Bitcoin Diamond\",\"Cash & Back Coin\",\"BitCoal\",\"Bulwark\",\"LiteCoin Ultra\",\"Photon\",\"Digiwage\",\"GunCoin\",\"Litecoin Plus\",\"Monkey Project\",\"My Big Coin\",\"MUNcoin\",\"Unified Society USDEX\",\"Niobio Cash\",\"Travelflex\",\"Pushi\",\"Poseidon\",\"MedicCoin\",\"FuturoCoin\",\"Carebit\",\"HollyWoodCoin\",\"MassGrid\",\"PluraCoin\",\"Poseidon Quark\",\"Muse\",\"Axe\",\"Absolute Coin\",\"Vitae\",\"HexCoin\",\"Webchain\",\"Ryo\",\"MMOCoin\",\"ThunderStake\",\"Xchange\",\"Acute Angle Cloud\",\"CrypticCoin\",\"Actinium\",\"Bitcoin SV\",\"FREDEnergy\",\"HerbCoin\",\"Bithereum\",\"SLICE\",\"Dash Platinum\",\"Beetle Coin\",\"Titan Coin\",\"Bitcoin Rhodium\",\"GlobalToken\",\"BlakeCoin\",\"Groestlcoin\",\"Pakcoin\",\"JoinCoin\",\"TigerCash\",\"Waves\",\"BitTorrent\",\"Nxt\"],\"ProofType\":[\"PoW/PoS\",\"PoW/PoS\",\"PoW/PoS\",\"PoW\",\"PoW\",\"PoW\",\"PoW/PoS\",\"PoW\",\"PoW\",\"PoW\",\"PoS\",\"PoW\",\"PoW/PoS\",\"PoS\",\"PoW\",\"PoW/PoS\",\"PoW\",\"PoW\",\"PoW/PoS\",\"PoW/PoS\",\"PoW\",\"PoW\",\"PoW\",\"PoW\",\"PoW\",\"PoW/PoS\",\"PoW\",\"PoW\",\"PoW\",\"PoW/PoS\",\"PoW\",\"PoW/PoS\",\"PoW\",\"PoW\",\"PoC\",\"PoW/PoS\",\"PoW\",\"PoW\",\"PoW\",\"PoW\",\"PoW\",\"PoW\",\"PoS\",\"PoS/PoW/PoT\",\"PoW\",\"PoW\",\"PoW\",\"PoW\",\"PoW\",\"PoW/PoS\",\"PoS\",\"PoW\",\"PoW/PoS\",\"PoW\",\"PoW\",\"PoW\",\"PoW\",\"PoW/PoS\",\"PoW\",\"PoW\",\"PoS\",\"PoW\",\"PoW/PoS\",\"PoS\",\"PoW/PoS\",\"PoW\",\"PoW\",\"PoW\",\"PoW/PoS\",\"PoW/PoS\",\"PoW/PoS\",\"PoW/PoS\",\"PoW/PoS\",\"PoW\",\"PoW\",\"PoW\",\"PoS\",\"PoW/PoS\",\"PoW\",\"PoS\",\"PoW\",\"PoS\",\"PoW/PoS\",\"PoW\",\"PoW\",\"PoW\",\"PoW\",\"PoW/PoS\",\"PoW/PoS\",\"PoW\",\"PoST\",\"PoW\",\"PoW\",\"PoW/PoS\",\"PoS\",\"PoW\",\"PoW/PoS\",\"PoW/PoS\",\"PoW\",\"PoW\",\"PoC\",\"PoS\",\"PoW\",\"PoW/PoS\",\"PoW/PoS\",\"PoW\",\"PoS\",\"PoW\",\"PoW/PoS\",\"PoW\",\"PoS\",\"PoW\",\"PoW/PoS\",\"PoW/PoS\",\"PoW\",\"PoW\",\"PoS\",\"PoW\",\"PoW\",\"PoW\",\"PoW/PoS\",\"PoW\",\"PoW\",\"PoW\",\"PoW\",\"PoW\",\"PoW/PoS\",\"PoW/nPoS\",\"PoW\",\"PoW\",\"PoW\",\"PoW/PoS\",\"PoW\",\"PoS/PoW\",\"PoW\",\"PoW\",\"PoS\",\"PoW\",\"PoW/PoS\",\"PoW\",\"PoW/PoS\",\"PoW/PoS\",\"PoW\",\"PoW\",\"PoW/PoS\",\"PoW\",\"PoW\",\"PoW/PoS\",\"PoW/PoS\",\"PoW\",\"PoW/PoS\",\"PoW\",\"PoW/PoS\",\"PoW/PoS\",\"PoS\",\"PoW\",\"PoW\",\"PoW\",\"PoW\",\"PoW/PoS\",\"PoS\",\"PoW/PoS\",\"PoC\",\"PoS\",\"PoW\",\"PoW\",\"PoW/PoS\",\"PoW/PoS\",\"PoW/PoS\",\"PoW/PoS\",\"PoW/PoS\",\"PoW\",\"PoS\",\"PoW/PoS\",\"PoW/PoS\",\"PoW/PoS\",\"PoS\",\"PoW\",\"PoS\",\"dPoW/PoW\",\"PoW/PoS\",\"PoW/PoS\",\"PoW\",\"PoW/PoS\",\"PoW\",\"PoW/PoS\",\"PoW/PoS\",\"PoW\",\"PoW/PoS\",\"PoW\",\"PoS\",\"PoW\",\"PoW/PoW\",\"PoW\",\"PoW/PoS\",\"PoS\",\"PoW/PoS\",\"PoW/PoS\",\"PoW\",\"PoS\",\"PoS\",\"PoW/PoS\",\"PoS\",\"PoW/PoS\",\"PoW\"],\"TotalCoinSupply\":[\"42\",\"532000000\",\"314159265359\",\"21000000\",\"0\",\"84000000\",\"22000000\",\"0\",\"210000000\",\"21000000\",\"3600570502\",\"21000000000\",\"22000000\",\"12500000\",\"21000000\",\"350000000\",\"20000000\",\"64000000\",\"16768584\",\"0\",\"2000000000\",\"384000000000\",\"169795588\",\"250000000\",\"100000000\",\"0\",\"247000000\",\"84000000\",\"48166000\",\"500000\",\"21000000 \",\"1000000\",\"13140000\",\"18000000\",\"40000000000\",\"4380000\",\"16555000000\",\"21000000000\",\"13500000000\",\"21000000 \",\"299792458\",\"32000000\",\"0\",\"0\",\"11235813\",\"336000000\",\"1420609614\",\"70000000\",\"72245700\",\"120000000\",\"0\",\"90600000000\",\"22000000\",\"21000000\",\"265420800\",\"20000000\",\"1350000\",\"100000000\",\"42000000\",\"200000000\",\"0\",\"10000000\",\"2419200000\",\"16180000\",\"0\",\"15000000000\",\"21000000\",\"337000000\",\"0\",\"3770000\",\"420000000\",\"98000000\",\"0\",\"21000000\",\"250000000\",\"51200000\",\"0\",\"1000\",\"888000000\",\"100000000\",\"47011968\",\"2300000000\",\"10000000\",\"42000000\",\"80000000\",\"250000\",\"0\",\"1600000000\",\"100000000\",\"23000000\",\"0\",\"84000000\",\"265420800\",\"5500000\",\"0\",\"45000000\",\"0\",\"1000000000\",\"184467440735\",\"10000000000\",\"2158812800\",\"500000000\",\"105120000\",\"68000000\",\"0\",\"1680000000\",\"0\",\"166386000\",\"12000000\",\"2628000\",\"500000000\",\"160000000\",\"0\",\"10000000\",\"1000000000\",\"1000000000\",\"20000000\",\"0\",\"0\",\"3371337\",\"20000000\",\"10000000000\",\"1840000000\",\"619478\",\"21000000\",\"92000000000\",\"0\",\"78000000\",\"33000000\",\"65789100\",\"53760000\",\"5060000\",\"21000000\",\"0\",\"210240000\",\"250000000\",\"100000000\",\"16906397\",\"50000000\",\"0\",\"1000000000\",\"26298000\",\"16000000\",\"21000000\",\"21000000\",\"210000000\",\"81962100\",\"22000000\",\"26550000000\",\"84000000\",\"10500000\",\"21626280000 \",\"0\",\"42000000\",\"221052632\",\"84000000\",\"30000000\",\"168351300\",\"24000000\",\"384000000\",\" 99000000000\",\"40000000\",\"2147483647\",\"20000000\",\"20000000\",\"25000000\",\"75000000\",\"222725000\",\"525000000\",\"90000000\",\"139000000\",\"616448\",\"33500000\",\"2000000000\",\"44333333\",\"100000000\",\"200000000\",\"25000000\",\"657000000\",\"200000000\",\"50000000\",\"90000000\",\"10000000\",\"21000000\",\"9736000\",\"3000000\",\"21000000\",\"1200000000\",\"0\",\"200000000\",\"0\",\"10638298\",\"3100000000\",\"30000000\",\"20000000000\",\"74000000\",\"0\",\"1500000000\",\"21400000\",\"39999898\",\"2500124\",\"100000000\",\"301000000\",\"7506000000\",\"26205539\"],\"TotalCoinsMined\":{\"__ndarray__\":\"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\",\"dtype\":\"float64\",\"order\":\"little\",\"shape\":[205]}},\"selected\":{\"id\":\"1241\"},\"selection_policy\":{\"id\":\"1275\"}},\"id\":\"1240\",\"type\":\"ColumnDataSource\"},{\"attributes\":{},\"id\":\"1267\",\"type\":\"NumberFormatter\"},{\"attributes\":{\"children\":[{\"id\":\"1239\"},{\"id\":\"1272\"},{\"id\":\"1279\"}],\"margin\":[0,0,0,0],\"name\":\"Row02211\",\"tags\":[\"embedded\"]},\"id\":\"1238\",\"type\":\"Row\"},{\"attributes\":{\"editor\":{\"id\":\"1268\"},\"field\":\"Class\",\"formatter\":{\"id\":\"1267\"},\"title\":\"Class\"},\"id\":\"1269\",\"type\":\"TableColumn\"},{\"attributes\":{},\"id\":\"1248\",\"type\":\"StringEditor\"},{\"attributes\":{},\"id\":\"1247\",\"type\":\"StringFormatter\"},{\"attributes\":{},\"id\":\"1243\",\"type\":\"StringEditor\"},{\"attributes\":{},\"id\":\"1257\",\"type\":\"StringFormatter\"},{\"attributes\":{\"columns\":[{\"id\":\"1244\"},{\"id\":\"1249\"},{\"id\":\"1254\"},{\"id\":\"1259\"},{\"id\":\"1264\"},{\"id\":\"1269\"}],\"height\":300,\"reorderable\":false,\"source\":{\"id\":\"1240\"},\"view\":{\"id\":\"1274\"},\"width\":700},\"id\":\"1272\",\"type\":\"DataTable\"},{\"attributes\":{\"editor\":{\"id\":\"1243\"},\"field\":\"CoinName\",\"formatter\":{\"id\":\"1242\"},\"title\":\"CoinName\"},\"id\":\"1244\",\"type\":\"TableColumn\"},{\"attributes\":{},\"id\":\"1252\",\"type\":\"StringFormatter\"},{\"attributes\":{\"format\":\"0,0.0[00000]\"},\"id\":\"1262\",\"type\":\"NumberFormatter\"},{\"attributes\":{\"margin\":[5,5,5,5],\"name\":\"HSpacer02215\",\"sizing_mode\":\"stretch_width\"},\"id\":\"1239\",\"type\":\"Spacer\"},{\"attributes\":{\"source\":{\"id\":\"1240\"}},\"id\":\"1274\",\"type\":\"CDSView\"},{\"attributes\":{\"editor\":{\"id\":\"1248\"},\"field\":\"Algorithm\",\"formatter\":{\"id\":\"1247\"},\"title\":\"Algorithm\"},\"id\":\"1249\",\"type\":\"TableColumn\"},{\"attributes\":{\"margin\":[5,5,5,5],\"name\":\"HSpacer02216\",\"sizing_mode\":\"stretch_width\"},\"id\":\"1279\",\"type\":\"Spacer\"},{\"attributes\":{},\"id\":\"1253\",\"type\":\"StringEditor\"},{\"attributes\":{},\"id\":\"1275\",\"type\":\"UnionRenderers\"},{\"attributes\":{},\"id\":\"1268\",\"type\":\"IntEditor\"},{\"attributes\":{\"editor\":{\"id\":\"1253\"},\"field\":\"ProofType\",\"formatter\":{\"id\":\"1252\"},\"title\":\"ProofType\"},\"id\":\"1254\",\"type\":\"TableColumn\"},{\"attributes\":{},\"id\":\"1258\",\"type\":\"StringEditor\"},{\"attributes\":{\"editor\":{\"id\":\"1263\"},\"field\":\"TotalCoinsMined\",\"formatter\":{\"id\":\"1262\"},\"title\":\"TotalCoinsMined\"},\"id\":\"1264\",\"type\":\"TableColumn\"},{\"attributes\":{\"editor\":{\"id\":\"1258\"},\"field\":\"TotalCoinSupply\",\"formatter\":{\"id\":\"1257\"},\"title\":\"TotalCoinSupply\"},\"id\":\"1259\",\"type\":\"TableColumn\"}],\"root_ids\":[\"1238\"]},\"title\":\"Bokeh Application\",\"version\":\"2.4.2\"}};\n",
       "    var render_items = [{\"docid\":\"85f27945-9ac3-4ac0-add0-31092b6da9e9\",\"root_ids\":[\"1238\"],\"roots\":{\"1238\":\"ed4b1fcf-6893-443a-b951-5c2c9683e8d8\"}}];\n",
       "    root.Bokeh.embed.embed_items_notebook(docs_json, render_items);\n",
       "  }\n",
       "  if (root.Bokeh !== undefined && root.Bokeh.Panel !== undefined) {\n",
       "    embed_document(root);\n",
       "  } else {\n",
       "    var attempts = 0;\n",
       "    var timer = setInterval(function(root) {\n",
       "      if (root.Bokeh !== undefined && root.Bokeh.Panel !== undefined) {\n",
       "        clearInterval(timer);\n",
       "        embed_document(root);\n",
       "      } else if (document.readyState == \"complete\") {\n",
       "        attempts++;\n",
       "        if (attempts > 200) {\n",
       "          clearInterval(timer);\n",
       "          console.log(\"Bokeh: ERROR: Unable to run BokehJS code because BokehJS library is missing\");\n",
       "        }\n",
       "      }\n",
       "    }, 25, root)\n",
       "  }\n",
       "})(window);</script>"
      ],
      "text/plain": [
       ":Table   [CoinName,Algorithm,ProofType,TotalCoinSupply,TotalCoinsMined,Class]"
      ]
     },
     "execution_count": 71,
     "metadata": {
      "application/vnd.holoviews_exec.v0+json": {
       "id": "1238"
      }
     },
     "output_type": "execute_result"
    }
   ],
   "source": [
    "# Create a table with tradable cryptocurrencies.\n",
    "tradable_crypto = clustered_df.hvplot.table(columns=['CoinName', 'Algorithm', 'ProofType', 'TotalCoinSupply', \n",
    "                                                  'TotalCoinsMined', 'Class'], sortable=True, selectable=True)\n",
    "tradable_crypto"
   ]
  },
  {
   "cell_type": "code",
   "execution_count": 72,
   "metadata": {},
   "outputs": [
    {
     "name": "stdout",
     "output_type": "stream",
     "text": [
      "205\n"
     ]
    }
   ],
   "source": [
    "# Print the total number of tradable cryptocurrencies.\n",
    "print(len(clustered_df))"
   ]
  },
  {
   "cell_type": "code",
   "execution_count": 73,
   "metadata": {},
   "outputs": [
    {
     "data": {
      "text/plain": [
       "array([[1.09375000e-10, 0.00000000e+00],\n",
       "       [1.38541667e-03, 5.73261824e-03],\n",
       "       [8.18123087e-01, 1.59069533e-01],\n",
       "       [5.46875000e-05, 9.73946969e-05],\n",
       "       [0.00000000e+00, 5.85027630e-04],\n",
       "       [2.18750000e-04, 3.42479966e-04],\n",
       "       [5.72916667e-05, 4.90650729e-05],\n",
       "       [0.00000000e+00, 9.34503042e-05],\n",
       "       [5.46875000e-04, 6.15861433e-04],\n",
       "       [5.46875000e-05, 4.01105093e-05],\n",
       "       [9.37648568e-03, 1.48944271e-02],\n",
       "       [5.46875000e-02, 6.19678145e-02],\n",
       "       [5.72916667e-05, 7.00191343e-06],\n",
       "       [3.25520833e-05, 6.51681401e-05],\n",
       "       [5.46875000e-05, 3.13379007e-05],\n",
       "       [9.11458333e-04, 1.38767500e-04],\n",
       "       [5.20833333e-05, 6.05741516e-05],\n",
       "       [1.66666667e-04, 6.63115322e-05],\n",
       "       [4.36681875e-05, 9.85243138e-05],\n",
       "       [0.00000000e+00, 3.45213672e-03],\n",
       "       [5.20833333e-03, 9.17196335e-03],\n",
       "       [1.00000000e+00, 2.49909484e-10],\n",
       "       [4.42176010e-04, 9.24687783e-04],\n",
       "       [6.51041667e-04, 7.00511385e-04],\n",
       "       [2.60416667e-04, 3.99732686e-05],\n",
       "       [0.00000000e+00, 6.68576516e-04],\n",
       "       [6.43229167e-04, 1.41012438e-03],\n",
       "       [2.18750000e-04, 2.69187792e-04],\n",
       "       [1.25432292e-04, 1.81689154e-04],\n",
       "       [1.30208333e-06, 2.31098005e-07],\n",
       "       [5.46875000e-05, 3.92244203e-05],\n",
       "       [2.60416667e-06, 5.64509455e-06],\n",
       "       [3.42187500e-05, 2.55550527e-05],\n",
       "       [4.68750000e-05, 2.71474455e-05],\n",
       "       [1.04166667e-01, 2.17312362e-01],\n",
       "       [1.14062500e-05, 1.79524240e-05],\n",
       "       [4.31119792e-02, 8.65421039e-02],\n",
       "       [5.46875000e-02, 1.01994790e-01],\n",
       "       [3.51562500e-02, 6.81220795e-02],\n",
       "       [5.46875000e-05, 1.13602418e-04],\n",
       "       [7.80709526e-04, 1.18908907e-03],\n",
       "       [8.33333333e-05, 1.05922096e-04],\n",
       "       [0.00000000e+00, 3.08565266e-05],\n",
       "       [0.00000000e+00, 2.50903363e-03],\n",
       "       [2.92599297e-05, 6.20801780e-06],\n",
       "       [8.75000000e-04, 1.13365918e-03],\n",
       "       [3.69950420e-03, 4.80328675e-03],\n",
       "       [1.82291667e-04, 3.56787146e-04],\n",
       "       [1.88139844e-04, 2.26323267e-04],\n",
       "       [3.12500000e-04, 4.84970009e-04],\n",
       "       [0.00000000e+00, 9.11907952e-03],\n",
       "       [2.35937500e-01, 4.92189460e-01],\n",
       "       [5.72916667e-05, 9.58938234e-05],\n",
       "       [5.46875000e-05, 1.14574186e-04],\n",
       "       [6.91200000e-04, 8.22785989e-04],\n",
       "       [5.20833333e-05, 1.04995980e-04],\n",
       "       [3.51562500e-06, 5.99946355e-06],\n",
       "       [2.60416667e-04, 3.33823120e-04],\n",
       "       [1.09375000e-04, 2.07272317e-04],\n",
       "       [5.20833333e-04, 2.19658345e-04],\n",
       "       [0.00000000e+00, 1.15685838e-01],\n",
       "       [2.60416667e-05, 3.15329108e-05],\n",
       "       [6.30000000e-03, 8.76766373e-03],\n",
       "       [4.21354167e-05, 8.79026281e-05],\n",
       "       [0.00000000e+00, 3.59038370e-04],\n",
       "       [3.90625000e-02, 1.28543871e-02],\n",
       "       [5.46875000e-05, 8.00598245e-05],\n",
       "       [8.77604167e-04, 1.81841119e-03],\n",
       "       [0.00000000e+00, 8.23414106e-05],\n",
       "       [9.81770833e-06, 1.74967663e-05],\n",
       "       [1.09375000e-03, 1.20976270e-03],\n",
       "       [2.55208333e-04, 4.01806415e-04],\n",
       "       [0.00000000e+00, 1.59265889e-01],\n",
       "       [5.46875000e-05, 5.99844866e-06],\n",
       "       [6.51041667e-04, 1.31556239e-04],\n",
       "       [1.33333333e-04, 1.39045668e-04],\n",
       "       [0.00000000e+00, 2.75484834e-04],\n",
       "       [2.60416667e-09, 6.16623893e-09],\n",
       "       [2.31250000e-03, 3.06049984e-03],\n",
       "       [2.60416667e-04, 4.36039575e-04],\n",
       "       [1.22427000e-04, 2.36526909e-04],\n",
       "       [5.98958333e-03, 8.81379040e-03],\n",
       "       [2.60416667e-05, 7.77874541e-06],\n",
       "       [1.09375000e-04, 1.24603407e-04],\n",
       "       [2.08333333e-04, 1.23765266e-05],\n",
       "       [6.51041667e-07, 1.09128729e-06],\n",
       "       [0.00000000e+00, 6.55885695e-06],\n",
       "       [4.16666667e-03, 5.97039976e-03],\n",
       "       [2.60416667e-04, 2.72918100e-04],\n",
       "       [5.98958333e-05, 1.25774157e-04],\n",
       "       [0.00000000e+00, 1.73964351e-04],\n",
       "       [2.18750000e-04, 2.78016860e-04],\n",
       "       [6.91200000e-04, 6.49801487e-04],\n",
       "       [1.43229167e-05, 3.77623124e-05],\n",
       "       [0.00000000e+00, 5.43280713e-04],\n",
       "       [1.17187500e-04, 2.12942754e-04],\n",
       "       [0.00000000e+00, 1.79791675e-04],\n",
       "       [2.60416667e-03, 8.04002530e-04],\n",
       "       [4.80383960e-01, 1.00000000e+00],\n",
       "       [2.60416667e-02, 3.75221740e-02],\n",
       "       [5.62190833e-03, 9.84986752e-03],\n",
       "       [1.30208333e-03, 2.78013710e-04],\n",
       "       [2.73750000e-04, 3.70488443e-04],\n",
       "       [1.77083333e-04, 2.12540479e-04],\n",
       "       [0.00000000e+00, 2.88991718e-04],\n",
       "       [4.37500000e-03, 2.25479181e-03],\n",
       "       [0.00000000e+00, 1.47687927e-04],\n",
       "       [4.33296875e-04, 7.47106979e-04],\n",
       "       [3.12500000e-05, 1.09874381e-05],\n",
       "       [6.84375000e-06, 9.88104401e-07],\n",
       "       [1.30208333e-03, 9.48818824e-04],\n",
       "       [4.16666667e-04, 8.27257273e-04],\n",
       "       [0.00000000e+00, 7.97427222e-06],\n",
       "       [2.60416667e-05, 3.85555184e-05],\n",
       "       [2.60416667e-03, 4.30570360e-03],\n",
       "       [2.60416667e-03, 3.90845517e-03],\n",
       "       [5.20833333e-05, 1.46130078e-05],\n",
       "       [0.00000000e+00, 3.53747932e-04],\n",
       "       [0.00000000e+00, 3.45811521e-05],\n",
       "       [8.77952344e-06, 5.50887007e-05],\n",
       "       [5.20833333e-05, 6.30460147e-05],\n",
       "       [2.60416667e-02, 2.50471018e-02],\n",
       "       [4.79166667e-03, 3.84918066e-03],\n",
       "       [1.61322396e-06, 3.36527773e-06],\n",
       "       [5.46875000e-05, 6.77068111e-05],\n",
       "       [2.39583333e-01, 4.79016239e-07],\n",
       "       [0.00000000e+00, 8.22343716e-06],\n",
       "       [2.03125000e-04, 3.45837316e-04],\n",
       "       [8.59375000e-05, 1.75053447e-04],\n",
       "       [1.71325781e-04, 7.46614482e-05],\n",
       "       [1.40000000e-04, 8.01184988e-05],\n",
       "       [1.31770833e-05, 4.65482913e-05],\n",
       "       [5.46875000e-05, 8.61849775e-05],\n",
       "       [0.00000000e+00, 1.78825277e-06],\n",
       "       [5.47500000e-04, 1.76920840e-04],\n",
       "       [6.51041667e-04, 4.10798939e-04],\n",
       "       [2.60416667e-04, 5.43280713e-04],\n",
       "       [4.40270755e-05, 5.70186169e-05],\n",
       "       [1.30208333e-04, 1.25185848e-04],\n",
       "       [0.00000000e+00, 1.79816737e-01],\n",
       "       [2.60416667e-03, 2.33935430e-04],\n",
       "       [6.84843750e-05, 7.35087061e-05],\n",
       "       [4.16666667e-05, 8.62059346e-05],\n",
       "       [5.46875000e-05, 1.14075062e-04],\n",
       "       [5.46875000e-05, 5.63110963e-05],\n",
       "       [5.46875000e-04, 1.14088975e-03],\n",
       "       [2.13442969e-04, 6.21997297e-05],\n",
       "       [5.72916667e-05, 1.99365082e-05],\n",
       "       [6.91406250e-02, 5.97409002e-02],\n",
       "       [2.18750000e-04, 3.79405993e-04],\n",
       "       [2.73437500e-05, 2.78647274e-05],\n",
       "       [5.63184375e-02, 1.18109124e-01],\n",
       "       [0.00000000e+00, 5.47053973e-02],\n",
       "       [1.09375000e-04, 4.88882288e-05],\n",
       "       [5.75657896e-04, 2.19903827e-04],\n",
       "       [2.18750000e-04, 2.45075565e-04],\n",
       "       [7.81250000e-05, 3.09779119e-05],\n",
       "       [4.38414844e-04, 3.45755161e-06],\n",
       "       [6.25000000e-05, 9.37882894e-05],\n",
       "       [1.00000000e-03, 5.65404851e-05],\n",
       "       [2.57812500e-01, 2.00857679e-01],\n",
       "       [1.04166667e-04, 2.37796220e-05],\n",
       "       [5.59240533e-03, 1.16668691e-02],\n",
       "       [5.20833333e-05, 1.08655960e-04],\n",
       "       [5.20833333e-05, 3.56977175e-05],\n",
       "       [6.51041667e-05, 7.41797997e-05],\n",
       "       [1.95312500e-04, 7.31011123e-04],\n",
       "       [5.80013021e-04, 6.49483130e-06],\n",
       "       [1.36718750e-03, 9.05256972e-05],\n",
       "       [2.34375000e-04, 4.53369907e-04],\n",
       "       [3.61979167e-04, 1.32493631e-04],\n",
       "       [1.60533333e-06, 3.34881632e-06],\n",
       "       [8.72395833e-05, 2.09650848e-04],\n",
       "       [5.20833333e-03, 4.41737548e-03],\n",
       "       [1.15451388e-04, 2.45904275e-05],\n",
       "       [2.60416667e-04, 5.43280713e-04],\n",
       "       [5.20833333e-04, 2.71638189e-05],\n",
       "       [6.51041667e-05, 7.48573227e-06],\n",
       "       [1.71093750e-03, 3.56935556e-03],\n",
       "       [5.20833333e-04, 6.29652229e-04],\n",
       "       [1.30208333e-04, 8.45553276e-05],\n",
       "       [2.34375000e-04, 2.34509707e-04],\n",
       "       [2.60416667e-05, 4.24975580e-05],\n",
       "       [5.46875000e-05, 3.23462410e-06],\n",
       "       [2.53541667e-05, 3.39213645e-05],\n",
       "       [7.81250000e-06, 3.57258475e-06],\n",
       "       [5.46875000e-05, 1.40271227e-05],\n",
       "       [3.12500000e-03, 5.43280918e-03],\n",
       "       [0.00000000e+00, 1.05388190e-05],\n",
       "       [5.20833333e-04, 6.34797626e-04],\n",
       "       [0.00000000e+00, 9.21396729e-04],\n",
       "       [2.77039010e-05, 4.94748134e-05],\n",
       "       [8.07291667e-03, 3.61390490e-03],\n",
       "       [7.81250000e-05, 6.04082662e-05],\n",
       "       [5.20833333e-02, 1.06362387e-01],\n",
       "       [1.92708333e-04, 4.02211334e-04],\n",
       "       [0.00000000e+00, 1.82123608e-04],\n",
       "       [3.90625000e-03, 1.43794739e-03],\n",
       "       [5.57291667e-05, 4.11168014e-05],\n",
       "       [1.04166401e-04, 8.07949890e-04],\n",
       "       [6.51073958e-06, 1.35824690e-05],\n",
       "       [2.60416667e-04, 5.43280713e-04],\n",
       "       [7.83854167e-04, 9.68052760e-05],\n",
       "       [1.95468750e-02, 5.87918312e-03],\n",
       "       [6.82435911e-05, 1.42369471e-04]])"
      ]
     },
     "execution_count": 73,
     "metadata": {},
     "output_type": "execute_result"
    }
   ],
   "source": [
    "# Scaling data to create the scatter plot with tradable cryptocurrencies.\n",
    "X_cluster = clustered_df[['TotalCoinSupply', 'TotalCoinsMined']].copy()\n",
    "X_cluster_scaled = MinMaxScaler().fit_transform(X_cluster)\n",
    "X_cluster_scaled"
   ]
  },
  {
   "cell_type": "code",
   "execution_count": 76,
   "metadata": {},
   "outputs": [
    {
     "data": {
      "text/html": [
       "<div>\n",
       "<style scoped>\n",
       "    .dataframe tbody tr th:only-of-type {\n",
       "        vertical-align: middle;\n",
       "    }\n",
       "\n",
       "    .dataframe tbody tr th {\n",
       "        vertical-align: top;\n",
       "    }\n",
       "\n",
       "    .dataframe thead th {\n",
       "        text-align: right;\n",
       "    }\n",
       "</style>\n",
       "<table border=\"1\" class=\"dataframe\">\n",
       "  <thead>\n",
       "    <tr style=\"text-align: right;\">\n",
       "      <th></th>\n",
       "      <th>TotalCoinSupply</th>\n",
       "      <th>TotalCoinsMined</th>\n",
       "      <th>CoinName</th>\n",
       "      <th>Class</th>\n",
       "    </tr>\n",
       "  </thead>\n",
       "  <tbody>\n",
       "    <tr>\n",
       "      <th>0</th>\n",
       "      <td>1.093750e-10</td>\n",
       "      <td>0.000000</td>\n",
       "      <td>42 Coin</td>\n",
       "      <td>9</td>\n",
       "    </tr>\n",
       "    <tr>\n",
       "      <th>2</th>\n",
       "      <td>1.385417e-03</td>\n",
       "      <td>0.005733</td>\n",
       "      <td>EliteCoin</td>\n",
       "      <td>6</td>\n",
       "    </tr>\n",
       "    <tr>\n",
       "      <th>5</th>\n",
       "      <td>8.181231e-01</td>\n",
       "      <td>0.159070</td>\n",
       "      <td>Litecoin</td>\n",
       "      <td>8</td>\n",
       "    </tr>\n",
       "    <tr>\n",
       "      <th>7</th>\n",
       "      <td>5.468750e-05</td>\n",
       "      <td>0.000097</td>\n",
       "      <td>Monero</td>\n",
       "      <td>1</td>\n",
       "    </tr>\n",
       "    <tr>\n",
       "      <th>8</th>\n",
       "      <td>0.000000e+00</td>\n",
       "      <td>0.000585</td>\n",
       "      <td>Ethereum Classic</td>\n",
       "      <td>1</td>\n",
       "    </tr>\n",
       "    <tr>\n",
       "      <th>9</th>\n",
       "      <td>2.187500e-04</td>\n",
       "      <td>0.000342</td>\n",
       "      <td>ZCash</td>\n",
       "      <td>1</td>\n",
       "    </tr>\n",
       "    <tr>\n",
       "      <th>10</th>\n",
       "      <td>5.729167e-05</td>\n",
       "      <td>0.000049</td>\n",
       "      <td>Bitshares</td>\n",
       "      <td>0</td>\n",
       "    </tr>\n",
       "    <tr>\n",
       "      <th>11</th>\n",
       "      <td>0.000000e+00</td>\n",
       "      <td>0.000093</td>\n",
       "      <td>DigiByte</td>\n",
       "      <td>1</td>\n",
       "    </tr>\n",
       "    <tr>\n",
       "      <th>12</th>\n",
       "      <td>5.468750e-04</td>\n",
       "      <td>0.000616</td>\n",
       "      <td>BitcoinDark</td>\n",
       "      <td>9</td>\n",
       "    </tr>\n",
       "    <tr>\n",
       "      <th>13</th>\n",
       "      <td>5.468750e-05</td>\n",
       "      <td>0.000040</td>\n",
       "      <td>PayCoin</td>\n",
       "      <td>9</td>\n",
       "    </tr>\n",
       "  </tbody>\n",
       "</table>\n",
       "</div>"
      ],
      "text/plain": [
       "    TotalCoinSupply  TotalCoinsMined          CoinName  Class\n",
       "0      1.093750e-10         0.000000           42 Coin      9\n",
       "2      1.385417e-03         0.005733         EliteCoin      6\n",
       "5      8.181231e-01         0.159070          Litecoin      8\n",
       "7      5.468750e-05         0.000097            Monero      1\n",
       "8      0.000000e+00         0.000585  Ethereum Classic      1\n",
       "9      2.187500e-04         0.000342             ZCash      1\n",
       "10     5.729167e-05         0.000049         Bitshares      0\n",
       "11     0.000000e+00         0.000093          DigiByte      1\n",
       "12     5.468750e-04         0.000616       BitcoinDark      9\n",
       "13     5.468750e-05         0.000040           PayCoin      9"
      ]
     },
     "execution_count": 76,
     "metadata": {},
     "output_type": "execute_result"
    }
   ],
   "source": [
    "# Create a new DataFrame that has the scaled data with the clustered_df DataFrame index.\n",
    "sc_df = pd.DataFrame(X_cluster_scaled, columns=['TotalCoinSupply', 'TotalCoinsMined'], index=clustered_df.index)\n",
    "\n",
    "# Add the \"CoinName\" column from the clustered_df DataFrame to the new DataFrame.\n",
    "sc_df['CoinName'] = clustered_df.CoinName\n",
    "\n",
    "# Add the \"Class\" column from the clustered_df DataFrame to the new DataFrame. \n",
    "sc_df['Class'] = clustered_df.Class\n",
    "\n",
    "sc_df.head(10)"
   ]
  },
  {
   "cell_type": "code",
   "execution_count": 77,
   "metadata": {},
   "outputs": [
    {
     "data": {},
     "metadata": {},
     "output_type": "display_data"
    },
    {
     "data": {
      "application/vnd.holoviews_exec.v0+json": "",
      "text/html": [
       "<div id='1291'>\n",
       "\n",
       "\n",
       "\n",
       "\n",
       "\n",
       "  <div class=\"bk-root\" id=\"9d5cb8cc-3f75-43f1-bc49-0373362ea980\" data-root-id=\"1291\"></div>\n",
       "</div>\n",
       "<script type=\"application/javascript\">(function(root) {\n",
       "  function embed_document(root) {\n",
       "    var docs_json = {\"8d212cb8-74c9-48e7-92c4-e25615b3a208\":{\"defs\":[{\"extends\":null,\"module\":null,\"name\":\"ReactiveHTML1\",\"overrides\":[],\"properties\":[]},{\"extends\":null,\"module\":null,\"name\":\"FlexBox1\",\"overrides\":[],\"properties\":[{\"default\":\"flex-start\",\"kind\":null,\"name\":\"align_content\"},{\"default\":\"flex-start\",\"kind\":null,\"name\":\"align_items\"},{\"default\":\"row\",\"kind\":null,\"name\":\"flex_direction\"},{\"default\":\"wrap\",\"kind\":null,\"name\":\"flex_wrap\"},{\"default\":\"flex-start\",\"kind\":null,\"name\":\"justify_content\"}]},{\"extends\":null,\"module\":null,\"name\":\"GridStack1\",\"overrides\":[],\"properties\":[{\"default\":\"warn\",\"kind\":null,\"name\":\"mode\"},{\"default\":null,\"kind\":null,\"name\":\"ncols\"},{\"default\":null,\"kind\":null,\"name\":\"nrows\"},{\"default\":true,\"kind\":null,\"name\":\"allow_resize\"},{\"default\":true,\"kind\":null,\"name\":\"allow_drag\"},{\"default\":[],\"kind\":null,\"name\":\"state\"}]},{\"extends\":null,\"module\":null,\"name\":\"click1\",\"overrides\":[],\"properties\":[{\"default\":\"\",\"kind\":null,\"name\":\"terminal_output\"},{\"default\":\"\",\"kind\":null,\"name\":\"debug_name\"},{\"default\":0,\"kind\":null,\"name\":\"clears\"}]},{\"extends\":null,\"module\":null,\"name\":\"TemplateActions1\",\"overrides\":[],\"properties\":[{\"default\":0,\"kind\":null,\"name\":\"open_modal\"},{\"default\":0,\"kind\":null,\"name\":\"close_modal\"}]},{\"extends\":null,\"module\":null,\"name\":\"MaterialTemplateActions1\",\"overrides\":[],\"properties\":[{\"default\":0,\"kind\":null,\"name\":\"open_modal\"},{\"default\":0,\"kind\":null,\"name\":\"close_modal\"}]}],\"roots\":{\"references\":[{\"attributes\":{},\"id\":\"1408\",\"type\":\"Selection\"},{\"attributes\":{},\"id\":\"1486\",\"type\":\"UnionRenderers\"},{\"attributes\":{\"angle\":{\"value\":0.0},\"fill_alpha\":{\"value\":1.0},\"fill_color\":{\"value\":\"#e5ae38\"},\"hatch_alpha\":{\"value\":1.0},\"hatch_color\":{\"value\":\"#e5ae38\"},\"hatch_scale\":{\"value\":12.0},\"hatch_weight\":{\"value\":1.0},\"line_alpha\":{\"value\":1.0},\"line_cap\":{\"value\":\"butt\"},\"line_color\":{\"value\":\"#e5ae38\"},\"line_dash\":{\"value\":[]},\"line_dash_offset\":{\"value\":0},\"line_join\":{\"value\":\"bevel\"},\"line_width\":{\"value\":1},\"marker\":{\"value\":\"circle\"},\"size\":{\"value\":5.477225575051661},\"x\":{\"field\":\"TotalCoinsMined\"},\"y\":{\"field\":\"TotalCoinSupply\"}},\"id\":\"1406\",\"type\":\"Scatter\"},{\"attributes\":{\"callback\":null,\"renderers\":[{\"id\":\"1346\"},{\"id\":\"1367\"},{\"id\":\"1389\"},{\"id\":\"1413\"},{\"id\":\"1439\"},{\"id\":\"1467\"},{\"id\":\"1497\"},{\"id\":\"1529\"},{\"id\":\"1563\"}],\"tags\":[\"hv_created\"],\"tooltips\":[[\"Class\",\"@{Class}\"],[\"TotalCoinsMined\",\"@{TotalCoinsMined}\"],[\"TotalCoinSupply\",\"@{TotalCoinSupply}\"],[\"CoinName\",\"@{CoinName}\"]]},\"id\":\"1295\",\"type\":\"HoverTool\"},{\"attributes\":{\"end\":1.1,\"reset_end\":1.1,\"reset_start\":-0.1,\"start\":-0.1,\"tags\":[[[\"TotalCoinSupply\",\"TotalCoinSupply\",null]]]},\"id\":\"1294\",\"type\":\"Range1d\"},{\"attributes\":{},\"id\":\"1588\",\"type\":\"UnionRenderers\"},{\"attributes\":{\"data\":{\"Class\":[1,1,1,1,1,1,1,1,1,1,1,1,1,1,1,1,1,1,1,1,1,1,1,1,1,1,1,1,1,1,1,1,1,1,1,1,1,1,1,1,1],\"CoinName\":[\"Monero\",\"Ethereum Classic\",\"ZCash\",\"DigiByte\",\"MyriadCoin\",\"FeatherCoin\",\"DigitalNote \",\"Cryptonite\",\"Crypto\",\"Expanse\",\"Siacoin\",\"HOdlcoin\",\"Komodo\",\"Karbo\",\"Circuits of Value\",\"ZClassic\",\"Cannabis Industry Coin\",\"Bikercoins\",\"Zero\",\"DubaiCoin\",\"VIVO Coin\",\"Bitcoin Gold\",\"Pirl\",\"Innova\",\"Ellaism\",\"GoByte\",\"BitCoal\",\"GunCoin\",\"MUNcoin\",\"Niobio Cash\",\"Travelflex\",\"MassGrid\",\"PluraCoin\",\"Webchain\",\"Ryo\",\"CrypticCoin\",\"Actinium\",\"FREDEnergy\",\"Bithereum\",\"BlakeCoin\",\"JoinCoin\"],\"TotalCoinSupply\":{\"__ndarray__\":\"eekmMQisDD8AAAAAAAAAAHnpJjEIrCw/AAAAAAAAAAB56SYxCKwMPwAAAAAAAPA/q/IKMmxObj9OG+i0gU4LPxERERERETE/INJvXwfOeT/gjIfkURcGP3npJjEIrAw/ERERERERMT9OG+i0gU77PqXi7MNn2KU+AAAAAAAAAAAAAAAAAAAAAE4b6LSBTjs/ThvotIFOCz8nO2ODeGniPlVVVVVVVUU/OevGyzYVBz9VVVVVVVVlP+tRuB6F60E/R+sDJPX5Kz+jt2WtjgkOPwAAAAAAAAAAGyN+amG7PD9OG+i0gU4bP04b6LSBTgs/ThvotIFOCz8R45yq2u66PkX9G6GM3hY/ERERERERQT8REREREREhP/yp8dJNYuA+eekmMQisDD8AAAAAAAAAAAAAAAAAAAAAAAAAAAAAcD8XoCV42k7bPg==\",\"dtype\":\"float64\",\"order\":\"little\",\"shape\":[41]},\"TotalCoinsMined\":{\"__ndarray__\":\"Ja71JgyIGT/9SyRFkStDP6yhI0HccTY/HhNsAFh/GD9Y8ZIRGm4AP9QQH0J0LPE9mhcqeJyscz/agzk1KYYbP1nEpWGf4DU/KqfD58f0gT+LUfOmCwsXP0M3o0+5/BQ/YS2MtoeTPD+JegKhLlDgPpTfyBELT7I+Z9Dyuc6QJz9HGNX5efAyPyUOiXeJG0s/D3zofkyl7j6gDAZY4eEMPyzxUQIQ7Do/hw2NwujkDT+T9KsLkqkuP//pJAo9sVI/c3JJOCdOED9WWLJpquf0PrG/RYhYAqw/JMc6GQkBzT5LKSkuS+/4PkK9KS7Hexw/uWLqO0S3Aj/OVsA9hxfMPjhfZxG3eis/mpSO3eehRD+hrmB3aSoWP23fuDwR+M0+hkvqEcFq7T4uIoxC/BnmPqEg0mg8MU4/VDhDQTCPVz9w2AFUCHzsPg==\",\"dtype\":\"float64\",\"order\":\"little\",\"shape\":[41]}},\"selected\":{\"id\":\"1362\"},\"selection_policy\":{\"id\":\"1378\"}},\"id\":\"1361\",\"type\":\"ColumnDataSource\"},{\"attributes\":{\"label\":{\"value\":\"9\"},\"renderers\":[{\"id\":\"1563\"}]},\"id\":\"1591\",\"type\":\"LegendItem\"},{\"attributes\":{},\"id\":\"1428\",\"type\":\"UnionRenderers\"},{\"attributes\":{},\"id\":\"1336\",\"type\":\"AllLabels\"},{\"attributes\":{\"label\":{\"value\":\"3\"},\"renderers\":[{\"id\":\"1413\"}]},\"id\":\"1431\",\"type\":\"LegendItem\"},{\"attributes\":{\"margin\":[5,5,5,5],\"name\":\"HSpacer02554\",\"sizing_mode\":\"stretch_width\"},\"id\":\"1827\",\"type\":\"Spacer\"},{\"attributes\":{},\"id\":\"1335\",\"type\":\"BasicTickFormatter\"},{\"attributes\":{},\"id\":\"1339\",\"type\":\"AllLabels\"},{\"attributes\":{},\"id\":\"1338\",\"type\":\"BasicTickFormatter\"},{\"attributes\":{\"fill_alpha\":{\"value\":0.2},\"fill_color\":{\"value\":\"#8b8b8b\"},\"hatch_alpha\":{\"value\":0.2},\"hatch_color\":{\"value\":\"#8b8b8b\"},\"line_alpha\":{\"value\":0.2},\"line_color\":{\"value\":\"#8b8b8b\"},\"size\":{\"value\":5.477225575051661},\"x\":{\"field\":\"TotalCoinsMined\"},\"y\":{\"field\":\"TotalCoinSupply\"}},\"id\":\"1438\",\"type\":\"Scatter\"},{\"attributes\":{},\"id\":\"1309\",\"type\":\"LinearScale\"},{\"attributes\":{\"angle\":{\"value\":0.0},\"fill_alpha\":{\"value\":1.0},\"fill_color\":{\"value\":\"#9467bd\"},\"hatch_alpha\":{\"value\":1.0},\"hatch_color\":{\"value\":\"#9467bd\"},\"hatch_scale\":{\"value\":12.0},\"hatch_weight\":{\"value\":1.0},\"line_alpha\":{\"value\":1.0},\"line_cap\":{\"value\":\"butt\"},\"line_color\":{\"value\":\"#9467bd\"},\"line_dash\":{\"value\":[]},\"line_dash_offset\":{\"value\":0},\"line_join\":{\"value\":\"bevel\"},\"line_width\":{\"value\":1},\"marker\":{\"value\":\"circle\"},\"size\":{\"value\":5.477225575051661},\"x\":{\"field\":\"TotalCoinsMined\"},\"y\":{\"field\":\"TotalCoinSupply\"}},\"id\":\"1522\",\"type\":\"Scatter\"},{\"attributes\":{},\"id\":\"1456\",\"type\":\"UnionRenderers\"},{\"attributes\":{},\"id\":\"1552\",\"type\":\"UnionRenderers\"},{\"attributes\":{\"angle\":{\"value\":0.0},\"fill_alpha\":{\"value\":1.0},\"fill_color\":{\"value\":\"#fc4f30\"},\"hatch_alpha\":{\"value\":1.0},\"hatch_color\":{\"value\":\"#fc4f30\"},\"hatch_scale\":{\"value\":12.0},\"hatch_weight\":{\"value\":1.0},\"line_alpha\":{\"value\":1.0},\"line_cap\":{\"value\":\"butt\"},\"line_color\":{\"value\":\"#fc4f30\"},\"line_dash\":{\"value\":[]},\"line_dash_offset\":{\"value\":0},\"line_join\":{\"value\":\"bevel\"},\"line_width\":{\"value\":1},\"marker\":{\"value\":\"circle\"},\"size\":{\"value\":5.477225575051661},\"x\":{\"field\":\"TotalCoinsMined\"},\"y\":{\"field\":\"TotalCoinSupply\"}},\"id\":\"1382\",\"type\":\"Scatter\"},{\"attributes\":{},\"id\":\"1434\",\"type\":\"Selection\"},{\"attributes\":{\"label\":{\"value\":\"4\"},\"renderers\":[{\"id\":\"1439\"}]},\"id\":\"1459\",\"type\":\"LegendItem\"},{\"attributes\":{\"label\":{\"value\":\"0\"},\"renderers\":[{\"id\":\"1346\"}]},\"id\":\"1359\",\"type\":\"LegendItem\"},{\"attributes\":{\"end\":1.042857142857143,\"reset_end\":1.042857142857143,\"reset_start\":-0.04285714285714286,\"start\":-0.04285714285714286,\"tags\":[[[\"TotalCoinsMined\",\"TotalCoinsMined\",null]]]},\"id\":\"1293\",\"type\":\"Range1d\"},{\"attributes\":{},\"id\":\"1402\",\"type\":\"UnionRenderers\"},{\"attributes\":{},\"id\":\"1558\",\"type\":\"Selection\"},{\"attributes\":{\"label\":{\"value\":\"2\"},\"renderers\":[{\"id\":\"1389\"}]},\"id\":\"1405\",\"type\":\"LegendItem\"},{\"attributes\":{\"source\":{\"id\":\"1433\"}},\"id\":\"1440\",\"type\":\"CDSView\"},{\"attributes\":{\"fill_color\":{\"value\":\"#1f77b4\"},\"hatch_color\":{\"value\":\"#1f77b4\"},\"line_color\":{\"value\":\"#1f77b4\"},\"size\":{\"value\":5.477225575051661},\"x\":{\"field\":\"TotalCoinsMined\"},\"y\":{\"field\":\"TotalCoinSupply\"}},\"id\":\"1560\",\"type\":\"Scatter\"},{\"attributes\":{\"fill_color\":{\"value\":\"#8b8b8b\"},\"hatch_color\":{\"value\":\"#8b8b8b\"},\"line_color\":{\"value\":\"#8b8b8b\"},\"size\":{\"value\":5.477225575051661},\"x\":{\"field\":\"TotalCoinsMined\"},\"y\":{\"field\":\"TotalCoinSupply\"}},\"id\":\"1436\",\"type\":\"Scatter\"},{\"attributes\":{\"angle\":{\"value\":0.0},\"fill_alpha\":{\"value\":1.0},\"fill_color\":{\"value\":\"#30a2da\"},\"hatch_alpha\":{\"value\":1.0},\"hatch_color\":{\"value\":\"#30a2da\"},\"hatch_scale\":{\"value\":12.0},\"hatch_weight\":{\"value\":1.0},\"line_alpha\":{\"value\":1.0},\"line_cap\":{\"value\":\"butt\"},\"line_color\":{\"value\":\"#30a2da\"},\"line_dash\":{\"value\":[]},\"line_dash_offset\":{\"value\":0},\"line_join\":{\"value\":\"bevel\"},\"line_width\":{\"value\":1},\"marker\":{\"value\":\"circle\"},\"size\":{\"value\":5.477225575051661},\"x\":{\"field\":\"TotalCoinsMined\"},\"y\":{\"field\":\"TotalCoinSupply\"}},\"id\":\"1360\",\"type\":\"Scatter\"},{\"attributes\":{\"data\":{\"Class\":[5],\"CoinName\":[\"Vechain\"],\"TotalCoinSupply\":{\"__ndarray__\":\"8qgLi2Si6z4=\",\"dtype\":\"float64\",\"order\":\"little\",\"shape\":[1]},\"TotalCoinsMined\":{\"__ndarray__\":\"5CcQHJtnCD8=\",\"dtype\":\"float64\",\"order\":\"little\",\"shape\":[1]}},\"selected\":{\"id\":\"1462\"},\"selection_policy\":{\"id\":\"1486\"}},\"id\":\"1461\",\"type\":\"ColumnDataSource\"},{\"attributes\":{\"label\":{\"value\":\"8\"},\"renderers\":[{\"id\":\"1529\"}]},\"id\":\"1555\",\"type\":\"LegendItem\"},{\"attributes\":{\"fill_alpha\":{\"value\":0.1},\"fill_color\":{\"value\":\"#1f77b4\"},\"hatch_alpha\":{\"value\":0.1},\"hatch_color\":{\"value\":\"#1f77b4\"},\"line_alpha\":{\"value\":0.1},\"line_color\":{\"value\":\"#1f77b4\"},\"size\":{\"value\":5.477225575051661},\"x\":{\"field\":\"TotalCoinsMined\"},\"y\":{\"field\":\"TotalCoinSupply\"}},\"id\":\"1561\",\"type\":\"Scatter\"},{\"attributes\":{\"fill_color\":{\"value\":\"#6d904f\"},\"hatch_color\":{\"value\":\"#6d904f\"},\"line_color\":{\"value\":\"#6d904f\"},\"size\":{\"value\":5.477225575051661},\"x\":{\"field\":\"TotalCoinsMined\"},\"y\":{\"field\":\"TotalCoinSupply\"}},\"id\":\"1410\",\"type\":\"Scatter\"},{\"attributes\":{\"coordinates\":null,\"data_source\":{\"id\":\"1557\"},\"glyph\":{\"id\":\"1560\"},\"group\":null,\"hover_glyph\":null,\"muted_glyph\":{\"id\":\"1562\"},\"nonselection_glyph\":{\"id\":\"1561\"},\"selection_glyph\":{\"id\":\"1592\"},\"view\":{\"id\":\"1564\"}},\"id\":\"1563\",\"type\":\"GlyphRenderer\"},{\"attributes\":{},\"id\":\"1311\",\"type\":\"LinearScale\"},{\"attributes\":{\"fill_alpha\":{\"value\":0.1},\"fill_color\":{\"value\":\"#6d904f\"},\"hatch_alpha\":{\"value\":0.1},\"hatch_color\":{\"value\":\"#6d904f\"},\"line_alpha\":{\"value\":0.1},\"line_color\":{\"value\":\"#6d904f\"},\"size\":{\"value\":5.477225575051661},\"x\":{\"field\":\"TotalCoinsMined\"},\"y\":{\"field\":\"TotalCoinSupply\"}},\"id\":\"1411\",\"type\":\"Scatter\"},{\"attributes\":{\"data\":{\"Class\":[2],\"CoinName\":[\"BitTorrent\"],\"TotalCoinSupply\":{\"__ndarray__\":\"arx0kxgElD8=\",\"dtype\":\"float64\",\"order\":\"little\",\"shape\":[1]},\"TotalCoinsMined\":{\"__ndarray__\":\"MD/3M8UUeD8=\",\"dtype\":\"float64\",\"order\":\"little\",\"shape\":[1]}},\"selected\":{\"id\":\"1384\"},\"selection_policy\":{\"id\":\"1402\"}},\"id\":\"1383\",\"type\":\"ColumnDataSource\"},{\"attributes\":{\"coordinates\":null,\"data_source\":{\"id\":\"1407\"},\"glyph\":{\"id\":\"1410\"},\"group\":null,\"hover_glyph\":null,\"muted_glyph\":{\"id\":\"1412\"},\"nonselection_glyph\":{\"id\":\"1411\"},\"selection_glyph\":{\"id\":\"1432\"},\"view\":{\"id\":\"1414\"}},\"id\":\"1413\",\"type\":\"GlyphRenderer\"},{\"attributes\":{\"angle\":{\"value\":0.0},\"fill_alpha\":{\"value\":1.0},\"fill_color\":{\"value\":\"#17becf\"},\"hatch_alpha\":{\"value\":1.0},\"hatch_color\":{\"value\":\"#17becf\"},\"hatch_scale\":{\"value\":12.0},\"hatch_weight\":{\"value\":1.0},\"line_alpha\":{\"value\":1.0},\"line_cap\":{\"value\":\"butt\"},\"line_color\":{\"value\":\"#17becf\"},\"line_dash\":{\"value\":[]},\"line_dash_offset\":{\"value\":0},\"line_join\":{\"value\":\"bevel\"},\"line_width\":{\"value\":1},\"marker\":{\"value\":\"circle\"},\"size\":{\"value\":5.477225575051661},\"x\":{\"field\":\"TotalCoinsMined\"},\"y\":{\"field\":\"TotalCoinSupply\"}},\"id\":\"1490\",\"type\":\"Scatter\"},{\"attributes\":{\"below\":[{\"id\":\"1313\"}],\"center\":[{\"id\":\"1316\"},{\"id\":\"1320\"}],\"height\":300,\"left\":[{\"id\":\"1317\"}],\"margin\":[5,5,5,5],\"min_border_bottom\":10,\"min_border_left\":10,\"min_border_right\":10,\"min_border_top\":10,\"renderers\":[{\"id\":\"1346\"},{\"id\":\"1367\"},{\"id\":\"1389\"},{\"id\":\"1413\"},{\"id\":\"1439\"},{\"id\":\"1467\"},{\"id\":\"1497\"},{\"id\":\"1529\"},{\"id\":\"1563\"}],\"right\":[{\"id\":\"1358\"}],\"sizing_mode\":\"fixed\",\"title\":{\"id\":\"1305\"},\"toolbar\":{\"id\":\"1327\"},\"width\":700,\"x_range\":{\"id\":\"1293\"},\"x_scale\":{\"id\":\"1309\"},\"y_range\":{\"id\":\"1294\"},\"y_scale\":{\"id\":\"1311\"}},\"id\":\"1304\",\"subtype\":\"Figure\",\"type\":\"Plot\"},{\"attributes\":{},\"id\":\"1341\",\"type\":\"Selection\"},{\"attributes\":{\"coordinates\":null,\"group\":null,\"text_color\":\"black\",\"text_font_size\":\"12pt\"},\"id\":\"1305\",\"type\":\"Title\"},{\"attributes\":{\"fill_alpha\":{\"value\":0.2},\"fill_color\":{\"value\":\"#1f77b4\"},\"hatch_alpha\":{\"value\":0.2},\"hatch_color\":{\"value\":\"#1f77b4\"},\"line_alpha\":{\"value\":0.2},\"line_color\":{\"value\":\"#1f77b4\"},\"size\":{\"value\":5.477225575051661},\"x\":{\"field\":\"TotalCoinsMined\"},\"y\":{\"field\":\"TotalCoinSupply\"}},\"id\":\"1562\",\"type\":\"Scatter\"},{\"attributes\":{\"data\":{\"Class\":[9,9,9,9,9,9,9,9,9,9,9,9,9,9,9,9,9,9,9,9,9,9,9,9,9,9,9,9,9,9,9,9,9,9,9,9,9,9,9,9,9,9,9,9,9,9,9,9,9,9,9,9,9,9,9,9,9,9,9,9],\"CoinName\":[\"42 Coin\",\"BitcoinDark\",\"PayCoin\",\"BlueCoin\",\"HoboNickels\",\"HyperStake\",\"MazaCoin\",\"Nautilus Coin\",\"SuperCoin\",\"Crypti\",\"BurstCoin\",\"Dnotes\",\"8BIT Coin\",\"Vtorrent\",\"Squall Coin\",\"Emercoin\",\"Decred\",\"EDRCoin\",\"BillaryCoin\",\"SafeExchangeCoin\",\"Clockcoin\",\"iBankCoin\",\"Frankywillcoin\",\"CarterCoin\",\"BitTokens\",\"ZoneCoin\",\"RootCoin\",\"BitCurrency\",\"PesoBit\",\"AquariusCoin\",\"Eurocoin\",\"Stakenet\",\"Russiacoin\",\"PandaCoin\",\"GameUnits\",\"GAKHcoin\",\"Klingon Empire Darsek\",\"Internet of People\",\"Impeach\",\"OpenChat\",\"LomoCoin\",\"GrowthCoin\",\"Draftcoin\",\"Rupee\",\"Theresa May Coin\",\"BlackholeCoin\",\"Infinity Economics\",\"Cash & Back Coin\",\"LiteCoin Ultra\",\"Litecoin Plus\",\"Monkey Project\",\"My Big Coin\",\"Unified Society USDEX\",\"MedicCoin\",\"HollyWoodCoin\",\"Absolute Coin\",\"MMOCoin\",\"ThunderStake\",\"Dash Platinum\",\"TigerCash\"],\"TotalCoinSupply\":{\"__ndarray__\":\"hPdD1pQQ3j3rUbgehetBP3npJjEIrAw/ERERERERAT8AAAAAAAAAAK2OCR7ME0U/peLsw2fYxT7GihpMw/ABP7JjIxCv6+c+AAAAAAAAAADkF0t+seQnPwAAAAAAAAAAMzMzMzMzzj/lM4+yNKZGPwAAAAAAAAAAAAAAAAAAAAAAAAAAAACkP1vW6pjgwUw/hl0Bcq+5MD9VVVVVVVVFPx6CvZzseSE/AAAAAAAAAAARkvKAn14mPoiIiIiIiHg/eekmMQisHD9OG+i0gU4rPwAAAAAAAAAAERERERERMT956SYxCKwsPxan7Ib/Bnc/xooaTMPwMT/PsCtA7jUnP+tRuB6F63E/AAAAAAAAAADObFfog2U8P/yp8dJNYgA/AAAAAAAAAABOG+i0gU77PlVVVVVVVWU/AAAAAAAAAACg0wY6baBzP67XGYC+ELs+0vvG155ZIj8RERERERExPxERERERESE/eekmMQisDD956SYxCKwMPxLaci7F1aw/En8L6/fcQj/8qfHSTWIQP/yp8dJNYlA/AAAAAACA0D+m+AXgD+h2P0l4VXqAAUM/Hz7DrgC5Nz8RERERERFBP7gehetRuC4/ThvotIFO+z6IiIiIiIiAPxERERERETE/\",\"dtype\":\"float64\",\"order\":\"little\",\"shape\":[60]},\"TotalCoinsMined\":{\"__ndarray__\":\"AAAAAAAAAACT2IhbOC5EPwBkGpuKBwU/GEQxH1wVET+isM8ibehFP0+KRoZ9Glc/LN8Txl+t1z5xBk7a4cv6PmxbSC4R0/I+QNcpLNONZD+F+m0f5WE3P/SjgCIGrYI/A2AQOAiA3z+blS11B/ZKPxc2bkyWnb0/y5HWDqqHNz/fVZqgZlOKPweBXyb4yl0/bfyeaTFVOj9PLw99Sz4hPyVWLzGZOSI/SREkWt4NMj+asOb12Xs6PuMxMOz2DII/pQbyHf9UID+X+5jcmPTpPq8iJ9+Egts+iQUlUM7iMT+OKphSWTgyP1hS59YqLIQ/gV92v8NHOD+FUJrQrNsrP7xpqCKkeGI/VgJKopVbIz8SxGgFMHtIP/NoV/7VCuc+rZgRoSe54D7kzzKG1TYEP/C6o4LbonE/Jo9ezOcuNz8QbwoiUYhvP7y7mv/gOsw+HkAgVKkAFT/avJ5yXs1BP41vcD6KaCA/3Nd+o3LnHT91r5mJ8oUNP3qRjEhmPL4/GK62fL/SLD85JNeKBpYYP1FIZUa8pA0/VqkwVbS1yT9A7lqrzOSHP6JE8KHFPds+pBjon79dIT/d1Y1ru3v8PgiGWArXvC4/wcEK+exHBj9z3tRr6JptP9q8nnJezUE/\",\"dtype\":\"float64\",\"order\":\"little\",\"shape\":[60]}},\"selected\":{\"id\":\"1558\"},\"selection_policy\":{\"id\":\"1588\"}},\"id\":\"1557\",\"type\":\"ColumnDataSource\"},{\"attributes\":{},\"id\":\"1314\",\"type\":\"BasicTicker\"},{\"attributes\":{\"axis\":{\"id\":\"1313\"},\"coordinates\":null,\"grid_line_color\":null,\"group\":null,\"ticker\":null},\"id\":\"1316\",\"type\":\"Grid\"},{\"attributes\":{\"fill_alpha\":{\"value\":0.2},\"fill_color\":{\"value\":\"#6d904f\"},\"hatch_alpha\":{\"value\":0.2},\"hatch_color\":{\"value\":\"#6d904f\"},\"line_alpha\":{\"value\":0.2},\"line_color\":{\"value\":\"#6d904f\"},\"size\":{\"value\":5.477225575051661},\"x\":{\"field\":\"TotalCoinsMined\"},\"y\":{\"field\":\"TotalCoinSupply\"}},\"id\":\"1412\",\"type\":\"Scatter\"},{\"attributes\":{\"source\":{\"id\":\"1557\"}},\"id\":\"1564\",\"type\":\"CDSView\"},{\"attributes\":{\"data\":{\"Class\":[8,8,8,8,8,8,8,8,8,8,8,8,8,8,8,8,8,8,8,8,8,8,8,8,8,8,8,8,8,8,8,8,8,8,8,8,8,8,8,8,8,8,8,8,8,8,8,8,8,8,8,8],\"CoinName\":[\"Litecoin\",\"ProsperCoin\",\"Spreadcoin\",\"Quatloo\",\"Riecoin\",\"DevCoin\",\"E-Gulden\",\"Franko\",\"GrandCoin\",\"GlobalCoin\",\"GoldCoin\",\"KrugerCoin\",\"MinCoin\",\"RonPaulCoin\",\"StableCoin\",\"TigerCoin\",\"UnbreakableCoin\",\"Unobtanium\",\"UroCoin\",\"JouleCoin\",\"PesetaCoin\",\"ArtByte\",\"SoonCoin\",\"Anarchists Prime\",\"BitZeny\",\"Gamecredits\",\"CarpeDiemCoin\",\"Adzcoin\",\"YoCoin\",\"DopeCoin\",\"Shilling\",\"KiloCoin\",\"Kurrent\",\"OsmiumCoin\",\"Canada eCoin\",\"EquiTrader\",\"DAS\",\"Sojourn Coin\",\"Kronecoin\",\"eBoost\",\"Photon\",\"Poseidon\",\"FuturoCoin\",\"Axe\",\"HexCoin\",\"Xchange\",\"Bitcoin SV\",\"SLICE\",\"Bitcoin Rhodium\",\"GlobalToken\",\"Groestlcoin\",\"Pakcoin\"],\"TotalCoinSupply\":{\"__ndarray__\":\"MwbHdxAu6j/F1tqa+jODP6O3Za2OCQ4/3t3d3d3dTT9OG+i0gU4LP6Xi7MNn2CU/9HhcfwvlBj9VVVVVVVV1P8IK+oB7+jw/VVVVVVVVRT8RERERERExP6Xi7MNn2LU+eekmMQisDD/6fmq8dJMIP6qqqqqqqro/AAAAAAAArD/FLubwEJVJP6Xi7MNn2BU/AAAAAAAAAAAMg7UOZ67+PnsUrkfhejQ/eekmMQisDD+Sy39Iv33NPnnpJjEIrBw/ThvotIFO+z6xQw+P15bkPutRuB6F61E/AAAAAAAAAAB56SYxCKwMPxEREREREXE/zYWkKRVnDz9VVVVVVVVlP1VVVVVVVVU/VVVVVVVVVT8AAAAAAAAAAHnpJjEIrAw/ukkMAiuHFj956SYxCKwMPwAAAAAAAAAA4qyImujzET956SYxCKwsP5mZmZmZmSk/ZmZmZmZmVj8RERERERExP9V46SYxCFw/eekmMQisDD+ZmZmZmZlpP4f1R5W1DP0+D+aJ+jdCKT8AAAAAAAAAAInVDJbXNw0/pPGsJH1OGz8=\",\"dtype\":\"float64\",\"order\":\"little\",\"shape\":[52]},\"TotalCoinsMined\":{\"__ndarray__\":\"ueQG9mNcxD+tzGwp+ICOP7eoxk4/Xt0++fC8vkMwIj+24Y0AIMIPP+Vn4nIXYhE/9fdx0trTGT9uSSEVwMiCP2u3ieTXTE4/YjWuvlD0Rj+Lg0cNH/UEP58Y/Ix3BI8+05tI0ZyQBD+Y6C9AVnf8Pp7VGjfk0Ms/C4dYnVQcuj/yzR2rZntTP2dy08BPxBs/XKxnLn4tAD/AblTwzgnaPgTTfFRyyD8/GVIohfEIHj+tior73ynZPleoP6TnKis/Z1BskEaIAD8paTmfwFjyPr3XQs8c0lM/OpxlHNNixD+mBfgCySjZPmHPg/tqdHg//1mQx0d8ID/kWh5JdlhKP+qfGMtLODI/x0GW6EQXTz8l35NWZyECP8kYNSi6vxE/6liDqNHxJj8H8bGjxpcWP/WA0bZ8AL4+nPtg9BVFEz/ffAyJrw8wP/utt24q9Ec/yg6YohO7Fz/avJ5yXs1BP6i0OCx7PW0/Cc9eZ00iyz7pumWctkB2P53Bm6Rl8Ak/JRPahvxbOj9yPr/hDd8nP3dWNYqajgU/eH8uLZN5Sj8=\",\"dtype\":\"float64\",\"order\":\"little\",\"shape\":[52]}},\"selected\":{\"id\":\"1524\"},\"selection_policy\":{\"id\":\"1552\"}},\"id\":\"1523\",\"type\":\"ColumnDataSource\"},{\"attributes\":{\"axis_label\":\"TotalCoinsMined\",\"coordinates\":null,\"formatter\":{\"id\":\"1335\"},\"group\":null,\"major_label_policy\":{\"id\":\"1336\"},\"ticker\":{\"id\":\"1314\"}},\"id\":\"1313\",\"type\":\"LinearAxis\"},{\"attributes\":{},\"id\":\"1524\",\"type\":\"Selection\"},{\"attributes\":{\"source\":{\"id\":\"1407\"}},\"id\":\"1414\",\"type\":\"CDSView\"},{\"attributes\":{\"fill_color\":{\"value\":\"#d62728\"},\"hatch_color\":{\"value\":\"#d62728\"},\"line_color\":{\"value\":\"#d62728\"},\"size\":{\"value\":5.477225575051661},\"x\":{\"field\":\"TotalCoinsMined\"},\"y\":{\"field\":\"TotalCoinSupply\"}},\"id\":\"1526\",\"type\":\"Scatter\"},{\"attributes\":{},\"id\":\"1318\",\"type\":\"BasicTicker\"},{\"attributes\":{\"fill_alpha\":{\"value\":0.1},\"fill_color\":{\"value\":\"#d62728\"},\"hatch_alpha\":{\"value\":0.1},\"hatch_color\":{\"value\":\"#d62728\"},\"line_alpha\":{\"value\":0.1},\"line_color\":{\"value\":\"#d62728\"},\"size\":{\"value\":5.477225575051661},\"x\":{\"field\":\"TotalCoinsMined\"},\"y\":{\"field\":\"TotalCoinSupply\"}},\"id\":\"1527\",\"type\":\"Scatter\"},{\"attributes\":{},\"id\":\"1384\",\"type\":\"Selection\"},{\"attributes\":{\"data\":{\"Class\":[4,4,4],\"CoinName\":[\"Infinite Coin\",\"ByteCoin\",\"gCn Coin\"],\"TotalCoinSupply\":{\"__ndarray__\":\"eekmMQisLD956SYxCKxMP7GOPkG9dCY/\",\"dtype\":\"float64\",\"order\":\"little\",\"shape\":[3]},\"TotalCoinsMined\":{\"__ndarray__\":\"jWjnwjikMT/1B9ZH6ZJSP3IBu+lxkhM/\",\"dtype\":\"float64\",\"order\":\"little\",\"shape\":[3]}},\"selected\":{\"id\":\"1434\"},\"selection_policy\":{\"id\":\"1456\"}},\"id\":\"1433\",\"type\":\"ColumnDataSource\"},{\"attributes\":{\"coordinates\":null,\"data_source\":{\"id\":\"1523\"},\"glyph\":{\"id\":\"1526\"},\"group\":null,\"hover_glyph\":null,\"muted_glyph\":{\"id\":\"1528\"},\"nonselection_glyph\":{\"id\":\"1527\"},\"selection_glyph\":{\"id\":\"1556\"},\"view\":{\"id\":\"1530\"}},\"id\":\"1529\",\"type\":\"GlyphRenderer\"},{\"attributes\":{},\"id\":\"1322\",\"type\":\"PanTool\"},{\"attributes\":{\"axis\":{\"id\":\"1317\"},\"coordinates\":null,\"dimension\":1,\"grid_line_color\":null,\"group\":null,\"ticker\":null},\"id\":\"1320\",\"type\":\"Grid\"},{\"attributes\":{\"fill_color\":{\"value\":\"#e5ae38\"},\"hatch_color\":{\"value\":\"#e5ae38\"},\"line_color\":{\"value\":\"#e5ae38\"},\"size\":{\"value\":5.477225575051661},\"x\":{\"field\":\"TotalCoinsMined\"},\"y\":{\"field\":\"TotalCoinSupply\"}},\"id\":\"1386\",\"type\":\"Scatter\"},{\"attributes\":{\"angle\":{\"value\":0.0},\"fill_alpha\":{\"value\":1.0},\"fill_color\":{\"value\":\"#8b8b8b\"},\"hatch_alpha\":{\"value\":1.0},\"hatch_color\":{\"value\":\"#8b8b8b\"},\"hatch_scale\":{\"value\":12.0},\"hatch_weight\":{\"value\":1.0},\"line_alpha\":{\"value\":1.0},\"line_cap\":{\"value\":\"butt\"},\"line_color\":{\"value\":\"#8b8b8b\"},\"line_dash\":{\"value\":[]},\"line_dash_offset\":{\"value\":0},\"line_join\":{\"value\":\"bevel\"},\"line_width\":{\"value\":1},\"marker\":{\"value\":\"circle\"},\"size\":{\"value\":5.477225575051661},\"x\":{\"field\":\"TotalCoinsMined\"},\"y\":{\"field\":\"TotalCoinSupply\"}},\"id\":\"1460\",\"type\":\"Scatter\"},{\"attributes\":{\"axis_label\":\"TotalCoinSupply\",\"coordinates\":null,\"formatter\":{\"id\":\"1338\"},\"group\":null,\"major_label_policy\":{\"id\":\"1339\"},\"ticker\":{\"id\":\"1318\"}},\"id\":\"1317\",\"type\":\"LinearAxis\"},{\"attributes\":{},\"id\":\"1362\",\"type\":\"Selection\"},{\"attributes\":{\"fill_alpha\":{\"value\":0.1},\"fill_color\":{\"value\":\"#e5ae38\"},\"hatch_alpha\":{\"value\":0.1},\"hatch_color\":{\"value\":\"#e5ae38\"},\"line_alpha\":{\"value\":0.1},\"line_color\":{\"value\":\"#e5ae38\"},\"size\":{\"value\":5.477225575051661},\"x\":{\"field\":\"TotalCoinsMined\"},\"y\":{\"field\":\"TotalCoinSupply\"}},\"id\":\"1387\",\"type\":\"Scatter\"},{\"attributes\":{\"coordinates\":null,\"data_source\":{\"id\":\"1383\"},\"glyph\":{\"id\":\"1386\"},\"group\":null,\"hover_glyph\":null,\"muted_glyph\":{\"id\":\"1388\"},\"nonselection_glyph\":{\"id\":\"1387\"},\"selection_glyph\":{\"id\":\"1406\"},\"view\":{\"id\":\"1390\"}},\"id\":\"1389\",\"type\":\"GlyphRenderer\"},{\"attributes\":{\"fill_alpha\":{\"value\":0.2},\"fill_color\":{\"value\":\"#d62728\"},\"hatch_alpha\":{\"value\":0.2},\"hatch_color\":{\"value\":\"#d62728\"},\"line_alpha\":{\"value\":0.2},\"line_color\":{\"value\":\"#d62728\"},\"size\":{\"value\":5.477225575051661},\"x\":{\"field\":\"TotalCoinsMined\"},\"y\":{\"field\":\"TotalCoinSupply\"}},\"id\":\"1528\",\"type\":\"Scatter\"},{\"attributes\":{},\"id\":\"1323\",\"type\":\"WheelZoomTool\"},{\"attributes\":{\"angle\":{\"value\":0.0},\"fill_alpha\":{\"value\":1.0},\"fill_color\":{\"value\":\"#1f77b4\"},\"hatch_alpha\":{\"value\":1.0},\"hatch_color\":{\"value\":\"#1f77b4\"},\"hatch_scale\":{\"value\":12.0},\"hatch_weight\":{\"value\":1.0},\"line_alpha\":{\"value\":1.0},\"line_cap\":{\"value\":\"butt\"},\"line_color\":{\"value\":\"#1f77b4\"},\"line_dash\":{\"value\":[]},\"line_dash_offset\":{\"value\":0},\"line_join\":{\"value\":\"bevel\"},\"line_width\":{\"value\":1},\"marker\":{\"value\":\"circle\"},\"size\":{\"value\":5.477225575051661},\"x\":{\"field\":\"TotalCoinsMined\"},\"y\":{\"field\":\"TotalCoinSupply\"}},\"id\":\"1592\",\"type\":\"Scatter\"},{\"attributes\":{},\"id\":\"1321\",\"type\":\"SaveTool\"},{\"attributes\":{\"source\":{\"id\":\"1523\"}},\"id\":\"1530\",\"type\":\"CDSView\"},{\"attributes\":{\"overlay\":{\"id\":\"1326\"}},\"id\":\"1324\",\"type\":\"BoxZoomTool\"},{\"attributes\":{},\"id\":\"1325\",\"type\":\"ResetTool\"},{\"attributes\":{},\"id\":\"1518\",\"type\":\"UnionRenderers\"},{\"attributes\":{\"fill_alpha\":{\"value\":0.2},\"fill_color\":{\"value\":\"#e5ae38\"},\"hatch_alpha\":{\"value\":0.2},\"hatch_color\":{\"value\":\"#e5ae38\"},\"line_alpha\":{\"value\":0.2},\"line_color\":{\"value\":\"#e5ae38\"},\"size\":{\"value\":5.477225575051661},\"x\":{\"field\":\"TotalCoinsMined\"},\"y\":{\"field\":\"TotalCoinSupply\"}},\"id\":\"1388\",\"type\":\"Scatter\"},{\"attributes\":{\"bottom_units\":\"screen\",\"coordinates\":null,\"fill_alpha\":0.5,\"fill_color\":\"lightgrey\",\"group\":null,\"left_units\":\"screen\",\"level\":\"overlay\",\"line_alpha\":1.0,\"line_color\":\"black\",\"line_dash\":[4,4],\"line_width\":2,\"right_units\":\"screen\",\"syncable\":false,\"top_units\":\"screen\"},\"id\":\"1326\",\"type\":\"BoxAnnotation\"},{\"attributes\":{\"coordinates\":null,\"data_source\":{\"id\":\"1461\"},\"glyph\":{\"id\":\"1464\"},\"group\":null,\"hover_glyph\":null,\"muted_glyph\":{\"id\":\"1466\"},\"nonselection_glyph\":{\"id\":\"1465\"},\"selection_glyph\":{\"id\":\"1490\"},\"view\":{\"id\":\"1468\"}},\"id\":\"1467\",\"type\":\"GlyphRenderer\"},{\"attributes\":{\"label\":{\"value\":\"1\"},\"renderers\":[{\"id\":\"1367\"}]},\"id\":\"1381\",\"type\":\"LegendItem\"},{\"attributes\":{\"source\":{\"id\":\"1383\"}},\"id\":\"1390\",\"type\":\"CDSView\"},{\"attributes\":{},\"id\":\"1355\",\"type\":\"UnionRenderers\"},{\"attributes\":{\"data\":{\"Class\":[3,3],\"CoinName\":[\"Acute Angle Cloud\",\"Waves\"],\"TotalCoinSupply\":{\"__ndarray__\":\"GUoAEfWV+j58hl0Bcq9JPw==\",\"dtype\":\"float64\",\"order\":\"little\",\"shape\":[2]},\"TotalCoinsMined\":{\"__ndarray__\":\"eBMCNtnIAT/jE3X6fWAZPw==\",\"dtype\":\"float64\",\"order\":\"little\",\"shape\":[2]}},\"selected\":{\"id\":\"1408\"},\"selection_policy\":{\"id\":\"1428\"}},\"id\":\"1407\",\"type\":\"ColumnDataSource\"},{\"attributes\":{\"fill_color\":{\"value\":\"#fc4f30\"},\"hatch_color\":{\"value\":\"#fc4f30\"},\"line_color\":{\"value\":\"#fc4f30\"},\"size\":{\"value\":5.477225575051661},\"x\":{\"field\":\"TotalCoinsMined\"},\"y\":{\"field\":\"TotalCoinSupply\"}},\"id\":\"1364\",\"type\":\"Scatter\"},{\"attributes\":{\"tools\":[{\"id\":\"1295\"},{\"id\":\"1321\"},{\"id\":\"1322\"},{\"id\":\"1323\"},{\"id\":\"1324\"},{\"id\":\"1325\"}]},\"id\":\"1327\",\"type\":\"Toolbar\"},{\"attributes\":{},\"id\":\"1492\",\"type\":\"Selection\"},{\"attributes\":{\"fill_alpha\":{\"value\":0.1},\"fill_color\":{\"value\":\"#fc4f30\"},\"hatch_alpha\":{\"value\":0.1},\"hatch_color\":{\"value\":\"#fc4f30\"},\"line_alpha\":{\"value\":0.1},\"line_color\":{\"value\":\"#fc4f30\"},\"size\":{\"value\":5.477225575051661},\"x\":{\"field\":\"TotalCoinsMined\"},\"y\":{\"field\":\"TotalCoinSupply\"}},\"id\":\"1365\",\"type\":\"Scatter\"},{\"attributes\":{\"fill_alpha\":{\"value\":0.1},\"fill_color\":{\"value\":\"#9467bd\"},\"hatch_alpha\":{\"value\":0.1},\"hatch_color\":{\"value\":\"#9467bd\"},\"line_alpha\":{\"value\":0.1},\"line_color\":{\"value\":\"#9467bd\"},\"size\":{\"value\":5.477225575051661},\"x\":{\"field\":\"TotalCoinsMined\"},\"y\":{\"field\":\"TotalCoinSupply\"}},\"id\":\"1495\",\"type\":\"Scatter\"},{\"attributes\":{\"coordinates\":null,\"data_source\":{\"id\":\"1361\"},\"glyph\":{\"id\":\"1364\"},\"group\":null,\"hover_glyph\":null,\"muted_glyph\":{\"id\":\"1366\"},\"nonselection_glyph\":{\"id\":\"1365\"},\"selection_glyph\":{\"id\":\"1382\"},\"view\":{\"id\":\"1368\"}},\"id\":\"1367\",\"type\":\"GlyphRenderer\"},{\"attributes\":{},\"id\":\"1378\",\"type\":\"UnionRenderers\"},{\"attributes\":{\"label\":{\"value\":\"6\"},\"renderers\":[{\"id\":\"1497\"}]},\"id\":\"1521\",\"type\":\"LegendItem\"},{\"attributes\":{\"angle\":{\"value\":0.0},\"fill_alpha\":{\"value\":1.0},\"fill_color\":{\"value\":\"#6d904f\"},\"hatch_alpha\":{\"value\":1.0},\"hatch_color\":{\"value\":\"#6d904f\"},\"hatch_scale\":{\"value\":12.0},\"hatch_weight\":{\"value\":1.0},\"line_alpha\":{\"value\":1.0},\"line_cap\":{\"value\":\"butt\"},\"line_color\":{\"value\":\"#6d904f\"},\"line_dash\":{\"value\":[]},\"line_dash_offset\":{\"value\":0},\"line_join\":{\"value\":\"bevel\"},\"line_width\":{\"value\":1},\"marker\":{\"value\":\"circle\"},\"size\":{\"value\":5.477225575051661},\"x\":{\"field\":\"TotalCoinsMined\"},\"y\":{\"field\":\"TotalCoinSupply\"}},\"id\":\"1432\",\"type\":\"Scatter\"},{\"attributes\":{\"fill_color\":{\"value\":\"#9467bd\"},\"hatch_color\":{\"value\":\"#9467bd\"},\"line_color\":{\"value\":\"#9467bd\"},\"size\":{\"value\":5.477225575051661},\"x\":{\"field\":\"TotalCoinsMined\"},\"y\":{\"field\":\"TotalCoinSupply\"}},\"id\":\"1494\",\"type\":\"Scatter\"},{\"attributes\":{\"coordinates\":null,\"data_source\":{\"id\":\"1491\"},\"glyph\":{\"id\":\"1494\"},\"group\":null,\"hover_glyph\":null,\"muted_glyph\":{\"id\":\"1496\"},\"nonselection_glyph\":{\"id\":\"1495\"},\"selection_glyph\":{\"id\":\"1522\"},\"view\":{\"id\":\"1498\"}},\"id\":\"1497\",\"type\":\"GlyphRenderer\"},{\"attributes\":{\"data\":{\"Class\":[0,0,0,0,0,0,0,0,0,0,0,0,0,0,0,0,0,0,0,0,0,0,0,0,0,0,0,0,0,0,0,0,0,0,0,0,0,0,0,0,0,0,0],\"CoinName\":[\"Bitshares\",\"KoboCoin\",\"Exclusive Coin\",\"IOCoin\",\"SyncCoin\",\"TittieCoin\",\"TorCoin\",\"StorjCoin\",\"Sativa Coin\",\"Droidz\",\"Hitcoin\",\"MudraCoin\",\"GoldBlocks\",\"Opair\",\"Halloween Coin\",\"RoyalCoin\",\"TeamUP\",\"LanaCoin\",\"EmberCoin\",\"FreeCoin\",\"Allsafe\",\"FindCoin\",\"Impact\",\"Atmos\",\"Espers\",\"Denarius\",\"BritCoin\",\"Regalcoin\",\"NamoCoin\",\"KekCoin\",\"Magnet\",\"Bitcoin Diamond\",\"Bulwark\",\"Digiwage\",\"Pushi\",\"Carebit\",\"Poseidon Quark\",\"Muse\",\"Vitae\",\"HerbCoin\",\"Beetle Coin\",\"Titan Coin\",\"Nxt\"],\"TotalCoinSupply\":{\"__ndarray__\":\"o7dlrY4JDj8AAAAAAACsPwAAAAAAAAAARkdfLs9wID+TXyz5xRKmPwAAAAAAAKI/eekmMQisDD9jwbPz7KgoP6O3Za2OCQ4/ERERERERQT8AAAAAAAAAAIts5/up8WI/zoIb7PcLID8AAAAAAAAAAOUzj7I0pkY/o7dlrY4J7j4AAAAAAAAAALgehetRuB4/HEayXZy+3j+qqqqqqqqaP29E96xrtNw+VVVVVVVVZT9OG+i0gU4LP6qqqqqqqpo/qqqqqqqqzj8AAAAAAAAAADm0yHa+nyo/xooaTMPwQT8AAAAAAAAAAKXi7MNn2AU/MzMzMzOzsT956SYxCKz8PnnpJjEIrBw/exSuR+F6FD8RERERERERP7gehetRuC4/VVVVVVVVdT8Egkm+z0MePxERERERERE/ERERERERQT97FK5H4XoUP6qqqqqqqqo/KrPx97/jET8=\",\"dtype\":\"float64\",\"order\":\"little\",\"shape\":[43]},\"TotalCoinsMined\":{\"__ndarray__\":\"QJ2JEWe5CT9G+kXRPrqvP6E2o8mnR2w/SlpF8nnQJz/cASSSnye2P/vloddycLE/a67CrbrHHT/k2f8OJqotP80af1dTIxk/P5oB0ILKLD80Fbqp1pUVPytrlVZVEmk/A4XArIYALz81Do5lRs0mPw/GOBHuSkU/n6rqLF/MAz/avJ5yXs1BP4VdO1Ms6Ss/AAAAAAAA8D96LQQ8GzajP5A1WEfgk7A+HVnt8U8CcD9KbitJ8oYQP2Tra4zypZk/Dldx2bcSoD5QfvaY7D7hPgJYGfYvqjY/FigAcnowJz9xpr0dPATHPwVy1K0umRY/Hled+VuWrj/we9J74Tf9PlOLTMCqoQk/VCRz8sg9AD8tpntBH3ITP9/BLexItj0/n8i1M/QXcj8UfrlO8cj5PrEFHmu+Zd8+Qd2+hRHNRD9yRzw53KsPPzbPUbyQOrs/GREfcSCpIj8=\",\"dtype\":\"float64\",\"order\":\"little\",\"shape\":[43]}},\"selected\":{\"id\":\"1341\"},\"selection_policy\":{\"id\":\"1355\"}},\"id\":\"1340\",\"type\":\"ColumnDataSource\"},{\"attributes\":{\"fill_alpha\":{\"value\":0.1},\"fill_color\":{\"value\":\"#30a2da\"},\"hatch_alpha\":{\"value\":0.1},\"hatch_color\":{\"value\":\"#30a2da\"},\"line_alpha\":{\"value\":0.1},\"line_color\":{\"value\":\"#30a2da\"},\"size\":{\"value\":5.477225575051661},\"x\":{\"field\":\"TotalCoinsMined\"},\"y\":{\"field\":\"TotalCoinSupply\"}},\"id\":\"1344\",\"type\":\"Scatter\"},{\"attributes\":{\"fill_alpha\":{\"value\":0.2},\"fill_color\":{\"value\":\"#fc4f30\"},\"hatch_alpha\":{\"value\":0.2},\"hatch_color\":{\"value\":\"#fc4f30\"},\"line_alpha\":{\"value\":0.2},\"line_color\":{\"value\":\"#fc4f30\"},\"size\":{\"value\":5.477225575051661},\"x\":{\"field\":\"TotalCoinsMined\"},\"y\":{\"field\":\"TotalCoinSupply\"}},\"id\":\"1366\",\"type\":\"Scatter\"},{\"attributes\":{\"click_policy\":\"mute\",\"coordinates\":null,\"group\":null,\"items\":[{\"id\":\"1359\"},{\"id\":\"1381\"},{\"id\":\"1405\"},{\"id\":\"1431\"},{\"id\":\"1459\"},{\"id\":\"1489\"},{\"id\":\"1521\"},{\"id\":\"1555\"},{\"id\":\"1591\"}],\"location\":[0,0],\"title\":\"Class\"},\"id\":\"1358\",\"type\":\"Legend\"},{\"attributes\":{\"source\":{\"id\":\"1361\"}},\"id\":\"1368\",\"type\":\"CDSView\"},{\"attributes\":{\"coordinates\":null,\"data_source\":{\"id\":\"1340\"},\"glyph\":{\"id\":\"1343\"},\"group\":null,\"hover_glyph\":null,\"muted_glyph\":{\"id\":\"1345\"},\"nonselection_glyph\":{\"id\":\"1344\"},\"selection_glyph\":{\"id\":\"1360\"},\"view\":{\"id\":\"1347\"}},\"id\":\"1346\",\"type\":\"GlyphRenderer\"},{\"attributes\":{\"fill_alpha\":{\"value\":0.2},\"fill_color\":{\"value\":\"#30a2da\"},\"hatch_alpha\":{\"value\":0.2},\"hatch_color\":{\"value\":\"#30a2da\"},\"line_alpha\":{\"value\":0.2},\"line_color\":{\"value\":\"#30a2da\"},\"size\":{\"value\":5.477225575051661},\"x\":{\"field\":\"TotalCoinsMined\"},\"y\":{\"field\":\"TotalCoinSupply\"}},\"id\":\"1345\",\"type\":\"Scatter\"},{\"attributes\":{\"fill_alpha\":{\"value\":0.2},\"fill_color\":{\"value\":\"#9467bd\"},\"hatch_alpha\":{\"value\":0.2},\"hatch_color\":{\"value\":\"#9467bd\"},\"line_alpha\":{\"value\":0.2},\"line_color\":{\"value\":\"#9467bd\"},\"size\":{\"value\":5.477225575051661},\"x\":{\"field\":\"TotalCoinsMined\"},\"y\":{\"field\":\"TotalCoinSupply\"}},\"id\":\"1496\",\"type\":\"Scatter\"},{\"attributes\":{\"margin\":[5,5,5,5],\"name\":\"HSpacer02553\",\"sizing_mode\":\"stretch_width\"},\"id\":\"1292\",\"type\":\"Spacer\"},{\"attributes\":{\"source\":{\"id\":\"1340\"}},\"id\":\"1347\",\"type\":\"CDSView\"},{\"attributes\":{\"fill_alpha\":{\"value\":0.1},\"fill_color\":{\"value\":\"#8b8b8b\"},\"hatch_alpha\":{\"value\":0.1},\"hatch_color\":{\"value\":\"#8b8b8b\"},\"line_alpha\":{\"value\":0.1},\"line_color\":{\"value\":\"#8b8b8b\"},\"size\":{\"value\":5.477225575051661},\"x\":{\"field\":\"TotalCoinsMined\"},\"y\":{\"field\":\"TotalCoinSupply\"}},\"id\":\"1437\",\"type\":\"Scatter\"},{\"attributes\":{\"label\":{\"value\":\"5\"},\"renderers\":[{\"id\":\"1467\"}]},\"id\":\"1489\",\"type\":\"LegendItem\"},{\"attributes\":{\"source\":{\"id\":\"1491\"}},\"id\":\"1498\",\"type\":\"CDSView\"},{\"attributes\":{\"fill_color\":{\"value\":\"#17becf\"},\"hatch_color\":{\"value\":\"#17becf\"},\"line_color\":{\"value\":\"#17becf\"},\"size\":{\"value\":5.477225575051661},\"x\":{\"field\":\"TotalCoinsMined\"},\"y\":{\"field\":\"TotalCoinSupply\"}},\"id\":\"1464\",\"type\":\"Scatter\"},{\"attributes\":{\"coordinates\":null,\"data_source\":{\"id\":\"1433\"},\"glyph\":{\"id\":\"1436\"},\"group\":null,\"hover_glyph\":null,\"muted_glyph\":{\"id\":\"1438\"},\"nonselection_glyph\":{\"id\":\"1437\"},\"selection_glyph\":{\"id\":\"1460\"},\"view\":{\"id\":\"1440\"}},\"id\":\"1439\",\"type\":\"GlyphRenderer\"},{\"attributes\":{},\"id\":\"1462\",\"type\":\"Selection\"},{\"attributes\":{\"fill_alpha\":{\"value\":0.1},\"fill_color\":{\"value\":\"#17becf\"},\"hatch_alpha\":{\"value\":0.1},\"hatch_color\":{\"value\":\"#17becf\"},\"line_alpha\":{\"value\":0.1},\"line_color\":{\"value\":\"#17becf\"},\"size\":{\"value\":5.477225575051661},\"x\":{\"field\":\"TotalCoinsMined\"},\"y\":{\"field\":\"TotalCoinSupply\"}},\"id\":\"1465\",\"type\":\"Scatter\"},{\"attributes\":{\"children\":[{\"id\":\"1292\"},{\"id\":\"1304\"},{\"id\":\"1827\"}],\"margin\":[0,0,0,0],\"name\":\"Row02549\",\"tags\":[\"embedded\"]},\"id\":\"1291\",\"type\":\"Row\"},{\"attributes\":{\"fill_color\":{\"value\":\"#30a2da\"},\"hatch_color\":{\"value\":\"#30a2da\"},\"line_color\":{\"value\":\"#30a2da\"},\"size\":{\"value\":5.477225575051661},\"x\":{\"field\":\"TotalCoinsMined\"},\"y\":{\"field\":\"TotalCoinSupply\"}},\"id\":\"1343\",\"type\":\"Scatter\"},{\"attributes\":{\"angle\":{\"value\":0.0},\"fill_alpha\":{\"value\":1.0},\"fill_color\":{\"value\":\"#d62728\"},\"hatch_alpha\":{\"value\":1.0},\"hatch_color\":{\"value\":\"#d62728\"},\"hatch_scale\":{\"value\":12.0},\"hatch_weight\":{\"value\":1.0},\"line_alpha\":{\"value\":1.0},\"line_cap\":{\"value\":\"butt\"},\"line_color\":{\"value\":\"#d62728\"},\"line_dash\":{\"value\":[]},\"line_dash_offset\":{\"value\":0},\"line_join\":{\"value\":\"bevel\"},\"line_width\":{\"value\":1},\"marker\":{\"value\":\"circle\"},\"size\":{\"value\":5.477225575051661},\"x\":{\"field\":\"TotalCoinsMined\"},\"y\":{\"field\":\"TotalCoinSupply\"}},\"id\":\"1556\",\"type\":\"Scatter\"},{\"attributes\":{\"data\":{\"Class\":[6,6],\"CoinName\":[\"EliteCoin\",\"Lamden Tau\"],\"TotalCoinSupply\":{\"__ndarray__\":\"fyOU0duyVj956SYxCKwsPw==\",\"dtype\":\"float64\",\"order\":\"little\",\"shape\":[2]},\"TotalCoinsMined\":{\"__ndarray__\":\"lsbL/RV7dz8uOkJVYN04Pw==\",\"dtype\":\"float64\",\"order\":\"little\",\"shape\":[2]}},\"selected\":{\"id\":\"1492\"},\"selection_policy\":{\"id\":\"1518\"}},\"id\":\"1491\",\"type\":\"ColumnDataSource\"},{\"attributes\":{\"fill_alpha\":{\"value\":0.2},\"fill_color\":{\"value\":\"#17becf\"},\"hatch_alpha\":{\"value\":0.2},\"hatch_color\":{\"value\":\"#17becf\"},\"line_alpha\":{\"value\":0.2},\"line_color\":{\"value\":\"#17becf\"},\"size\":{\"value\":5.477225575051661},\"x\":{\"field\":\"TotalCoinsMined\"},\"y\":{\"field\":\"TotalCoinSupply\"}},\"id\":\"1466\",\"type\":\"Scatter\"},{\"attributes\":{\"source\":{\"id\":\"1461\"}},\"id\":\"1468\",\"type\":\"CDSView\"}],\"root_ids\":[\"1291\"]},\"title\":\"Bokeh Application\",\"version\":\"2.4.2\"}};\n",
       "    var render_items = [{\"docid\":\"8d212cb8-74c9-48e7-92c4-e25615b3a208\",\"root_ids\":[\"1291\"],\"roots\":{\"1291\":\"9d5cb8cc-3f75-43f1-bc49-0373362ea980\"}}];\n",
       "    root.Bokeh.embed.embed_items_notebook(docs_json, render_items);\n",
       "  }\n",
       "  if (root.Bokeh !== undefined && root.Bokeh.Panel !== undefined) {\n",
       "    embed_document(root);\n",
       "  } else {\n",
       "    var attempts = 0;\n",
       "    var timer = setInterval(function(root) {\n",
       "      if (root.Bokeh !== undefined && root.Bokeh.Panel !== undefined) {\n",
       "        clearInterval(timer);\n",
       "        embed_document(root);\n",
       "      } else if (document.readyState == \"complete\") {\n",
       "        attempts++;\n",
       "        if (attempts > 200) {\n",
       "          clearInterval(timer);\n",
       "          console.log(\"Bokeh: ERROR: Unable to run BokehJS code because BokehJS library is missing\");\n",
       "        }\n",
       "      }\n",
       "    }, 25, root)\n",
       "  }\n",
       "})(window);</script>"
      ],
      "text/plain": [
       ":NdOverlay   [Class]\n",
       "   :Scatter   [TotalCoinsMined]   (TotalCoinSupply,CoinName)"
      ]
     },
     "execution_count": 77,
     "metadata": {
      "application/vnd.holoviews_exec.v0+json": {
       "id": "1291"
      }
     },
     "output_type": "execute_result"
    }
   ],
   "source": [
    "# Create a hvplot.scatter plot using x=\"TotalCoinsMined\" and y=\"TotalCoinSupply\".\n",
    "sc_df.hvplot.scatter(x='TotalCoinsMined', y='TotalCoinSupply', hover_cols='CoinName', by='Class')"
   ]
  },
  {
   "cell_type": "code",
   "execution_count": null,
   "metadata": {},
   "outputs": [],
   "source": []
  }
 ],
 "metadata": {
  "file_extension": ".py",
  "kernelspec": {
   "display_name": "base",
   "language": "python",
   "name": "python3"
  },
  "language_info": {
   "codemirror_mode": {
    "name": "ipython",
    "version": 3
   },
   "file_extension": ".py",
   "mimetype": "text/x-python",
   "name": "python",
   "nbconvert_exporter": "python",
   "pygments_lexer": "ipython3",
   "version": "3.9.12"
  },
  "latex_envs": {
   "LaTeX_envs_menu_present": true,
   "autoclose": false,
   "autocomplete": true,
   "bibliofile": "biblio.bib",
   "cite_by": "apalike",
   "current_citInitial": 1,
   "eqLabelWithNumbers": true,
   "eqNumInitial": 1,
   "hotkeys": {
    "equation": "Ctrl-E",
    "itemize": "Ctrl-I"
   },
   "labels_anchors": false,
   "latex_user_defs": false,
   "report_style_numbering": false,
   "user_envs_cfg": false
  },
  "mimetype": "text/x-python",
  "name": "python",
  "npconvert_exporter": "python",
  "pygments_lexer": "ipython3",
  "version": 3,
  "vscode": {
   "interpreter": {
    "hash": "6634fa003414b3fe371fa51d3410ce43ffe76379162d2acd0da6a469ef78e2f6"
   }
  }
 },
 "nbformat": 4,
 "nbformat_minor": 2
}
